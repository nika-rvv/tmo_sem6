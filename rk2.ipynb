{
 "cells":[
  {
   "cell_type":"markdown",
   "source":[
    "# РК №2 Рябова В.В."
   ],
   "attachments":{
    
   },
   "metadata":{
    "datalore":{
     "type":"MD",
     "hide_input_from_viewers":false,
     "hide_output_from_viewers":false
    }
   }
  },
  {
   "cell_type":"markdown",
   "source":[
    "## Задание.\n",
    "Для заданного набора данных (по Вашему варианту) постройте модели классификации или регрессии (в зависимости от конкретной задачи, рассматриваемой в наборе данных). Для построения моделей используйте методы 1 и 2 (по варианту для Вашей группы). Оцените качество моделей на основе подходящих метрик качества (не менее двух метрик). Какие метрики качества Вы использовали и почему? Какие выводы Вы можете сделать о качестве построенных моделей? Для построения моделей необходимо выполнить требуемую предобработку данных: заполнение пропусков, кодирование категориальных признаков, и т.д.\n",
    "\n",
    "ИУ5-65Б\tМетод опорных векторов\tГрадиентный бустинг"
   ],
   "attachments":{
    
   },
   "metadata":{
    "datalore":{
     "type":"MD",
     "hide_input_from_viewers":false,
     "hide_output_from_viewers":false
    }
   }
  },
  {
   "cell_type":"code",
   "source":[
    "import pandas as pd\n",
    "import numpy as np\n",
    "import matplotlib.pyplot as plt\n",
    "import seaborn as sns\n",
    "import matplotlib.pyplot as plt\n",
    "import seaborn as sns\n",
    "from sklearn import preprocessing\n",
    "from sklearn import svm\n",
    "from sklearn.model_selection import train_test_split, cross_val_score, ShuffleSplit\n",
    "from sklearn.metrics import mean_absolute_error, mean_absolute_percentage_error, mean_squared_error\n",
    "from sklearn.datasets import load_iris\n",
    "from sklearn.preprocessing import StandardScaler, MinMaxScaler\n",
    "from sklearn.model_selection import train_test_split, GridSearchCV\n",
    "from sklearn.svm import SVC\n",
    "from sklearn.ensemble import RandomForestClassifier\n",
    "from sklearn.metrics import accuracy_score, precision_score, recall_score, f1_score, confusion_matrix, classification_report"
   ],
   "execution_count":null,
   "outputs":[
    
   ],
   "metadata":{
    "datalore":{
     "type":"CODE",
     "hide_input_from_viewers":false,
     "hide_output_from_viewers":false
    }
   }
  },
  {
   "cell_type":"code",
   "source":[
    "data = pd.read_csv('states_all.csv')"
   ],
   "execution_count":null,
   "outputs":[
    
   ],
   "metadata":{
    "datalore":{
     "type":"CODE",
     "hide_input_from_viewers":false,
     "hide_output_from_viewers":false
    }
   }
  },
  {
   "cell_type":"code",
   "source":[
    "data.shape"
   ],
   "execution_count":null,
   "outputs":[
    {
     "data":{
      "text\/plain":[
       "(1715, 25)"
      ]
     },
     "metadata":{
      
     },
     "output_type":"display_data"
    }
   ],
   "metadata":{
    "datalore":{
     "type":"CODE",
     "hide_input_from_viewers":false,
     "hide_output_from_viewers":false
    }
   }
  },
  {
   "cell_type":"code",
   "source":[
    "data.head()"
   ],
   "execution_count":null,
   "outputs":[
    {
     "data":{
      "text\/html":[
       "<div>\n",
       "<style scoped>\n",
       "    .dataframe tbody tr th:only-of-type {\n",
       "        vertical-align: middle;\n",
       "    }\n",
       "\n",
       "    .dataframe tbody tr th {\n",
       "        vertical-align: top;\n",
       "    }\n",
       "\n",
       "    .dataframe thead th {\n",
       "        text-align: right;\n",
       "    }\n",
       "<\/style>\n",
       "<table border=\"1\" class=\"dataframe\">\n",
       "  <thead>\n",
       "    <tr style=\"text-align: right;\">\n",
       "      <th><\/th>\n",
       "      <th>PRIMARY_KEY<\/th>\n",
       "      <th>STATE<\/th>\n",
       "      <th>YEAR<\/th>\n",
       "      <th>ENROLL<\/th>\n",
       "      <th>TOTAL_REVENUE<\/th>\n",
       "      <th>FEDERAL_REVENUE<\/th>\n",
       "      <th>STATE_REVENUE<\/th>\n",
       "      <th>LOCAL_REVENUE<\/th>\n",
       "      <th>TOTAL_EXPENDITURE<\/th>\n",
       "      <th>INSTRUCTION_EXPENDITURE<\/th>\n",
       "      <th>...<\/th>\n",
       "      <th>GRADES_4_G<\/th>\n",
       "      <th>GRADES_8_G<\/th>\n",
       "      <th>GRADES_12_G<\/th>\n",
       "      <th>GRADES_1_8_G<\/th>\n",
       "      <th>GRADES_9_12_G<\/th>\n",
       "      <th>GRADES_ALL_G<\/th>\n",
       "      <th>AVG_MATH_4_SCORE<\/th>\n",
       "      <th>AVG_MATH_8_SCORE<\/th>\n",
       "      <th>AVG_READING_4_SCORE<\/th>\n",
       "      <th>AVG_READING_8_SCORE<\/th>\n",
       "    <\/tr>\n",
       "  <\/thead>\n",
       "  <tbody>\n",
       "    <tr>\n",
       "      <th>0<\/th>\n",
       "      <td>1992_ALABAMA<\/td>\n",
       "      <td>ALABAMA<\/td>\n",
       "      <td>1992<\/td>\n",
       "      <td>NaN<\/td>\n",
       "      <td>2678885.0<\/td>\n",
       "      <td>304177.0<\/td>\n",
       "      <td>1659028.0<\/td>\n",
       "      <td>715680.0<\/td>\n",
       "      <td>2653798.0<\/td>\n",
       "      <td>1481703.0<\/td>\n",
       "      <td>...<\/td>\n",
       "      <td>57948.0<\/td>\n",
       "      <td>58025.0<\/td>\n",
       "      <td>41167.0<\/td>\n",
       "      <td>NaN<\/td>\n",
       "      <td>NaN<\/td>\n",
       "      <td>731634.0<\/td>\n",
       "      <td>208.0<\/td>\n",
       "      <td>252.0<\/td>\n",
       "      <td>207.0<\/td>\n",
       "      <td>NaN<\/td>\n",
       "    <\/tr>\n",
       "    <tr>\n",
       "      <th>1<\/th>\n",
       "      <td>1992_ALASKA<\/td>\n",
       "      <td>ALASKA<\/td>\n",
       "      <td>1992<\/td>\n",
       "      <td>NaN<\/td>\n",
       "      <td>1049591.0<\/td>\n",
       "      <td>106780.0<\/td>\n",
       "      <td>720711.0<\/td>\n",
       "      <td>222100.0<\/td>\n",
       "      <td>972488.0<\/td>\n",
       "      <td>498362.0<\/td>\n",
       "      <td>...<\/td>\n",
       "      <td>9748.0<\/td>\n",
       "      <td>8789.0<\/td>\n",
       "      <td>6714.0<\/td>\n",
       "      <td>NaN<\/td>\n",
       "      <td>NaN<\/td>\n",
       "      <td>122487.0<\/td>\n",
       "      <td>NaN<\/td>\n",
       "      <td>NaN<\/td>\n",
       "      <td>NaN<\/td>\n",
       "      <td>NaN<\/td>\n",
       "    <\/tr>\n",
       "    <tr>\n",
       "      <th>2<\/th>\n",
       "      <td>1992_ARIZONA<\/td>\n",
       "      <td>ARIZONA<\/td>\n",
       "      <td>1992<\/td>\n",
       "      <td>NaN<\/td>\n",
       "      <td>3258079.0<\/td>\n",
       "      <td>297888.0<\/td>\n",
       "      <td>1369815.0<\/td>\n",
       "      <td>1590376.0<\/td>\n",
       "      <td>3401580.0<\/td>\n",
       "      <td>1435908.0<\/td>\n",
       "      <td>...<\/td>\n",
       "      <td>55433.0<\/td>\n",
       "      <td>49081.0<\/td>\n",
       "      <td>37410.0<\/td>\n",
       "      <td>NaN<\/td>\n",
       "      <td>NaN<\/td>\n",
       "      <td>673477.0<\/td>\n",
       "      <td>215.0<\/td>\n",
       "      <td>265.0<\/td>\n",
       "      <td>209.0<\/td>\n",
       "      <td>NaN<\/td>\n",
       "    <\/tr>\n",
       "    <tr>\n",
       "      <th>3<\/th>\n",
       "      <td>1992_ARKANSAS<\/td>\n",
       "      <td>ARKANSAS<\/td>\n",
       "      <td>1992<\/td>\n",
       "      <td>NaN<\/td>\n",
       "      <td>1711959.0<\/td>\n",
       "      <td>178571.0<\/td>\n",
       "      <td>958785.0<\/td>\n",
       "      <td>574603.0<\/td>\n",
       "      <td>1743022.0<\/td>\n",
       "      <td>964323.0<\/td>\n",
       "      <td>...<\/td>\n",
       "      <td>34632.0<\/td>\n",
       "      <td>36011.0<\/td>\n",
       "      <td>27651.0<\/td>\n",
       "      <td>NaN<\/td>\n",
       "      <td>NaN<\/td>\n",
       "      <td>441490.0<\/td>\n",
       "      <td>210.0<\/td>\n",
       "      <td>256.0<\/td>\n",
       "      <td>211.0<\/td>\n",
       "      <td>NaN<\/td>\n",
       "    <\/tr>\n",
       "    <tr>\n",
       "      <th>4<\/th>\n",
       "      <td>1992_CALIFORNIA<\/td>\n",
       "      <td>CALIFORNIA<\/td>\n",
       "      <td>1992<\/td>\n",
       "      <td>NaN<\/td>\n",
       "      <td>26260025.0<\/td>\n",
       "      <td>2072470.0<\/td>\n",
       "      <td>16546514.0<\/td>\n",
       "      <td>7641041.0<\/td>\n",
       "      <td>27138832.0<\/td>\n",
       "      <td>14358922.0<\/td>\n",
       "      <td>...<\/td>\n",
       "      <td>418418.0<\/td>\n",
       "      <td>363296.0<\/td>\n",
       "      <td>270675.0<\/td>\n",
       "      <td>NaN<\/td>\n",
       "      <td>NaN<\/td>\n",
       "      <td>5254844.0<\/td>\n",
       "      <td>208.0<\/td>\n",
       "      <td>261.0<\/td>\n",
       "      <td>202.0<\/td>\n",
       "      <td>NaN<\/td>\n",
       "    <\/tr>\n",
       "  <\/tbody>\n",
       "<\/table>\n",
       "<p>5 rows × 25 columns<\/p>\n",
       "<\/div>"
      ]
     },
     "metadata":{
      
     },
     "output_type":"display_data"
    }
   ],
   "metadata":{
    "datalore":{
     "type":"CODE",
     "hide_input_from_viewers":false,
     "hide_output_from_viewers":false
    }
   }
  },
  {
   "cell_type":"code",
   "source":[
    "(data.isnull() | data.empty | data.isna()).sum()"
   ],
   "execution_count":null,
   "outputs":[
    {
     "data":{
      "text\/html":[
       
      ]
     },
     "metadata":{
      
     },
     "output_type":"display_data"
    }
   ],
   "metadata":{
    "datalore":{
     "type":"CODE",
     "hide_input_from_viewers":false,
     "hide_output_from_viewers":false
    }
   }
  },
  {
   "cell_type":"markdown",
   "source":[
    "## Процент пропусков в каждом признаке"
   ],
   "attachments":{
    
   },
   "metadata":{
    "datalore":{
     "type":"MD",
     "hide_input_from_viewers":false,
     "hide_output_from_viewers":false
    }
   }
  },
  {
   "cell_type":"code",
   "source":[
    "target_column = 'AVG_READING_4_SCORE'\n",
    "data = data[(data[target_column].isna() == False)]"
   ],
   "execution_count":null,
   "outputs":[
    
   ],
   "metadata":{
    "datalore":{
     "type":"CODE",
     "hide_input_from_viewers":false,
     "hide_output_from_viewers":false
    }
   }
  },
  {
   "cell_type":"code",
   "source":[
    "(data.isnull() | data.empty | data.isna()).sum()"
   ],
   "execution_count":null,
   "outputs":[
    {
     "data":{
      "text\/html":[
       
      ]
     },
     "metadata":{
      
     },
     "output_type":"display_data"
    }
   ],
   "metadata":{
    "datalore":{
     "type":"CODE",
     "hide_input_from_viewers":false,
     "hide_output_from_viewers":false
    }
   }
  },
  {
   "cell_type":"code",
   "source":[
    "row_count = data.shape[0]\n",
    "for key, elem in (data.isnull() | data.empty | data.isna()).sum().items():\n",
    "  print(key, \"{:.2f}\".format(elem \/ row_count * 100) + \"%\" )"
   ],
   "execution_count":null,
   "outputs":[
    {
     "name":"stdout",
     "text":[
      "PRIMARY_KEY 0.00%\n",
      "STATE 0.00%\n",
      "YEAR 0.00%\n",
      "ENROLL 26.00%\n",
      "TOTAL_REVENUE 19.54%\n",
      "FEDERAL_REVENUE 19.54%\n",
      "STATE_REVENUE 19.54%\n",
      "LOCAL_REVENUE 19.54%\n",
      "TOTAL_EXPENDITURE 19.54%\n",
      "INSTRUCTION_EXPENDITURE 19.54%\n",
      "SUPPORT_SERVICES_EXPENDITURE 19.54%\n",
      "OTHER_EXPENDITURE 26.00%\n",
      "CAPITAL_OUTLAY_EXPENDITURE 19.54%\n",
      "GRADES_PK_G 12.46%\n",
      "GRADES_KG_G 11.69%\n",
      "GRADES_4_G 11.69%\n",
      "GRADES_8_G 11.69%\n",
      "GRADES_12_G 11.69%\n",
      "GRADES_1_8_G 32.15%\n",
      "GRADES_9_12_G 24.31%\n",
      "GRADES_ALL_G 11.69%\n",
      "AVG_MATH_4_SCORE 19.85%\n",
      "AVG_MATH_8_SCORE 19.85%\n",
      "AVG_READING_4_SCORE 0.00%\n",
      "AVG_READING_8_SCORE 13.54%\n"
     ],
     "output_type":"stream"
    }
   ],
   "metadata":{
    "datalore":{
     "type":"CODE",
     "hide_input_from_viewers":false,
     "hide_output_from_viewers":false
    }
   }
  },
  {
   "cell_type":"code",
   "source":[
    "row_count = data.shape[0]\n",
    "columns_to_remove = []\n",
    "for key, elem in (data.isnull() | data.empty | data.isna()).sum().items():\n",
    "  if elem \/ row_count >= 0.3:\n",
    "    columns_to_remove.append(key)\n",
    "columns_to_remove"
   ],
   "execution_count":null,
   "outputs":[
    {
     "data":{
      "text\/plain":[
       "['GRADES_1_8_G']"
      ]
     },
     "metadata":{
      
     },
     "output_type":"display_data"
    }
   ],
   "metadata":{
    "datalore":{
     "type":"CODE",
     "hide_input_from_viewers":false,
     "hide_output_from_viewers":false
    }
   }
  },
  {
   "cell_type":"code",
   "source":[
    "data_new = data.drop(columns_to_remove, axis=1)\n",
    "data_new.info()"
   ],
   "execution_count":null,
   "outputs":[
    {
     "name":"stdout",
     "text":[
      "<class 'pandas.core.frame.DataFrame'>\n",
      "Int64Index: 650 entries, 0 to 1714\n",
      "Data columns (total 24 columns):\n",
      " #   Column                        Non-Null Count  Dtype  \n",
      "---  ------                        --------------  -----  \n",
      " 0   PRIMARY_KEY                   650 non-null    object \n",
      " 1   STATE                         650 non-null    object \n",
      " 2   YEAR                          650 non-null    int64  \n",
      " 3   ENROLL                        481 non-null    float64\n",
      " 4   TOTAL_REVENUE                 523 non-null    float64\n",
      " 5   FEDERAL_REVENUE               523 non-null    float64\n",
      " 6   STATE_REVENUE                 523 non-null    float64\n",
      " 7   LOCAL_REVENUE                 523 non-null    float64\n",
      " 8   TOTAL_EXPENDITURE             523 non-null    float64\n",
      " 9   INSTRUCTION_EXPENDITURE       523 non-null    float64\n",
      " 10  SUPPORT_SERVICES_EXPENDITURE  523 non-null    float64\n",
      " 11  OTHER_EXPENDITURE             481 non-null    float64\n",
      " 12  CAPITAL_OUTLAY_EXPENDITURE    523 non-null    float64\n",
      " 13  GRADES_PK_G                   569 non-null    float64\n",
      " 14  GRADES_KG_G                   574 non-null    float64\n",
      " 15  GRADES_4_G                    574 non-null    float64\n",
      " 16  GRADES_8_G                    574 non-null    float64\n",
      " 17  GRADES_12_G                   574 non-null    float64\n",
      " 18  GRADES_9_12_G                 492 non-null    float64\n",
      " 19  GRADES_ALL_G                  574 non-null    float64\n",
      " 20  AVG_MATH_4_SCORE              521 non-null    float64\n",
      " 21  AVG_MATH_8_SCORE              521 non-null    float64\n",
      " 22  AVG_READING_4_SCORE           650 non-null    float64\n",
      " 23  AVG_READING_8_SCORE           562 non-null    float64\n",
      "dtypes: float64(21), int64(1), object(2)\n",
      "memory usage: 127.0+ KB\n"
     ],
     "output_type":"stream"
    }
   ],
   "metadata":{
    "datalore":{
     "type":"CODE",
     "hide_input_from_viewers":false,
     "hide_output_from_viewers":false
    }
   }
  },
  {
   "cell_type":"markdown",
   "source":[
    "## Обработка пропусков данных"
   ],
   "attachments":{
    
   },
   "metadata":{
    "datalore":{
     "type":"MD",
     "hide_input_from_viewers":false,
     "hide_output_from_viewers":false
    }
   }
  },
  {
   "cell_type":"code",
   "source":[
    "for column in data_new:\n",
    "  if (data_new[column].isnull() | data_new[column].empty | data_new[column].isna()).sum() != 0:\n",
    "    if data_new[column].dtype != 'object':\n",
    "      print(column + \":\", data_new[column].describe()[['mean']][0])\n",
    "    else:\n",
    "      print(column + \":\", data_new[column].describe()[['top']][0])"
   ],
   "execution_count":null,
   "outputs":[
    {
     "name":"stdout",
     "text":[
      "ENROLL: 934450.4885654886\n",
      "TOTAL_REVENUE: 9610588.969407266\n",
      "FEDERAL_REVENUE: 840781.4225621414\n",
      "STATE_REVENUE: 4467784.89292543\n",
      "LOCAL_REVENUE: 4302022.653919694\n",
      "TOTAL_EXPENDITURE: 9730734.829827916\n",
      "INSTRUCTION_EXPENDITURE: 5039264.764818355\n",
      "SUPPORT_SERVICES_EXPENDITURE: 2834123.634799235\n",
      "OTHER_EXPENDITURE: 461512.7006237006\n",
      "CAPITAL_OUTLAY_EXPENDITURE: 954404.3078393881\n",
      "GRADES_PK_G: 21156.2460456942\n",
      "GRADES_KG_G: 71505.45296167248\n",
      "GRADES_4_G: 72367.06794425087\n",
      "GRADES_8_G: 72312.85365853658\n",
      "GRADES_12_G: 62889.35017421603\n",
      "GRADES_9_12_G: 286875.8699186992\n",
      "GRADES_ALL_G: 961249.6393728222\n",
      "AVG_MATH_4_SCORE: 237.39539347408828\n",
      "AVG_MATH_8_SCORE: 279.9846449136276\n",
      "AVG_READING_8_SCORE: 263.55871886120997\n"
     ],
     "output_type":"stream"
    }
   ],
   "metadata":{
    "datalore":{
     "type":"CODE",
     "hide_input_from_viewers":false,
     "hide_output_from_viewers":false
    }
   }
  },
  {
   "cell_type":"code",
   "source":[
    "for column in data_new:\n",
    "  if (data_new[column].isnull() | data_new[column].empty | data_new[column].isna()).sum() != 0:\n",
    "    if data_new[column].dtype != 'object' and column != target_column:\n",
    "      data_new[column].fillna(data_new[column].median(), inplace=True)"
   ],
   "execution_count":null,
   "outputs":[
    
   ],
   "metadata":{
    "datalore":{
     "type":"CODE",
     "hide_input_from_viewers":false,
     "hide_output_from_viewers":false
    }
   }
  },
  {
   "cell_type":"code",
   "source":[
    "(data_new.isnull() | data_new.empty | data_new.isna()).sum()"
   ],
   "execution_count":null,
   "outputs":[
    {
     "data":{
      "text\/html":[
       
      ]
     },
     "metadata":{
      
     },
     "output_type":"display_data"
    }
   ],
   "metadata":{
    "datalore":{
     "type":"CODE",
     "hide_input_from_viewers":false,
     "hide_output_from_viewers":false
    }
   }
  },
  {
   "cell_type":"code",
   "source":[
    "data_new.info()"
   ],
   "execution_count":null,
   "outputs":[
    {
     "name":"stdout",
     "text":[
      "<class 'pandas.core.frame.DataFrame'>\n",
      "Int64Index: 650 entries, 0 to 1714\n",
      "Data columns (total 24 columns):\n",
      " #   Column                        Non-Null Count  Dtype  \n",
      "---  ------                        --------------  -----  \n",
      " 0   PRIMARY_KEY                   650 non-null    object \n",
      " 1   STATE                         650 non-null    object \n",
      " 2   YEAR                          650 non-null    int64  \n",
      " 3   ENROLL                        650 non-null    float64\n",
      " 4   TOTAL_REVENUE                 650 non-null    float64\n",
      " 5   FEDERAL_REVENUE               650 non-null    float64\n",
      " 6   STATE_REVENUE                 650 non-null    float64\n",
      " 7   LOCAL_REVENUE                 650 non-null    float64\n",
      " 8   TOTAL_EXPENDITURE             650 non-null    float64\n",
      " 9   INSTRUCTION_EXPENDITURE       650 non-null    float64\n",
      " 10  SUPPORT_SERVICES_EXPENDITURE  650 non-null    float64\n",
      " 11  OTHER_EXPENDITURE             650 non-null    float64\n",
      " 12  CAPITAL_OUTLAY_EXPENDITURE    650 non-null    float64\n",
      " 13  GRADES_PK_G                   650 non-null    float64\n",
      " 14  GRADES_KG_G                   650 non-null    float64\n",
      " 15  GRADES_4_G                    650 non-null    float64\n",
      " 16  GRADES_8_G                    650 non-null    float64\n",
      " 17  GRADES_12_G                   650 non-null    float64\n",
      " 18  GRADES_9_12_G                 650 non-null    float64\n",
      " 19  GRADES_ALL_G                  650 non-null    float64\n",
      " 20  AVG_MATH_4_SCORE              650 non-null    float64\n",
      " 21  AVG_MATH_8_SCORE              650 non-null    float64\n",
      " 22  AVG_READING_4_SCORE           650 non-null    float64\n",
      " 23  AVG_READING_8_SCORE           650 non-null    float64\n",
      "dtypes: float64(21), int64(1), object(2)\n",
      "memory usage: 127.0+ KB\n"
     ],
     "output_type":"stream"
    }
   ],
   "metadata":{
    "datalore":{
     "type":"CODE",
     "hide_input_from_viewers":false,
     "hide_output_from_viewers":false
    }
   }
  },
  {
   "cell_type":"code",
   "source":[
    "category_cols = ['PRIMARY_KEY', 'STATE']\n",
    "print(\"Количество уникальных значений\\n\")\n",
    "for col in category_cols:\n",
    "    print(f'{col}: {data_new[col].unique().size}')"
   ],
   "execution_count":null,
   "outputs":[
    {
     "name":"stdout",
     "text":[
      "Количество уникальных значений\n",
      "\n",
      "PRIMARY_KEY: 650\n",
      "STATE: 53\n"
     ],
     "output_type":"stream"
    }
   ],
   "metadata":{
    "datalore":{
     "type":"CODE",
     "hide_input_from_viewers":false,
     "hide_output_from_viewers":false
    }
   }
  },
  {
   "cell_type":"code",
   "source":[
    "data_new = data_new.drop(category_cols, axis=1)"
   ],
   "execution_count":null,
   "outputs":[
    
   ],
   "metadata":{
    "datalore":{
     "type":"CODE",
     "hide_input_from_viewers":false,
     "hide_output_from_viewers":false
    }
   }
  },
  {
   "cell_type":"code",
   "source":[
    "X_data = data_new[['YEAR',\n",
    " 'ENROLL',\n",
    " 'FEDERAL_REVENUE',\n",
    " 'STATE_REVENUE',\n",
    " 'LOCAL_REVENUE',\n",
    " 'INSTRUCTION_EXPENDITURE',\n",
    " 'SUPPORT_SERVICES_EXPENDITURE',\n",
    " 'OTHER_EXPENDITURE',\n",
    " 'CAPITAL_OUTLAY_EXPENDITURE',\n",
    " 'GRADES_ALL_G']] \n",
    "Y_data = data_new[target_column].to_list()"
   ],
   "execution_count":null,
   "outputs":[
    
   ],
   "metadata":{
    "datalore":{
     "type":"CODE",
     "hide_input_from_viewers":false,
     "hide_output_from_viewers":false
    }
   }
  },
  {
   "cell_type":"code",
   "source":[
    "X_data = preprocessing.normalize(X_data,axis = 0)"
   ],
   "execution_count":null,
   "outputs":[
    
   ],
   "metadata":{
    "datalore":{
     "type":"CODE",
     "hide_input_from_viewers":false,
     "hide_output_from_viewers":false
    }
   }
  },
  {
   "cell_type":"code",
   "source":[
    "X_data.shape"
   ],
   "execution_count":null,
   "outputs":[
    {
     "data":{
      "text\/plain":[
       "(650, 10)"
      ]
     },
     "metadata":{
      
     },
     "output_type":"display_data"
    }
   ],
   "metadata":{
    "datalore":{
     "type":"CODE",
     "hide_input_from_viewers":false,
     "hide_output_from_viewers":false
    }
   }
  },
  {
   "cell_type":"code",
   "source":[
    "X_train, X_test, y_train, y_test = train_test_split(\n",
    "     X_data, Y_data, test_size=0.3, random_state=42)"
   ],
   "execution_count":null,
   "outputs":[
    
   ],
   "metadata":{
    "datalore":{
     "type":"CODE",
     "hide_input_from_viewers":false,
     "hide_output_from_viewers":false
    }
   }
  },
  {
   "cell_type":"code",
   "source":[
    "data_new.isnull().sum()"
   ],
   "execution_count":null,
   "outputs":[
    {
     "data":{
      "text\/html":[
       
      ]
     },
     "metadata":{
      
     },
     "output_type":"display_data"
    }
   ],
   "metadata":{
    "datalore":{
     "type":"CODE",
     "hide_input_from_viewers":false,
     "hide_output_from_viewers":false
    }
   }
  },
  {
   "cell_type":"markdown",
   "source":[
    "## Метод опорных векторов"
   ],
   "attachments":{
    
   },
   "metadata":{
    "datalore":{
     "type":"MD",
     "hide_input_from_viewers":false,
     "hide_output_from_viewers":false
    }
   }
  },
  {
   "cell_type":"code",
   "source":[
    "from sklearn.svm import SVC\n",
    "SVC = SVC(kernel='rbf')\n",
    "SVC.fit(X_train, y_train)"
   ],
   "execution_count":null,
   "outputs":[
    {
     "data":{
      "text\/plain":[
       "SVC()"
      ]
     },
     "metadata":{
      
     },
     "output_type":"display_data"
    }
   ],
   "metadata":{
    "datalore":{
     "type":"CODE",
     "hide_input_from_viewers":false,
     "hide_output_from_viewers":false
    }
   }
  },
  {
   "cell_type":"code",
   "source":[
    "f1_score(y_test, SVC.predict(X_test), average='micro')\n",
    "precision_score(y_test, SVC.predict(X_test), average='micro')"
   ],
   "execution_count":null,
   "outputs":[
    {
     "data":{
      "text\/plain":[
       "0.06153846153846154"
      ]
     },
     "metadata":{
      
     },
     "output_type":"display_data"
    }
   ],
   "metadata":{
    "datalore":{
     "type":"CODE",
     "hide_input_from_viewers":false,
     "hide_output_from_viewers":false
    }
   }
  },
  {
   "cell_type":"markdown",
   "source":[
    "## Градиентный бустинг"
   ],
   "attachments":{
    
   },
   "metadata":{
    "datalore":{
     "type":"MD",
     "hide_input_from_viewers":false,
     "hide_output_from_viewers":false
    }
   }
  },
  {
   "cell_type":"code",
   "source":[
    "from sklearn.ensemble import GradientBoostingRegressor\n",
    "\n",
    "gr_80 = GradientBoostingRegressor(n_estimators=80)\n",
    "gr_80.fit(X_train, y_train)"
   ],
   "execution_count":null,
   "outputs":[
    {
     "data":{
      "text\/plain":[
       "GradientBoostingRegressor(n_estimators=80)"
      ]
     },
     "metadata":{
      
     },
     "output_type":"display_data"
    }
   ],
   "metadata":{
    "datalore":{
     "type":"CODE",
     "hide_input_from_viewers":false,
     "hide_output_from_viewers":false
    }
   }
  },
  {
   "cell_type":"code",
   "source":[
    "from sklearn.neighbors import KNeighborsRegressor\n",
    "from sklearn.metrics import mean_absolute_error\n",
    "from sklearn.metrics import median_absolute_error, r2_score\n",
    "\n",
    "def test_model(model):\n",
    "    print('mean_absolute_error: {}'.format(round(mean_absolute_error(y_test, model.predict(X_test)), 2)))\n",
    "    print('median_absolute_error: {}'.format(round(median_absolute_error(y_test, model.predict(X_test)), 2)))\n",
    "    print('r2_score: {}'.format(round(r2_score(y_test, model.predict(X_test)), 2)))"
   ],
   "execution_count":null,
   "outputs":[
    
   ],
   "metadata":{
    "datalore":{
     "type":"CODE",
     "hide_input_from_viewers":false,
     "hide_output_from_viewers":false
    }
   }
  },
  {
   "cell_type":"code",
   "source":[
    "test_model(gr_80)"
   ],
   "execution_count":null,
   "outputs":[
    {
     "name":"stdout",
     "text":[
      "mean_absolute_error: 3.57\n",
      "median_absolute_error: 2.91\n",
      "r2_score: 0.62\n"
     ],
     "output_type":"stream"
    }
   ],
   "metadata":{
    "datalore":{
     "type":"CODE",
     "hide_input_from_viewers":false,
     "hide_output_from_viewers":false
    }
   }
  },
  {
   "cell_type":"code",
   "source":[
    "from sklearn.model_selection import ShuffleSplit\n",
    "param_range = np.arange(50, 170, 10)\n",
    "tuned_parameters = [{'n_estimators': param_range}]\n",
    "gs = GridSearchCV(GradientBoostingRegressor(), tuned_parameters,\n",
    "                  cv=ShuffleSplit(n_splits=10), scoring=\"r2\",\n",
    "                  return_train_score=True, n_jobs=-1)\n",
    "gs.fit(X_data, Y_data)"
   ],
   "execution_count":null,
   "outputs":[
    {
     "data":{
      "text\/plain":[
       "GridSearchCV(cv=ShuffleSplit(n_splits=10, random_state=None, test_size=None, train_size=None),\n",
       "             estimator=GradientBoostingRegressor(), n_jobs=-1,\n",
       "             param_grid=[{'n_estimators': array([ 50,  60,  70,  80,  90, 100, 110, 120, 130, 140, 150, 160])}],\n",
       "             return_train_score=True, scoring='r2')"
      ]
     },
     "metadata":{
      
     },
     "output_type":"display_data"
    }
   ],
   "metadata":{
    "datalore":{
     "type":"CODE",
     "hide_input_from_viewers":false,
     "hide_output_from_viewers":false
    }
   }
  },
  {
   "cell_type":"code",
   "source":[
    "reg = gs.best_estimator_"
   ],
   "execution_count":null,
   "outputs":[
    
   ],
   "metadata":{
    "datalore":{
     "type":"CODE",
     "hide_input_from_viewers":false,
     "hide_output_from_viewers":false
    }
   }
  },
  {
   "cell_type":"code",
   "source":[
    "import matplotlib.pyplot as plt\n",
    "\n",
    "plt.plot(param_range, gs.cv_results_[\"mean_train_score\"]);"
   ],
   "execution_count":null,
   "outputs":[
    {
     "data":{
      "image\/png":"[encoded data removed]"
     },
     "metadata":{
      "image\/png":{
       
      }
     },
     "output_type":"display_data"
    }
   ],
   "metadata":{
    "datalore":{
     "type":"CODE",
     "hide_input_from_viewers":false,
     "hide_output_from_viewers":false
    }
   }
  },
  {
   "cell_type":"code",
   "source":[
    "plt.plot(param_range, gs.cv_results_[\"mean_test_score\"]);"
   ],
   "execution_count":null,
   "outputs":[
    {
     "data":{
      "image\/png":"[encoded data removed]"
     },
     "metadata":{
      "image\/png":{
       
      }
     },
     "output_type":"display_data"
    }
   ],
   "metadata":{
    "datalore":{
     "type":"CODE",
     "hide_input_from_viewers":false,
     "hide_output_from_viewers":false
    }
   }
  },
  {
   "cell_type":"code",
   "source":[
    "reg.fit(X_train, y_train)\n",
    "test_model(reg)"
   ],
   "execution_count":null,
   "outputs":[
    {
     "name":"stdout",
     "text":[
      "mean_absolute_error: 3.45\n",
      "median_absolute_error: 2.7\n",
      "r2_score: 0.61\n"
     ],
     "output_type":"stream"
    }
   ],
   "metadata":{
    "datalore":{
     "type":"CODE",
     "hide_input_from_viewers":false,
     "hide_output_from_viewers":false
    }
   }
  }
 ],
 "metadata":{
  "datalore":{
   "version":1,
   "computation_mode":"JUPYTER",
   "package_manager":"pip",
   "base_environment":"default",
   "packages":[
    
   ]
  }
 },
 "nbformat":4,
 "nbformat_minor":4
}
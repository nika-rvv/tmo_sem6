{
 "cells":[
  {
   "cell_type":"markdown",
   "source":[
    "# Подготовка обучающей и тестовой выборки, кросс-валидация и подбор гиперпараметров на примере метода ближайших соседей.\n",
    "## Цель лабораторной работы: изучение способов подготовки выборки и подбора гиперпараметров на примере метода ближайших соседей.\n",
    "\n",
    "### Задание:\n",
    "\n",
    "Выберите набор данных (датасет) для решения задачи классификации или регрессии.\n",
    "С использованием метода train_test_split разделите выборку на обучающую и тестовую.\n",
    "Обучите модель ближайших соседей для произвольно заданного гиперпараметра K. - Оцените качество модели с помощью подходящих для задачи метрик.\n",
    "Произведите подбор гиперпараметра K с использованием GridSearchCV и\/или RandomizedSearchCV и кросс-валидации, оцените качество оптимальной модели. Желательно использование нескольких стратегий кросс-валидации. Сравните метрики качества исходной и оптимальной моделей."
   ],
   "attachments":{
    
   },
   "metadata":{
    "datalore":{
     "type":"MD",
     "hide_input_from_viewers":false,
     "hide_output_from_viewers":false
    }
   }
  },
  {
   "cell_type":"markdown",
   "source":[
    "## Импорт библиотек и загрузка датасета"
   ],
   "attachments":{
    
   },
   "metadata":{
    "datalore":{
     "type":"MD",
     "hide_input_from_viewers":false,
     "hide_output_from_viewers":false
    }
   }
  },
  {
   "cell_type":"code",
   "source":[
    "import numpy as np\n",
    "import pandas as pd\n",
    "import seaborn as sns\n",
    "import matplotlib.pyplot as plt\n",
    "%matplotlib inline \n",
    "sns.set(style=\"ticks\")\n",
    "from sklearn.model_selection import train_test_split\n",
    "from operator import itemgetter\n",
    "import matplotlib.ticker as ticker\n",
    "import math\n",
    "from enum import Enum\n",
    "from sklearn.impute import SimpleImputer\n",
    "from sklearn.impute import MissingIndicator\n",
    "from sklearn.neighbors import KNeighborsRegressor, KNeighborsClassifier\n",
    "from sklearn.metrics import accuracy_score, balanced_accuracy_score\n",
    "from typing import Dict, Tuple\n",
    "from sklearn.metrics import confusion_matrix\n",
    "from sklearn.metrics import plot_confusion_matrix\n",
    "from sklearn.metrics import precision_score, recall_score, f1_score, classification_report, fbeta_score\n",
    "from sklearn.metrics import roc_curve, roc_auc_score\n",
    "from sklearn.model_selection import cross_val_score, cross_validate\n",
    "from sklearn.model_selection import KFold, RepeatedKFold, LeaveOneOut, LeavePOut, ShuffleSplit, StratifiedKFold, StratifiedShuffleSplit\n",
    "from sklearn.model_selection import GridSearchCV, RandomizedSearchCV\n",
    "from sklearn.model_selection import learning_curve, validation_curve"
   ],
   "execution_count":null,
   "outputs":[
    
   ],
   "metadata":{
    "datalore":{
     "type":"CODE",
     "hide_input_from_viewers":false,
     "hide_output_from_viewers":false
    }
   }
  },
  {
   "cell_type":"code",
   "source":[
    "filename = 'water_potability.csv'\n",
    "data = pd.read_csv(filename)"
   ],
   "execution_count":null,
   "outputs":[
    
   ],
   "metadata":{
    "datalore":{
     "type":"CODE",
     "hide_input_from_viewers":false,
     "hide_output_from_viewers":false
    }
   }
  },
  {
   "cell_type":"code",
   "source":[
    "data.head()"
   ],
   "execution_count":null,
   "outputs":[
    {
     "data":{
      "text\/html":[
       "<div>\n",
       "<style scoped>\n",
       "    .dataframe tbody tr th:only-of-type {\n",
       "        vertical-align: middle;\n",
       "    }\n",
       "\n",
       "    .dataframe tbody tr th {\n",
       "        vertical-align: top;\n",
       "    }\n",
       "\n",
       "    .dataframe thead th {\n",
       "        text-align: right;\n",
       "    }\n",
       "<\/style>\n",
       "<table border=\"1\" class=\"dataframe\">\n",
       "  <thead>\n",
       "    <tr style=\"text-align: right;\">\n",
       "      <th><\/th>\n",
       "      <th>ph<\/th>\n",
       "      <th>Hardness<\/th>\n",
       "      <th>Solids<\/th>\n",
       "      <th>Chloramines<\/th>\n",
       "      <th>Sulfate<\/th>\n",
       "      <th>Conductivity<\/th>\n",
       "      <th>Organic_carbon<\/th>\n",
       "      <th>Trihalomethanes<\/th>\n",
       "      <th>Turbidity<\/th>\n",
       "      <th>Potability<\/th>\n",
       "    <\/tr>\n",
       "  <\/thead>\n",
       "  <tbody>\n",
       "    <tr>\n",
       "      <th>0<\/th>\n",
       "      <td>NaN<\/td>\n",
       "      <td>204.890455<\/td>\n",
       "      <td>20791.318981<\/td>\n",
       "      <td>7.300212<\/td>\n",
       "      <td>368.516441<\/td>\n",
       "      <td>564.308654<\/td>\n",
       "      <td>10.379783<\/td>\n",
       "      <td>86.990970<\/td>\n",
       "      <td>2.963135<\/td>\n",
       "      <td>0<\/td>\n",
       "    <\/tr>\n",
       "    <tr>\n",
       "      <th>1<\/th>\n",
       "      <td>3.716080<\/td>\n",
       "      <td>129.422921<\/td>\n",
       "      <td>18630.057858<\/td>\n",
       "      <td>6.635246<\/td>\n",
       "      <td>NaN<\/td>\n",
       "      <td>592.885359<\/td>\n",
       "      <td>15.180013<\/td>\n",
       "      <td>56.329076<\/td>\n",
       "      <td>4.500656<\/td>\n",
       "      <td>0<\/td>\n",
       "    <\/tr>\n",
       "    <tr>\n",
       "      <th>2<\/th>\n",
       "      <td>8.099124<\/td>\n",
       "      <td>224.236259<\/td>\n",
       "      <td>19909.541732<\/td>\n",
       "      <td>9.275884<\/td>\n",
       "      <td>NaN<\/td>\n",
       "      <td>418.606213<\/td>\n",
       "      <td>16.868637<\/td>\n",
       "      <td>66.420093<\/td>\n",
       "      <td>3.055934<\/td>\n",
       "      <td>0<\/td>\n",
       "    <\/tr>\n",
       "    <tr>\n",
       "      <th>3<\/th>\n",
       "      <td>8.316766<\/td>\n",
       "      <td>214.373394<\/td>\n",
       "      <td>22018.417441<\/td>\n",
       "      <td>8.059332<\/td>\n",
       "      <td>356.886136<\/td>\n",
       "      <td>363.266516<\/td>\n",
       "      <td>18.436524<\/td>\n",
       "      <td>100.341674<\/td>\n",
       "      <td>4.628771<\/td>\n",
       "      <td>0<\/td>\n",
       "    <\/tr>\n",
       "    <tr>\n",
       "      <th>4<\/th>\n",
       "      <td>9.092223<\/td>\n",
       "      <td>181.101509<\/td>\n",
       "      <td>17978.986339<\/td>\n",
       "      <td>6.546600<\/td>\n",
       "      <td>310.135738<\/td>\n",
       "      <td>398.410813<\/td>\n",
       "      <td>11.558279<\/td>\n",
       "      <td>31.997993<\/td>\n",
       "      <td>4.075075<\/td>\n",
       "      <td>0<\/td>\n",
       "    <\/tr>\n",
       "  <\/tbody>\n",
       "<\/table>\n",
       "<\/div>"
      ]
     },
     "metadata":{
      
     },
     "output_type":"display_data"
    }
   ],
   "metadata":{
    "datalore":{
     "type":"CODE",
     "hide_input_from_viewers":false,
     "hide_output_from_viewers":false
    }
   }
  },
  {
   "cell_type":"markdown",
   "source":[
    "### Очистка датасета"
   ],
   "attachments":{
    
   },
   "metadata":{
    "datalore":{
     "type":"MD",
     "hide_input_from_viewers":false,
     "hide_output_from_viewers":false
    }
   }
  },
  {
   "cell_type":"code",
   "source":[
    "data.describe()"
   ],
   "execution_count":null,
   "outputs":[
    {
     "data":{
      "text\/html":[
       "<div>\n",
       "<style scoped>\n",
       "    .dataframe tbody tr th:only-of-type {\n",
       "        vertical-align: middle;\n",
       "    }\n",
       "\n",
       "    .dataframe tbody tr th {\n",
       "        vertical-align: top;\n",
       "    }\n",
       "\n",
       "    .dataframe thead th {\n",
       "        text-align: right;\n",
       "    }\n",
       "<\/style>\n",
       "<table border=\"1\" class=\"dataframe\">\n",
       "  <thead>\n",
       "    <tr style=\"text-align: right;\">\n",
       "      <th><\/th>\n",
       "      <th>ph<\/th>\n",
       "      <th>Hardness<\/th>\n",
       "      <th>Solids<\/th>\n",
       "      <th>Chloramines<\/th>\n",
       "      <th>Sulfate<\/th>\n",
       "      <th>Conductivity<\/th>\n",
       "      <th>Organic_carbon<\/th>\n",
       "      <th>Trihalomethanes<\/th>\n",
       "      <th>Turbidity<\/th>\n",
       "      <th>Potability<\/th>\n",
       "    <\/tr>\n",
       "  <\/thead>\n",
       "  <tbody>\n",
       "    <tr>\n",
       "      <th>count<\/th>\n",
       "      <td>2785.000000<\/td>\n",
       "      <td>3276.000000<\/td>\n",
       "      <td>3276.000000<\/td>\n",
       "      <td>3276.000000<\/td>\n",
       "      <td>2495.000000<\/td>\n",
       "      <td>3276.000000<\/td>\n",
       "      <td>3276.000000<\/td>\n",
       "      <td>3114.000000<\/td>\n",
       "      <td>3276.000000<\/td>\n",
       "      <td>3276.000000<\/td>\n",
       "    <\/tr>\n",
       "    <tr>\n",
       "      <th>mean<\/th>\n",
       "      <td>7.080795<\/td>\n",
       "      <td>196.369496<\/td>\n",
       "      <td>22014.092526<\/td>\n",
       "      <td>7.122277<\/td>\n",
       "      <td>333.775777<\/td>\n",
       "      <td>426.205111<\/td>\n",
       "      <td>14.284970<\/td>\n",
       "      <td>66.396293<\/td>\n",
       "      <td>3.966786<\/td>\n",
       "      <td>0.390110<\/td>\n",
       "    <\/tr>\n",
       "    <tr>\n",
       "      <th>std<\/th>\n",
       "      <td>1.594320<\/td>\n",
       "      <td>32.879761<\/td>\n",
       "      <td>8768.570828<\/td>\n",
       "      <td>1.583085<\/td>\n",
       "      <td>41.416840<\/td>\n",
       "      <td>80.824064<\/td>\n",
       "      <td>3.308162<\/td>\n",
       "      <td>16.175008<\/td>\n",
       "      <td>0.780382<\/td>\n",
       "      <td>0.487849<\/td>\n",
       "    <\/tr>\n",
       "    <tr>\n",
       "      <th>min<\/th>\n",
       "      <td>0.000000<\/td>\n",
       "      <td>47.432000<\/td>\n",
       "      <td>320.942611<\/td>\n",
       "      <td>0.352000<\/td>\n",
       "      <td>129.000000<\/td>\n",
       "      <td>181.483754<\/td>\n",
       "      <td>2.200000<\/td>\n",
       "      <td>0.738000<\/td>\n",
       "      <td>1.450000<\/td>\n",
       "      <td>0.000000<\/td>\n",
       "    <\/tr>\n",
       "    <tr>\n",
       "      <th>25%<\/th>\n",
       "      <td>6.093092<\/td>\n",
       "      <td>176.850538<\/td>\n",
       "      <td>15666.690297<\/td>\n",
       "      <td>6.127421<\/td>\n",
       "      <td>307.699498<\/td>\n",
       "      <td>365.734414<\/td>\n",
       "      <td>12.065801<\/td>\n",
       "      <td>55.844536<\/td>\n",
       "      <td>3.439711<\/td>\n",
       "      <td>0.000000<\/td>\n",
       "    <\/tr>\n",
       "    <tr>\n",
       "      <th>50%<\/th>\n",
       "      <td>7.036752<\/td>\n",
       "      <td>196.967627<\/td>\n",
       "      <td>20927.833607<\/td>\n",
       "      <td>7.130299<\/td>\n",
       "      <td>333.073546<\/td>\n",
       "      <td>421.884968<\/td>\n",
       "      <td>14.218338<\/td>\n",
       "      <td>66.622485<\/td>\n",
       "      <td>3.955028<\/td>\n",
       "      <td>0.000000<\/td>\n",
       "    <\/tr>\n",
       "    <tr>\n",
       "      <th>75%<\/th>\n",
       "      <td>8.062066<\/td>\n",
       "      <td>216.667456<\/td>\n",
       "      <td>27332.762127<\/td>\n",
       "      <td>8.114887<\/td>\n",
       "      <td>359.950170<\/td>\n",
       "      <td>481.792304<\/td>\n",
       "      <td>16.557652<\/td>\n",
       "      <td>77.337473<\/td>\n",
       "      <td>4.500320<\/td>\n",
       "      <td>1.000000<\/td>\n",
       "    <\/tr>\n",
       "    <tr>\n",
       "      <th>max<\/th>\n",
       "      <td>14.000000<\/td>\n",
       "      <td>323.124000<\/td>\n",
       "      <td>61227.196008<\/td>\n",
       "      <td>13.127000<\/td>\n",
       "      <td>481.030642<\/td>\n",
       "      <td>753.342620<\/td>\n",
       "      <td>28.300000<\/td>\n",
       "      <td>124.000000<\/td>\n",
       "      <td>6.739000<\/td>\n",
       "      <td>1.000000<\/td>\n",
       "    <\/tr>\n",
       "  <\/tbody>\n",
       "<\/table>\n",
       "<\/div>"
      ]
     },
     "metadata":{
      
     },
     "output_type":"display_data"
    }
   ],
   "metadata":{
    "datalore":{
     "type":"CODE",
     "hide_input_from_viewers":false,
     "hide_output_from_viewers":false
    }
   }
  },
  {
   "cell_type":"code",
   "source":[
    "# проверим пропущенные значения\n",
    "data.isnull().sum()"
   ],
   "execution_count":null,
   "outputs":[
    {
     "data":{
      "text\/html":[
       
      ]
     },
     "metadata":{
      
     },
     "output_type":"display_data"
    }
   ],
   "metadata":{
    "datalore":{
     "type":"CODE",
     "hide_input_from_viewers":false,
     "hide_output_from_viewers":false
    }
   }
  },
  {
   "cell_type":"code",
   "source":[
    "strategies=['mean', 'median', 'most_frequent']"
   ],
   "execution_count":null,
   "outputs":[
    
   ],
   "metadata":{
    "datalore":{
     "type":"CODE",
     "hide_input_from_viewers":false,
     "hide_output_from_viewers":false
    }
   }
  },
  {
   "cell_type":"code",
   "source":[
    "# импьютация нужной колонки с помощью нужной стратегии\n",
    "def func_impute_col(dataset, column, strategy_param):\n",
    "    temp_data = dataset[[column]]\n",
    "    \n",
    "    imp_num = SimpleImputer(strategy=strategy_param)\n",
    "    data_num_imp = imp_num.fit_transform(temp_data)\n",
    "    \n",
    "    return data_num_imp"
   ],
   "execution_count":null,
   "outputs":[
    
   ],
   "metadata":{
    "datalore":{
     "type":"CODE",
     "hide_input_from_viewers":false,
     "hide_output_from_viewers":false
    }
   }
  },
  {
   "cell_type":"code",
   "source":[
    "# замена медианой \n",
    "col_imp = func_impute_col(data, 'ph', strategies[1])\n",
    "data[['ph']] = col_imp"
   ],
   "execution_count":null,
   "outputs":[
    
   ],
   "metadata":{
    "datalore":{
     "type":"CODE",
     "hide_input_from_viewers":false,
     "hide_output_from_viewers":false
    }
   }
  },
  {
   "cell_type":"code",
   "source":[
    "# замена медианой Sulfate\n",
    "col_imp = func_impute_col(data, 'Sulfate', strategies[1])\n",
    "data[['Sulfate']] = col_imp"
   ],
   "execution_count":null,
   "outputs":[
    
   ],
   "metadata":{
    "datalore":{
     "type":"CODE",
     "hide_input_from_viewers":false,
     "hide_output_from_viewers":false
    }
   }
  },
  {
   "cell_type":"code",
   "source":[
    "# замена медианой Trihalomethanes\n",
    "col_imp = func_impute_col(data, 'Trihalomethanes', strategies[1])\n",
    "data[['Trihalomethanes']] = col_imp"
   ],
   "execution_count":null,
   "outputs":[
    
   ],
   "metadata":{
    "datalore":{
     "type":"CODE",
     "hide_input_from_viewers":false,
     "hide_output_from_viewers":false
    }
   }
  },
  {
   "cell_type":"code",
   "source":[
    "data.head()"
   ],
   "execution_count":null,
   "outputs":[
    {
     "data":{
      "text\/html":[
       "<div>\n",
       "<style scoped>\n",
       "    .dataframe tbody tr th:only-of-type {\n",
       "        vertical-align: middle;\n",
       "    }\n",
       "\n",
       "    .dataframe tbody tr th {\n",
       "        vertical-align: top;\n",
       "    }\n",
       "\n",
       "    .dataframe thead th {\n",
       "        text-align: right;\n",
       "    }\n",
       "<\/style>\n",
       "<table border=\"1\" class=\"dataframe\">\n",
       "  <thead>\n",
       "    <tr style=\"text-align: right;\">\n",
       "      <th><\/th>\n",
       "      <th>ph<\/th>\n",
       "      <th>Hardness<\/th>\n",
       "      <th>Solids<\/th>\n",
       "      <th>Chloramines<\/th>\n",
       "      <th>Sulfate<\/th>\n",
       "      <th>Conductivity<\/th>\n",
       "      <th>Organic_carbon<\/th>\n",
       "      <th>Trihalomethanes<\/th>\n",
       "      <th>Turbidity<\/th>\n",
       "      <th>Potability<\/th>\n",
       "    <\/tr>\n",
       "  <\/thead>\n",
       "  <tbody>\n",
       "    <tr>\n",
       "      <th>0<\/th>\n",
       "      <td>7.036752<\/td>\n",
       "      <td>204.890455<\/td>\n",
       "      <td>20791.318981<\/td>\n",
       "      <td>7.300212<\/td>\n",
       "      <td>368.516441<\/td>\n",
       "      <td>564.308654<\/td>\n",
       "      <td>10.379783<\/td>\n",
       "      <td>86.990970<\/td>\n",
       "      <td>2.963135<\/td>\n",
       "      <td>0<\/td>\n",
       "    <\/tr>\n",
       "    <tr>\n",
       "      <th>1<\/th>\n",
       "      <td>3.716080<\/td>\n",
       "      <td>129.422921<\/td>\n",
       "      <td>18630.057858<\/td>\n",
       "      <td>6.635246<\/td>\n",
       "      <td>333.073546<\/td>\n",
       "      <td>592.885359<\/td>\n",
       "      <td>15.180013<\/td>\n",
       "      <td>56.329076<\/td>\n",
       "      <td>4.500656<\/td>\n",
       "      <td>0<\/td>\n",
       "    <\/tr>\n",
       "    <tr>\n",
       "      <th>2<\/th>\n",
       "      <td>8.099124<\/td>\n",
       "      <td>224.236259<\/td>\n",
       "      <td>19909.541732<\/td>\n",
       "      <td>9.275884<\/td>\n",
       "      <td>333.073546<\/td>\n",
       "      <td>418.606213<\/td>\n",
       "      <td>16.868637<\/td>\n",
       "      <td>66.420093<\/td>\n",
       "      <td>3.055934<\/td>\n",
       "      <td>0<\/td>\n",
       "    <\/tr>\n",
       "    <tr>\n",
       "      <th>3<\/th>\n",
       "      <td>8.316766<\/td>\n",
       "      <td>214.373394<\/td>\n",
       "      <td>22018.417441<\/td>\n",
       "      <td>8.059332<\/td>\n",
       "      <td>356.886136<\/td>\n",
       "      <td>363.266516<\/td>\n",
       "      <td>18.436524<\/td>\n",
       "      <td>100.341674<\/td>\n",
       "      <td>4.628771<\/td>\n",
       "      <td>0<\/td>\n",
       "    <\/tr>\n",
       "    <tr>\n",
       "      <th>4<\/th>\n",
       "      <td>9.092223<\/td>\n",
       "      <td>181.101509<\/td>\n",
       "      <td>17978.986339<\/td>\n",
       "      <td>6.546600<\/td>\n",
       "      <td>310.135738<\/td>\n",
       "      <td>398.410813<\/td>\n",
       "      <td>11.558279<\/td>\n",
       "      <td>31.997993<\/td>\n",
       "      <td>4.075075<\/td>\n",
       "      <td>0<\/td>\n",
       "    <\/tr>\n",
       "  <\/tbody>\n",
       "<\/table>\n",
       "<\/div>"
      ]
     },
     "metadata":{
      
     },
     "output_type":"display_data"
    }
   ],
   "metadata":{
    "datalore":{
     "type":"CODE",
     "hide_input_from_viewers":false,
     "hide_output_from_viewers":false
    }
   }
  },
  {
   "cell_type":"code",
   "source":[
    "data.isnull().sum()"
   ],
   "execution_count":null,
   "outputs":[
    {
     "data":{
      "text\/html":[
       
      ]
     },
     "metadata":{
      
     },
     "output_type":"display_data"
    }
   ],
   "metadata":{
    "datalore":{
     "type":"CODE",
     "hide_input_from_viewers":false,
     "hide_output_from_viewers":false
    }
   }
  },
  {
   "cell_type":"markdown",
   "source":[
    "### Разделение выборки на обучающую и тестовую"
   ],
   "attachments":{
    
   },
   "metadata":{
    "datalore":{
     "type":"MD",
     "hide_input_from_viewers":false,
     "hide_output_from_viewers":false
    }
   }
  },
  {
   "cell_type":"code",
   "source":[
    "# целевой признак - Potability  \n",
    "target = data['Potability']"
   ],
   "execution_count":null,
   "outputs":[
    
   ],
   "metadata":{
    "datalore":{
     "type":"CODE",
     "hide_input_from_viewers":false,
     "hide_output_from_viewers":false
    }
   }
  },
  {
   "cell_type":"code",
   "source":[
    "data.corr()"
   ],
   "execution_count":null,
   "outputs":[
    {
     "data":{
      "text\/html":[
       "<div>\n",
       "<style scoped>\n",
       "    .dataframe tbody tr th:only-of-type {\n",
       "        vertical-align: middle;\n",
       "    }\n",
       "\n",
       "    .dataframe tbody tr th {\n",
       "        vertical-align: top;\n",
       "    }\n",
       "\n",
       "    .dataframe thead th {\n",
       "        text-align: right;\n",
       "    }\n",
       "<\/style>\n",
       "<table border=\"1\" class=\"dataframe\">\n",
       "  <thead>\n",
       "    <tr style=\"text-align: right;\">\n",
       "      <th><\/th>\n",
       "      <th>ph<\/th>\n",
       "      <th>Hardness<\/th>\n",
       "      <th>Solids<\/th>\n",
       "      <th>Chloramines<\/th>\n",
       "      <th>Sulfate<\/th>\n",
       "      <th>Conductivity<\/th>\n",
       "      <th>Organic_carbon<\/th>\n",
       "      <th>Trihalomethanes<\/th>\n",
       "      <th>Turbidity<\/th>\n",
       "      <th>Potability<\/th>\n",
       "    <\/tr>\n",
       "  <\/thead>\n",
       "  <tbody>\n",
       "    <tr>\n",
       "      <th>ph<\/th>\n",
       "      <td>1.000000<\/td>\n",
       "      <td>0.075760<\/td>\n",
       "      <td>-0.082004<\/td>\n",
       "      <td>-0.031741<\/td>\n",
       "      <td>0.014178<\/td>\n",
       "      <td>0.017466<\/td>\n",
       "      <td>0.040240<\/td>\n",
       "      <td>0.003145<\/td>\n",
       "      <td>-0.036107<\/td>\n",
       "      <td>-0.003014<\/td>\n",
       "    <\/tr>\n",
       "    <tr>\n",
       "      <th>Hardness<\/th>\n",
       "      <td>0.075760<\/td>\n",
       "      <td>1.000000<\/td>\n",
       "      <td>-0.046899<\/td>\n",
       "      <td>-0.030054<\/td>\n",
       "      <td>-0.092833<\/td>\n",
       "      <td>-0.023915<\/td>\n",
       "      <td>0.003610<\/td>\n",
       "      <td>-0.012707<\/td>\n",
       "      <td>-0.014449<\/td>\n",
       "      <td>-0.013837<\/td>\n",
       "    <\/tr>\n",
       "    <tr>\n",
       "      <th>Solids<\/th>\n",
       "      <td>-0.082004<\/td>\n",
       "      <td>-0.046899<\/td>\n",
       "      <td>1.000000<\/td>\n",
       "      <td>-0.070148<\/td>\n",
       "      <td>-0.149747<\/td>\n",
       "      <td>0.013831<\/td>\n",
       "      <td>0.010242<\/td>\n",
       "      <td>-0.008799<\/td>\n",
       "      <td>0.019546<\/td>\n",
       "      <td>0.033743<\/td>\n",
       "    <\/tr>\n",
       "    <tr>\n",
       "      <th>Chloramines<\/th>\n",
       "      <td>-0.031741<\/td>\n",
       "      <td>-0.030054<\/td>\n",
       "      <td>-0.070148<\/td>\n",
       "      <td>1.000000<\/td>\n",
       "      <td>0.023762<\/td>\n",
       "      <td>-0.020486<\/td>\n",
       "      <td>-0.012653<\/td>\n",
       "      <td>0.016614<\/td>\n",
       "      <td>0.002363<\/td>\n",
       "      <td>0.023779<\/td>\n",
       "    <\/tr>\n",
       "    <tr>\n",
       "      <th>Sulfate<\/th>\n",
       "      <td>0.014178<\/td>\n",
       "      <td>-0.092833<\/td>\n",
       "      <td>-0.149747<\/td>\n",
       "      <td>0.023762<\/td>\n",
       "      <td>1.000000<\/td>\n",
       "      <td>-0.014182<\/td>\n",
       "      <td>0.027102<\/td>\n",
       "      <td>-0.025657<\/td>\n",
       "      <td>-0.009767<\/td>\n",
       "      <td>-0.020476<\/td>\n",
       "    <\/tr>\n",
       "    <tr>\n",
       "      <th>Conductivity<\/th>\n",
       "      <td>0.017466<\/td>\n",
       "      <td>-0.023915<\/td>\n",
       "      <td>0.013831<\/td>\n",
       "      <td>-0.020486<\/td>\n",
       "      <td>-0.014182<\/td>\n",
       "      <td>1.000000<\/td>\n",
       "      <td>0.020966<\/td>\n",
       "      <td>0.001184<\/td>\n",
       "      <td>0.005798<\/td>\n",
       "      <td>-0.008128<\/td>\n",
       "    <\/tr>\n",
       "    <tr>\n",
       "      <th>Organic_carbon<\/th>\n",
       "      <td>0.040240<\/td>\n",
       "      <td>0.003610<\/td>\n",
       "      <td>0.010242<\/td>\n",
       "      <td>-0.012653<\/td>\n",
       "      <td>0.027102<\/td>\n",
       "      <td>0.020966<\/td>\n",
       "      <td>1.000000<\/td>\n",
       "      <td>-0.012958<\/td>\n",
       "      <td>-0.027308<\/td>\n",
       "      <td>-0.030001<\/td>\n",
       "    <\/tr>\n",
       "    <tr>\n",
       "      <th>Trihalomethanes<\/th>\n",
       "      <td>0.003145<\/td>\n",
       "      <td>-0.012707<\/td>\n",
       "      <td>-0.008799<\/td>\n",
       "      <td>0.016614<\/td>\n",
       "      <td>-0.025657<\/td>\n",
       "      <td>0.001184<\/td>\n",
       "      <td>-0.012958<\/td>\n",
       "      <td>1.000000<\/td>\n",
       "      <td>-0.021487<\/td>\n",
       "      <td>0.006887<\/td>\n",
       "    <\/tr>\n",
       "    <tr>\n",
       "      <th>Turbidity<\/th>\n",
       "      <td>-0.036107<\/td>\n",
       "      <td>-0.014449<\/td>\n",
       "      <td>0.019546<\/td>\n",
       "      <td>0.002363<\/td>\n",
       "      <td>-0.009767<\/td>\n",
       "      <td>0.005798<\/td>\n",
       "      <td>-0.027308<\/td>\n",
       "      <td>-0.021487<\/td>\n",
       "      <td>1.000000<\/td>\n",
       "      <td>0.001581<\/td>\n",
       "    <\/tr>\n",
       "    <tr>\n",
       "      <th>Potability<\/th>\n",
       "      <td>-0.003014<\/td>\n",
       "      <td>-0.013837<\/td>\n",
       "      <td>0.033743<\/td>\n",
       "      <td>0.023779<\/td>\n",
       "      <td>-0.020476<\/td>\n",
       "      <td>-0.008128<\/td>\n",
       "      <td>-0.030001<\/td>\n",
       "      <td>0.006887<\/td>\n",
       "      <td>0.001581<\/td>\n",
       "      <td>1.000000<\/td>\n",
       "    <\/tr>\n",
       "  <\/tbody>\n",
       "<\/table>\n",
       "<\/div>"
      ]
     },
     "metadata":{
      
     },
     "output_type":"display_data"
    }
   ],
   "metadata":{
    "datalore":{
     "type":"CODE",
     "hide_input_from_viewers":false,
     "hide_output_from_viewers":false
    }
   }
  },
  {
   "cell_type":"code",
   "source":[
    "# уберем столбцы, слабо коррелирующие с целевым признаком\n",
    "data_clean = data\n",
    "data_clean = data_clean.drop(columns = ['ph'], axis = 1)\n",
    "data_clean = data_clean.drop(columns = ['Conductivity'], axis = 1)\n",
    "data_clean = data_clean.drop(columns = ['Trihalomethanes'], axis = 1)\n",
    "data_clean = data_clean.drop(columns = ['Turbidity'], axis = 1)\n",
    "data_clean = data_clean.drop(columns = ['Hardness'], axis = 1)"
   ],
   "execution_count":null,
   "outputs":[
    
   ],
   "metadata":{
    "datalore":{
     "type":"CODE",
     "hide_input_from_viewers":false,
     "hide_output_from_viewers":false
    }
   }
  },
  {
   "cell_type":"code",
   "source":[
    "x_train,x_test,y_train,y_test=train_test_split(data_clean,target,test_size=0.2,random_state=1)"
   ],
   "execution_count":null,
   "outputs":[
    
   ],
   "metadata":{
    "datalore":{
     "type":"CODE",
     "hide_input_from_viewers":false,
     "hide_output_from_viewers":false
    }
   }
  },
  {
   "cell_type":"markdown",
   "source":[
    "### Обучение модели ближайших соседей для произвольно заданного гиперпараметра K"
   ],
   "attachments":{
    
   },
   "metadata":{
    "datalore":{
     "type":"MD",
     "hide_input_from_viewers":false,
     "hide_output_from_viewers":false
    }
   }
  },
  {
   "cell_type":"code",
   "source":[
    "def regr_to_class(y: int) -> str:\n",
    "    if y==1:\n",
    "        return 'Is_safe'\n",
    "    else:\n",
    "        return 'Not_safe'"
   ],
   "execution_count":null,
   "outputs":[
    
   ],
   "metadata":{
    "datalore":{
     "type":"CODE",
     "hide_input_from_viewers":false,
     "hide_output_from_viewers":false
    }
   }
  },
  {
   "cell_type":"code",
   "source":[
    "# формирование целевого признака для классификации\n",
    "x_train['Potability_class'] = \\\n",
    "x_train.apply(lambda row: regr_to_class(row['Potability']),axis=1)"
   ],
   "execution_count":null,
   "outputs":[
    
   ],
   "metadata":{
    "datalore":{
     "type":"CODE",
     "hide_input_from_viewers":false,
     "hide_output_from_viewers":false
    }
   }
  },
  {
   "cell_type":"markdown",
   "source":[
    "### Метод k-ближайших соседей"
   ],
   "attachments":{
    
   },
   "metadata":{
    "datalore":{
     "type":"MD",
     "hide_input_from_viewers":false,
     "hide_output_from_viewers":false
    }
   }
  },
  {
   "cell_type":"code",
   "source":[
    "class PredictionType(Enum):\n",
    "    CLASSIFICATION = 1\n",
    "    REGRESSION = 2"
   ],
   "execution_count":null,
   "outputs":[
    
   ],
   "metadata":{
    "datalore":{
     "type":"CODE",
     "hide_input_from_viewers":false,
     "hide_output_from_viewers":false
    }
   }
  },
  {
   "cell_type":"code",
   "source":[
    "class SimpleKNN:\n",
    "    \n",
    "    def fit(self, X_train: np.matrix, y_train: np.ndarray):\n",
    "        \"\"\"\n",
    "        Метод обучения, который фактически не учится, \n",
    "        а только запоминает обучающую выборку.\n",
    "        Входные параметры:\n",
    "        X_train - обучающая выборка (матрица объект-признак)\n",
    "        y_train - обучающая выборка (вектор целевого признака)\n",
    "        Возвращаемое значение: нет\n",
    "        \"\"\"\n",
    "        #Сохраняем параметры в переменных класса\n",
    "        self._X_train = X_train\n",
    "        self._y_train = y_train\n",
    "          \n",
    "    def eucl_dist(self, p: np.ndarray, q: np.ndarray) -> float:\n",
    "        \"\"\"\n",
    "        Вычисление Евклидова расстояния - https:\/\/en.wikipedia.org\/wiki\/Euclidean_distance \n",
    "        Входные параметры:\n",
    "        p, q - вектора в n-мерном пространстве признаков\n",
    "        \"\"\"\n",
    "        return math.sqrt(sum([(pi - qi) ** 2 for pi, qi in zip (p, q)]))\n",
    "            \n",
    "            \n",
    "    def predict_for_single_object(self, K: int, \\\n",
    "                prediction_type: PredictionType, \\\n",
    "                X_o: np.ndarray, \\\n",
    "                verbose = True) -> np.ndarray:\n",
    "        \"\"\"\n",
    "        Метод предсказания для одного объекта.\n",
    "        Входные параметры:\n",
    "        K - гиперпараметр, количество соседей \n",
    "        prediction_type - классификация или регрессия \n",
    "        X_o - строка матрицы объект-признак, соответствующая объекту\n",
    "        verbose - флаг детального вывода\n",
    "        Возвращаемое значение: предсказанное значение целевого признака\n",
    "        \"\"\"\n",
    "        # список соседей\n",
    "        neighbors_list = []\n",
    "        # *** Находим ближайшие точки ***\n",
    "        # Перебираем все точки обучающей выборки\n",
    "        for i in range(self._X_train.shape[0]):\n",
    "            # получаем текущую точку\n",
    "            data_train_current_x = [x for x in self._X_train[['Solids','Chloramines', 'Sulfate', 'Organic_carbon']].iloc[i]]\n",
    "            # и значение ее y\n",
    "            data_train_current_y = self._y_train.values[i]\n",
    "            # вычисляем расстояние\n",
    "            dist = self.eucl_dist(X_o, data_train_current_x)\n",
    "            # сохраняем в список соседей\n",
    "            temp_res = (data_train_current_y, dist, data_train_current_x)\n",
    "            neighbors_list.append(temp_res)\n",
    "        # *** сортируем список соседей по возрастанию расстояния *** \n",
    "        # в кортеже элементы следуют в порядке (0,1,2), сортируем по первому элементу \n",
    "        neighbors_list_sorted = sorted(neighbors_list, key=itemgetter(1))\n",
    "        if verbose:\n",
    "            print()\n",
    "            print('**************************************')\n",
    "            print('Проверяемая точка: ', X_o)\n",
    "            print('**************************************')\n",
    "            print('Вывод отсортированного списка соседей:')    \n",
    "            dist_list = []\n",
    "            for cur_y, cur_dist, temp_x_1_2 in neighbors_list_sorted:\n",
    "                temp_x1, temp_x2 = temp_x_1_2\n",
    "                print('X1={0}, X2={1}, y={2}, расстояние={3:.2f}'.format(temp_x1, temp_x2, cur_y, cur_dist))\n",
    "                dist_list.append(cur_dist)\n",
    "            print()\n",
    "            print('Вывод расстояния для отсортированного списка соседей:')    \n",
    "            plt.plot(dist_list)\n",
    "            plt.show()\n",
    "        # Оставим только K ближайших соседей\n",
    "        K_neighbors_list_sorted = neighbors_list_sorted[:K]\n",
    "        if verbose:\n",
    "            print('Вывод К ближайших соседей:')\n",
    "            x1_list = []\n",
    "            x2_list = []\n",
    "            for cur_y, cur_dist, temp_x_1_2 in K_neighbors_list_sorted:\n",
    "                temp_x1, temp_x2 = temp_x_1_2\n",
    "                x1_list.append(temp_x1)\n",
    "                x2_list.append(temp_x2)\n",
    "                print('X1={0}, X2={1}, y={2}, расстояние={3:.2f}'.format(temp_x1, temp_x2, cur_y, cur_dist))\n",
    "            print()\n",
    "            print('Визуализация К ближайших соседей:')\n",
    "            plt.plot(self._X_train['x1'], self._X_train['x2'], 'b.', \\\n",
    "                     x1_list, x2_list,  'g*', \\\n",
    "                    [X_o[0]], [X_o[1]], 'ro')\n",
    "            plt.show()   \n",
    "        # Результат - классификация или регрессия\n",
    "        if prediction_type == PredictionType.REGRESSION:\n",
    "            # используем numpy для вычисления среднего значения\n",
    "            arr = np.array([x for x,_,_ in K_neighbors_list_sorted])\n",
    "            # возвращаем среднее значение\n",
    "            return np.mean(arr)          \n",
    "        elif prediction_type == PredictionType.CLASSIFICATION:\n",
    "            k_y_list = [y for y,_,_ in K_neighbors_list_sorted]\n",
    "            # группируем с количеством метки классов,\n",
    "            # соответствующие K ближайшим соседям\n",
    "            k_y_list_grouped_temp = np.unique(k_y_list, return_counts=True)\n",
    "            k_y_list_grouped = [[key, cnt] for key, cnt in zip(k_y_list_grouped_temp[0], k_y_list_grouped_temp[1])]\n",
    "            # сортируем по количеству по убыванию\n",
    "            k_y_list_grouped_sorted = sorted(k_y_list_grouped, key=itemgetter(1), reverse=True)\n",
    "            if verbose:\n",
    "                print('Классы, соответствующие К ближайшим соседям:')\n",
    "                for i in k_y_list_grouped_sorted:\n",
    "                    print('класс={0}, количество элементов={1}'.format(i[0], i[1]))\n",
    "            # возвращаеv метку класса из первой строки отсортированного массива\n",
    "            # то есть того класса, к которому принадлежит наибольшее количество соседей\n",
    "            return k_y_list_grouped_sorted[0][0]\n",
    "        else:\n",
    "            raise Exception('Неизвестный тип предсказания')\n",
    "                   \n",
    "    \n",
    "    def predict(self, K: int, \\\n",
    "                prediction_type: PredictionType, \\\n",
    "                X_test: np.matrix, \n",
    "                verbose = True) -> np.ndarray:\n",
    "        \"\"\"\n",
    "        Метод предсказания.\n",
    "        Входные параметры:\n",
    "        K - гиперпараметр, количество соседей \n",
    "        prediction_type - классификация или регрессия \n",
    "        X_test - тестовая выборка (матрица объект-признак)\n",
    "        Возвращаемое значение: предсказанный вектор целевого признака\n",
    "        \"\"\"\n",
    "        # Перебираем все точки тестовой выборки\n",
    "        test_data_temp = []\n",
    "        for i in range(X_test.shape[0]):\n",
    "            # получаем текущую точку\n",
    "            data_test_current_x = [x for x in X_test.iloc[i]]\n",
    "            test_data_temp.append(data_test_current_x)    \n",
    "   \n",
    "        return [self.predict_for_single_object(K=K, \\\n",
    "                prediction_type=prediction_type, \\\n",
    "                X_o=i, verbose=verbose) for i in test_data_temp]"
   ],
   "execution_count":null,
   "outputs":[
    
   ],
   "metadata":{
    "datalore":{
     "type":"CODE",
     "hide_input_from_viewers":false,
     "hide_output_from_viewers":false
    }
   }
  },
  {
   "cell_type":"markdown",
   "source":[
    "### Обучение"
   ],
   "attachments":{
    
   },
   "metadata":{
    "datalore":{
     "type":"MD",
     "hide_input_from_viewers":false,
     "hide_output_from_viewers":false
    }
   }
  },
  {
   "cell_type":"code",
   "source":[
    "x_train.head()"
   ],
   "execution_count":null,
   "outputs":[
    {
     "data":{
      "text\/html":[
       "<div>\n",
       "<style scoped>\n",
       "    .dataframe tbody tr th:only-of-type {\n",
       "        vertical-align: middle;\n",
       "    }\n",
       "\n",
       "    .dataframe tbody tr th {\n",
       "        vertical-align: top;\n",
       "    }\n",
       "\n",
       "    .dataframe thead th {\n",
       "        text-align: right;\n",
       "    }\n",
       "<\/style>\n",
       "<table border=\"1\" class=\"dataframe\">\n",
       "  <thead>\n",
       "    <tr style=\"text-align: right;\">\n",
       "      <th><\/th>\n",
       "      <th>Solids<\/th>\n",
       "      <th>Chloramines<\/th>\n",
       "      <th>Sulfate<\/th>\n",
       "      <th>Organic_carbon<\/th>\n",
       "      <th>Potability<\/th>\n",
       "      <th>Potability_class<\/th>\n",
       "    <\/tr>\n",
       "  <\/thead>\n",
       "  <tbody>\n",
       "    <tr>\n",
       "      <th>675<\/th>\n",
       "      <td>20225.642923<\/td>\n",
       "      <td>7.569518<\/td>\n",
       "      <td>352.685843<\/td>\n",
       "      <td>19.621923<\/td>\n",
       "      <td>1<\/td>\n",
       "      <td>Is_safe<\/td>\n",
       "    <\/tr>\n",
       "    <tr>\n",
       "      <th>1359<\/th>\n",
       "      <td>6626.376426<\/td>\n",
       "      <td>5.117364<\/td>\n",
       "      <td>372.625257<\/td>\n",
       "      <td>23.135952<\/td>\n",
       "      <td>0<\/td>\n",
       "      <td>Not_safe<\/td>\n",
       "    <\/tr>\n",
       "    <tr>\n",
       "      <th>1391<\/th>\n",
       "      <td>16795.318674<\/td>\n",
       "      <td>6.708068<\/td>\n",
       "      <td>326.952617<\/td>\n",
       "      <td>12.510887<\/td>\n",
       "      <td>0<\/td>\n",
       "      <td>Not_safe<\/td>\n",
       "    <\/tr>\n",
       "    <tr>\n",
       "      <th>1727<\/th>\n",
       "      <td>18535.046452<\/td>\n",
       "      <td>5.497159<\/td>\n",
       "      <td>339.838977<\/td>\n",
       "      <td>14.979000<\/td>\n",
       "      <td>0<\/td>\n",
       "      <td>Not_safe<\/td>\n",
       "    <\/tr>\n",
       "    <tr>\n",
       "      <th>1677<\/th>\n",
       "      <td>30210.250367<\/td>\n",
       "      <td>9.508299<\/td>\n",
       "      <td>340.245766<\/td>\n",
       "      <td>23.234326<\/td>\n",
       "      <td>0<\/td>\n",
       "      <td>Not_safe<\/td>\n",
       "    <\/tr>\n",
       "  <\/tbody>\n",
       "<\/table>\n",
       "<\/div>"
      ]
     },
     "metadata":{
      
     },
     "output_type":"display_data"
    }
   ],
   "metadata":{
    "datalore":{
     "type":"CODE",
     "hide_input_from_viewers":false,
     "hide_output_from_viewers":false
    }
   }
  },
  {
   "cell_type":"code",
   "source":[
    "# классификация\n",
    "simple_knn_class = SimpleKNN()\n",
    "simple_knn_class.fit(x_train[['Solids','Chloramines', 'Sulfate', 'Organic_carbon']], x_train['Potability_class'])"
   ],
   "execution_count":null,
   "outputs":[
    
   ],
   "metadata":{
    "datalore":{
     "type":"CODE",
     "hide_input_from_viewers":false,
     "hide_output_from_viewers":false
    }
   }
  },
  {
   "cell_type":"code",
   "source":[
    "simple_knn_class._X_train"
   ],
   "execution_count":null,
   "outputs":[
    {
     "data":{
      "text\/html":[
       "<div>\n",
       "<style scoped>\n",
       "    .dataframe tbody tr th:only-of-type {\n",
       "        vertical-align: middle;\n",
       "    }\n",
       "\n",
       "    .dataframe tbody tr th {\n",
       "        vertical-align: top;\n",
       "    }\n",
       "\n",
       "    .dataframe thead th {\n",
       "        text-align: right;\n",
       "    }\n",
       "<\/style>\n",
       "<table border=\"1\" class=\"dataframe\">\n",
       "  <thead>\n",
       "    <tr style=\"text-align: right;\">\n",
       "      <th><\/th>\n",
       "      <th>Solids<\/th>\n",
       "      <th>Chloramines<\/th>\n",
       "      <th>Sulfate<\/th>\n",
       "      <th>Organic_carbon<\/th>\n",
       "    <\/tr>\n",
       "  <\/thead>\n",
       "  <tbody>\n",
       "    <tr>\n",
       "      <th>675<\/th>\n",
       "      <td>20225.642923<\/td>\n",
       "      <td>7.569518<\/td>\n",
       "      <td>352.685843<\/td>\n",
       "      <td>19.621923<\/td>\n",
       "    <\/tr>\n",
       "    <tr>\n",
       "      <th>1359<\/th>\n",
       "      <td>6626.376426<\/td>\n",
       "      <td>5.117364<\/td>\n",
       "      <td>372.625257<\/td>\n",
       "      <td>23.135952<\/td>\n",
       "    <\/tr>\n",
       "    <tr>\n",
       "      <th>1391<\/th>\n",
       "      <td>16795.318674<\/td>\n",
       "      <td>6.708068<\/td>\n",
       "      <td>326.952617<\/td>\n",
       "      <td>12.510887<\/td>\n",
       "    <\/tr>\n",
       "    <tr>\n",
       "      <th>1727<\/th>\n",
       "      <td>18535.046452<\/td>\n",
       "      <td>5.497159<\/td>\n",
       "      <td>339.838977<\/td>\n",
       "      <td>14.979000<\/td>\n",
       "    <\/tr>\n",
       "    <tr>\n",
       "      <th>1677<\/th>\n",
       "      <td>30210.250367<\/td>\n",
       "      <td>9.508299<\/td>\n",
       "      <td>340.245766<\/td>\n",
       "      <td>23.234326<\/td>\n",
       "    <\/tr>\n",
       "    <tr>\n",
       "      <th>...<\/th>\n",
       "      <td>...<\/td>\n",
       "      <td>...<\/td>\n",
       "      <td>...<\/td>\n",
       "      <td>...<\/td>\n",
       "    <\/tr>\n",
       "    <tr>\n",
       "      <th>2763<\/th>\n",
       "      <td>23347.172710<\/td>\n",
       "      <td>9.000395<\/td>\n",
       "      <td>333.073546<\/td>\n",
       "      <td>14.173906<\/td>\n",
       "    <\/tr>\n",
       "    <tr>\n",
       "      <th>905<\/th>\n",
       "      <td>34160.925144<\/td>\n",
       "      <td>8.963156<\/td>\n",
       "      <td>363.472798<\/td>\n",
       "      <td>15.905270<\/td>\n",
       "    <\/tr>\n",
       "    <tr>\n",
       "      <th>1096<\/th>\n",
       "      <td>45141.686036<\/td>\n",
       "      <td>6.030640<\/td>\n",
       "      <td>240.198505<\/td>\n",
       "      <td>20.605552<\/td>\n",
       "    <\/tr>\n",
       "    <tr>\n",
       "      <th>235<\/th>\n",
       "      <td>17650.405049<\/td>\n",
       "      <td>8.121080<\/td>\n",
       "      <td>350.487939<\/td>\n",
       "      <td>10.999416<\/td>\n",
       "    <\/tr>\n",
       "    <tr>\n",
       "      <th>1061<\/th>\n",
       "      <td>30646.815275<\/td>\n",
       "      <td>6.325162<\/td>\n",
       "      <td>294.966088<\/td>\n",
       "      <td>14.712285<\/td>\n",
       "    <\/tr>\n",
       "  <\/tbody>\n",
       "<\/table>\n",
       "<p>2620 rows × 4 columns<\/p>\n",
       "<\/div>"
      ]
     },
     "metadata":{
      
     },
     "output_type":"display_data"
    }
   ],
   "metadata":{
    "datalore":{
     "type":"CODE",
     "hide_input_from_viewers":false,
     "hide_output_from_viewers":false
    }
   }
  },
  {
   "cell_type":"code",
   "source":[
    "simple_knn_class._y_train"
   ],
   "execution_count":null,
   "outputs":[
    {
     "data":{
      "text\/html":[
       
      ]
     },
     "metadata":{
      
     },
     "output_type":"display_data"
    }
   ],
   "metadata":{
    "datalore":{
     "type":"CODE",
     "hide_input_from_viewers":false,
     "hide_output_from_viewers":false
    }
   }
  },
  {
   "cell_type":"markdown",
   "source":[
    "### Предсказание"
   ],
   "attachments":{
    
   },
   "metadata":{
    "datalore":{
     "type":"MD",
     "hide_input_from_viewers":false,
     "hide_output_from_viewers":false
    }
   }
  },
  {
   "cell_type":"code",
   "source":[
    "# первая строка тестовой выборки\n",
    "data_test_0 = [x for x in x_test[['Solids','Chloramines', 'Sulfate', 'Organic_carbon']].iloc[0]]\n",
    "data_test_0"
   ],
   "execution_count":null,
   "outputs":[
    {
     "data":{
      "text\/plain":[
       "[14775.14559575291, 7.484103646670236, 305.82855327870027, 12.309015955365226]"
      ]
     },
     "metadata":{
      
     },
     "output_type":"display_data"
    }
   ],
   "metadata":{
    "datalore":{
     "type":"CODE",
     "hide_input_from_viewers":false,
     "hide_output_from_viewers":false
    }
   }
  },
  {
   "cell_type":"code",
   "source":[
    "# построим предсказание для одного объекта (классификация)\n",
    "simple_knn_class_0 = simple_knn_class.predict_for_single_object(K=5, \\\n",
    "                          prediction_type=PredictionType.CLASSIFICATION, \\\n",
    "                          X_o=data_test_0, verbose=False)\n",
    "simple_knn_class_0"
   ],
   "execution_count":null,
   "outputs":[
    {
     "data":{
      "text\/plain":[
       "'Not_safe'"
      ]
     },
     "metadata":{
      
     },
     "output_type":"display_data"
    }
   ],
   "metadata":{
    "datalore":{
     "type":"CODE",
     "hide_input_from_viewers":false,
     "hide_output_from_viewers":false
    }
   }
  },
  {
   "cell_type":"markdown",
   "source":[
    "### Метод К ближайших соседей: использование класса scikit-learn"
   ],
   "attachments":{
    
   },
   "metadata":{
    "datalore":{
     "type":"MD",
     "hide_input_from_viewers":false,
     "hide_output_from_viewers":false
    }
   }
  },
  {
   "cell_type":"code",
   "source":[
    "model = KNeighborsClassifier(n_neighbors=3)\n",
    "model"
   ],
   "execution_count":null,
   "outputs":[
    {
     "data":{
      "text\/html":[
       "<style>#sk-container-id-1 {color: black;background-color: white;}#sk-container-id-1 pre{padding: 0;}#sk-container-id-1 div.sk-toggleable {background-color: white;}#sk-container-id-1 label.sk-toggleable__label {cursor: pointer;display: block;width: 100%;margin-bottom: 0;padding: 0.3em;box-sizing: border-box;text-align: center;}#sk-container-id-1 label.sk-toggleable__label-arrow:before {content: \"▸\";float: left;margin-right: 0.25em;color: #696969;}#sk-container-id-1 label.sk-toggleable__label-arrow:hover:before {color: black;}#sk-container-id-1 div.sk-estimator:hover label.sk-toggleable__label-arrow:before {color: black;}#sk-container-id-1 div.sk-toggleable__content {max-height: 0;max-width: 0;overflow: hidden;text-align: left;background-color: #f0f8ff;}#sk-container-id-1 div.sk-toggleable__content pre {margin: 0.2em;color: black;border-radius: 0.25em;background-color: #f0f8ff;}#sk-container-id-1 input.sk-toggleable__control:checked~div.sk-toggleable__content {max-height: 200px;max-width: 100%;overflow: auto;}#sk-container-id-1 input.sk-toggleable__control:checked~label.sk-toggleable__label-arrow:before {content: \"▾\";}#sk-container-id-1 div.sk-estimator input.sk-toggleable__control:checked~label.sk-toggleable__label {background-color: #d4ebff;}#sk-container-id-1 div.sk-label input.sk-toggleable__control:checked~label.sk-toggleable__label {background-color: #d4ebff;}#sk-container-id-1 input.sk-hidden--visually {border: 0;clip: rect(1px 1px 1px 1px);clip: rect(1px, 1px, 1px, 1px);height: 1px;margin: -1px;overflow: hidden;padding: 0;position: absolute;width: 1px;}#sk-container-id-1 div.sk-estimator {font-family: monospace;background-color: #f0f8ff;border: 1px dotted black;border-radius: 0.25em;box-sizing: border-box;margin-bottom: 0.5em;}#sk-container-id-1 div.sk-estimator:hover {background-color: #d4ebff;}#sk-container-id-1 div.sk-parallel-item::after {content: \"\";width: 100%;border-bottom: 1px solid gray;flex-grow: 1;}#sk-container-id-1 div.sk-label:hover label.sk-toggleable__label {background-color: #d4ebff;}#sk-container-id-1 div.sk-serial::before {content: \"\";position: absolute;border-left: 1px solid gray;box-sizing: border-box;top: 0;bottom: 0;left: 50%;z-index: 0;}#sk-container-id-1 div.sk-serial {display: flex;flex-direction: column;align-items: center;background-color: white;padding-right: 0.2em;padding-left: 0.2em;position: relative;}#sk-container-id-1 div.sk-item {position: relative;z-index: 1;}#sk-container-id-1 div.sk-parallel {display: flex;align-items: stretch;justify-content: center;background-color: white;position: relative;}#sk-container-id-1 div.sk-item::before, #sk-container-id-1 div.sk-parallel-item::before {content: \"\";position: absolute;border-left: 1px solid gray;box-sizing: border-box;top: 0;bottom: 0;left: 50%;z-index: -1;}#sk-container-id-1 div.sk-parallel-item {display: flex;flex-direction: column;z-index: 1;position: relative;background-color: white;}#sk-container-id-1 div.sk-parallel-item:first-child::after {align-self: flex-end;width: 50%;}#sk-container-id-1 div.sk-parallel-item:last-child::after {align-self: flex-start;width: 50%;}#sk-container-id-1 div.sk-parallel-item:only-child::after {width: 0;}#sk-container-id-1 div.sk-dashed-wrapped {border: 1px dashed gray;margin: 0 0.4em 0.5em 0.4em;box-sizing: border-box;padding-bottom: 0.4em;background-color: white;}#sk-container-id-1 div.sk-label label {font-family: monospace;font-weight: bold;display: inline-block;line-height: 1.2em;}#sk-container-id-1 div.sk-label-container {text-align: center;}#sk-container-id-1 div.sk-container {\/* jupyter's `normalize.less` sets `[hidden] { display: none; }` but bootstrap.min.css set `[hidden] { display: none !important; }` so we also need the `!important` here to be able to override the default hidden behavior on the sphinx rendered scikit-learn.org. See: https:\/\/github.com\/scikit-learn\/scikit-learn\/issues\/21755 *\/display: inline-block !important;position: relative;}#sk-container-id-1 div.sk-text-repr-fallback {display: none;}<\/style><div id=\"sk-container-id-1\" class=\"sk-top-container\"><div class=\"sk-text-repr-fallback\"><pre>KNeighborsClassifier(n_neighbors=3)<\/pre><b>In a Jupyter environment, please rerun this cell to show the HTML representation or trust the notebook. <br \/>On GitHub, the HTML representation is unable to render, please try loading this page with nbviewer.org.<\/b><\/div><div class=\"sk-container\" hidden><div class=\"sk-item\"><div class=\"sk-estimator sk-toggleable\"><input class=\"sk-toggleable__control sk-hidden--visually\" id=\"sk-estimator-id-1\" type=\"checkbox\" checked><label for=\"sk-estimator-id-1\" class=\"sk-toggleable__label sk-toggleable__label-arrow\">KNeighborsClassifier<\/label><div class=\"sk-toggleable__content\"><pre>KNeighborsClassifier(n_neighbors=3)<\/pre><\/div><\/div><\/div><\/div><\/div>"
      ]
     },
     "metadata":{
      
     },
     "output_type":"display_data"
    }
   ],
   "metadata":{
    "datalore":{
     "type":"CODE",
     "hide_input_from_viewers":false,
     "hide_output_from_viewers":false
    }
   }
  },
  {
   "cell_type":"code",
   "source":[
    "model.fit(x_train[['Solids','Chloramines', 'Sulfate', 'Organic_carbon']], y_train)\n",
    "m_predict = model.predict(x_test[['Solids','Chloramines', 'Sulfate', 'Organic_carbon']])\n",
    "m_predict_train = model.predict(x_train[['Solids','Chloramines', 'Sulfate', 'Organic_carbon']])"
   ],
   "execution_count":null,
   "outputs":[
    
   ],
   "metadata":{
    "datalore":{
     "type":"CODE",
     "hide_input_from_viewers":false,
     "hide_output_from_viewers":false
    }
   }
  },
  {
   "cell_type":"code",
   "source":[
    "#модель с 10 ближайшими соседями\n",
    "model2 = KNeighborsClassifier(n_neighbors=10)\n",
    "model2.fit(x_train[['Solids','Chloramines', 'Sulfate', 'Organic_carbon']], y_train)\n",
    "m2_predict = model2.predict(x_test[['Solids','Chloramines', 'Sulfate', 'Organic_carbon']])"
   ],
   "execution_count":null,
   "outputs":[
    
   ],
   "metadata":{
    "datalore":{
     "type":"CODE",
     "hide_input_from_viewers":false,
     "hide_output_from_viewers":false
    }
   }
  },
  {
   "cell_type":"markdown",
   "source":[
    "### Оценка качества модели\n",
    "#### Метрики качества классификации\n",
    "\n",
    "Accuracy\n",
    "\n",
    "Матрица ошибок или Confusion Matrix\n",
    "\n",
    "Precision, recall и F-мера\n",
    "\n",
    "ROC-кривая и ROC AUC\n",
    "\n",
    "Кривая precision-recall\n",
    "\n",
    "Логистическая функция потерь - log loss"
   ],
   "attachments":{
    
   },
   "metadata":{
    "datalore":{
     "type":"MD",
     "hide_input_from_viewers":false,
     "hide_output_from_viewers":false
    }
   }
  },
  {
   "cell_type":"code",
   "source":[
    "# 1 параметр - эталонное значение классов из исходной (тестовой) выборки\n",
    "# 2 параметр - предсказанное значение классов\n",
    "\n",
    "# 3 ближайших соседа\n",
    "accuracy_score(y_test, m_predict)"
   ],
   "execution_count":null,
   "outputs":[
    {
     "data":{
      "text\/plain":[
       "0.5274390243902439"
      ]
     },
     "metadata":{
      
     },
     "output_type":"display_data"
    }
   ],
   "metadata":{
    "datalore":{
     "type":"CODE",
     "hide_input_from_viewers":false,
     "hide_output_from_viewers":false
    }
   }
  },
  {
   "cell_type":"code",
   "source":[
    "# 10 ближайших соседей\n",
    "accuracy_score(y_test, m2_predict)"
   ],
   "execution_count":null,
   "outputs":[
    {
     "data":{
      "text\/plain":[
       "0.5685975609756098"
      ]
     },
     "metadata":{
      
     },
     "output_type":"display_data"
    }
   ],
   "metadata":{
    "datalore":{
     "type":"CODE",
     "hide_input_from_viewers":false,
     "hide_output_from_viewers":false
    }
   }
  },
  {
   "cell_type":"code",
   "source":[
    "# 3 ближайших соседа\n",
    "balanced_accuracy_score(y_test, m_predict)"
   ],
   "execution_count":null,
   "outputs":[
    {
     "data":{
      "text\/plain":[
       "0.5000426301878571"
      ]
     },
     "metadata":{
      
     },
     "output_type":"display_data"
    }
   ],
   "metadata":{
    "datalore":{
     "type":"CODE",
     "hide_input_from_viewers":false,
     "hide_output_from_viewers":false
    }
   }
  },
  {
   "cell_type":"code",
   "source":[
    "# 10 ближайших соседей\n",
    "balanced_accuracy_score(y_test, m2_predict)"
   ],
   "execution_count":null,
   "outputs":[
    {
     "data":{
      "text\/plain":[
       "0.5170520751428112"
      ]
     },
     "metadata":{
      
     },
     "output_type":"display_data"
    }
   ],
   "metadata":{
    "datalore":{
     "type":"CODE",
     "hide_input_from_viewers":false,
     "hide_output_from_viewers":false
    }
   }
  },
  {
   "cell_type":"code",
   "source":[
    "def accuracy_score_for_classes(\n",
    "    y_true: np.ndarray, \n",
    "    y_pred: np.ndarray) -> Dict[int, float]:\n",
    "    # Для удобства фильтрации сформируем Pandas DataFrame \n",
    "    d = {'t': y_true, 'p': y_pred}\n",
    "    df = pd.DataFrame(data=d)\n",
    "    # Метки классов\n",
    "    classes = np.unique(y_true)\n",
    "    # Результирующий словарь\n",
    "    res = dict()\n",
    "    # Перебор меток классов\n",
    "    for c in classes:\n",
    "        # отфильтруем данные, которые соответствуют \n",
    "        # текущей метке класса в истинных значениях\n",
    "        temp_data_flt = df[df['t']==c]\n",
    "        # расчет accuracy для заданной метки класса\n",
    "        temp_acc = accuracy_score(\n",
    "            temp_data_flt['t'].values, \n",
    "            temp_data_flt['p'].values)\n",
    "        # сохранение результата в словарь\n",
    "        res[c] = temp_acc\n",
    "    return res\n",
    "\n",
    "def print_accuracy_score_for_classes(\n",
    "    y_true: np.ndarray, \n",
    "    y_pred: np.ndarray):\n",
    "    accs = accuracy_score_for_classes(y_true, y_pred)\n",
    "    if len(accs)>0:\n",
    "        print('Метка \\t Accuracy')\n",
    "    for i in accs:\n",
    "        print('{} \\t {}'.format(i, accs[i]))"
   ],
   "execution_count":null,
   "outputs":[
    
   ],
   "metadata":{
    "datalore":{
     "type":"CODE",
     "hide_input_from_viewers":false,
     "hide_output_from_viewers":false
    }
   }
  },
  {
   "cell_type":"code",
   "source":[
    "# 3 ближайших соседа\n",
    "print_accuracy_score_for_classes(y_test, m_predict)"
   ],
   "execution_count":null,
   "outputs":[
    {
     "name":"stdout",
     "text":[
      "Метка \t Accuracy\n",
      "0 \t 0.6997319034852547\n",
      "1 \t 0.3003533568904594\n"
     ],
     "output_type":"stream"
    }
   ],
   "metadata":{
    "datalore":{
     "type":"CODE",
     "hide_input_from_viewers":false,
     "hide_output_from_viewers":false
    }
   }
  },
  {
   "cell_type":"code",
   "source":[
    "# 10 ближайших соседей\n",
    "print_accuracy_score_for_classes(y_test, m2_predict)"
   ],
   "execution_count":null,
   "outputs":[
    {
     "name":"stdout",
     "text":[
      "Метка \t Accuracy\n",
      "0 \t 0.8927613941018767\n",
      "1 \t 0.1413427561837456\n"
     ],
     "output_type":"stream"
    }
   ],
   "metadata":{
    "datalore":{
     "type":"CODE",
     "hide_input_from_viewers":false,
     "hide_output_from_viewers":false
    }
   }
  },
  {
   "cell_type":"markdown",
   "source":[
    "### Матрица ошибок"
   ],
   "attachments":{
    
   },
   "metadata":{
    "datalore":{
     "type":"MD",
     "hide_input_from_viewers":false,
     "hide_output_from_viewers":false
    }
   }
  },
  {
   "cell_type":"code",
   "source":[
    "tn, fp, fn, tp = confusion_matrix(y_test, m_predict).ravel()\n",
    "tn, fp, fn, tp"
   ],
   "execution_count":null,
   "outputs":[
    {
     "data":{
      "text\/plain":[
       "(261, 112, 198, 85)"
      ]
     },
     "metadata":{
      
     },
     "output_type":"display_data"
    }
   ],
   "metadata":{
    "datalore":{
     "type":"CODE",
     "hide_input_from_viewers":false,
     "hide_output_from_viewers":false
    }
   }
  },
  {
   "cell_type":"code",
   "source":[
    "fig, ax = plt.subplots(1, 2, sharex='col', sharey='row', figsize=(15,5))\n",
    "labels = ['Not_safe', 'Is_safe']\n",
    "\n",
    "plot_confusion_matrix(model, x_test[['Solids','Chloramines', 'Sulfate', 'Organic_carbon']], y_test,\n",
    "                      display_labels=labels, cmap=plt.cm.Blues, normalize='true', ax=ax[0])\n",
    "\n",
    "plot_confusion_matrix(model2, x_test[['Solids','Chloramines', 'Sulfate', 'Organic_carbon']], y_test,\n",
    "                      display_labels=labels, cmap=plt.cm.Blues, normalize='true', ax=ax[1])\n",
    "\n",
    "fig.suptitle('Матрицы ошибок')\n",
    "ax[0].title.set_text('K=2')\n",
    "ax[1].title.set_text('K=10')"
   ],
   "execution_count":null,
   "outputs":[
    {
     "name":"stderr",
     "text":[
      "\/opt\/python\/envs\/default\/lib\/python3.8\/site-packages\/sklearn\/utils\/deprecation.py:87: FutureWarning: Function plot_confusion_matrix is deprecated; Function `plot_confusion_matrix` is deprecated in 1.0 and will be removed in 1.2. Use one of the class methods: ConfusionMatrixDisplay.from_predictions or ConfusionMatrixDisplay.from_estimator.\n",
      "  warnings.warn(msg, category=FutureWarning)\n",
      "\/opt\/python\/envs\/default\/lib\/python3.8\/site-packages\/sklearn\/utils\/deprecation.py:87: FutureWarning: Function plot_confusion_matrix is deprecated; Function `plot_confusion_matrix` is deprecated in 1.0 and will be removed in 1.2. Use one of the class methods: ConfusionMatrixDisplay.from_predictions or ConfusionMatrixDisplay.from_estimator.\n",
      "  warnings.warn(msg, category=FutureWarning)\n"
     ],
     "output_type":"stream"
    },
    {
     "data":{
      "image\/png":"[encoded data removed]"
     },
     "metadata":{
      "image\/png":{
       
      }
     },
     "output_type":"display_data"
    }
   ],
   "metadata":{
    "datalore":{
     "type":"CODE",
     "hide_input_from_viewers":false,
     "hide_output_from_viewers":false
    }
   }
  },
  {
   "cell_type":"markdown",
   "source":[
    "### Precision, recall и F-мера"
   ],
   "attachments":{
    
   },
   "metadata":{
    "datalore":{
     "type":"MD",
     "hide_input_from_viewers":false,
     "hide_output_from_viewers":false
    }
   }
  },
  {
   "cell_type":"code",
   "source":[
    "# По умолчанию метрики считаются для 1 класса бинарной классификации\n",
    "# Для 3 и 10 ближайших соседей\n",
    "precision_score(y_test, m_predict), precision_score(y_test, m2_predict)"
   ],
   "execution_count":null,
   "outputs":[
    {
     "data":{
      "text\/plain":[
       "(0.43147208121827413, 0.5)"
      ]
     },
     "metadata":{
      
     },
     "output_type":"display_data"
    }
   ],
   "metadata":{
    "datalore":{
     "type":"CODE",
     "hide_input_from_viewers":false,
     "hide_output_from_viewers":false
    }
   }
  },
  {
   "cell_type":"code",
   "source":[
    "# Параметры TP, TN, FP, FN считаются как сумма по всем классам\n",
    "precision_score(y_test, m_predict, average='micro'), precision_score(y_test, m2_predict, average='micro')"
   ],
   "execution_count":null,
   "outputs":[
    {
     "data":{
      "text\/plain":[
       "(0.5274390243902439, 0.5685975609756098)"
      ]
     },
     "metadata":{
      
     },
     "output_type":"display_data"
    }
   ],
   "metadata":{
    "datalore":{
     "type":"CODE",
     "hide_input_from_viewers":false,
     "hide_output_from_viewers":false
    }
   }
  },
  {
   "cell_type":"code",
   "source":[
    "# Параметры TP, TN, FP, FN считаются отдельно для каждого класса \n",
    "# и берется среднее значение, дисбаланс классов не учитывается.\n",
    "precision_score(y_test, m_predict, average='macro'), precision_score(y_test, m2_predict, average='macro')"
   ],
   "execution_count":null,
   "outputs":[
    {
     "data":{
      "text\/plain":[
       "(0.5000497660993332, 0.5390625)"
      ]
     },
     "metadata":{
      
     },
     "output_type":"display_data"
    }
   ],
   "metadata":{
    "datalore":{
     "type":"CODE",
     "hide_input_from_viewers":false,
     "hide_output_from_viewers":false
    }
   }
  },
  {
   "cell_type":"code",
   "source":[
    "# Параметры TP, TN, FP, FN считаются отдельно для каждого класса \n",
    "# и берется средневзвешенное значение, дисбаланс классов учитывается \n",
    "# в виде веса классов (вес - количество истинных значений каждого класса).\n",
    "precision_score(y_test, m_predict, average='weighted'), precision_score(y_test, m2_predict, average='weighted')"
   ],
   "execution_count":null,
   "outputs":[
    {
     "data":{
      "text\/plain":[
       "(0.5094582899397223, 0.5444216844512195)"
      ]
     },
     "metadata":{
      
     },
     "output_type":"display_data"
    }
   ],
   "metadata":{
    "datalore":{
     "type":"CODE",
     "hide_input_from_viewers":false,
     "hide_output_from_viewers":false
    }
   }
  },
  {
   "cell_type":"markdown",
   "source":[
    "### Recall (полнота)"
   ],
   "attachments":{
    
   },
   "metadata":{
    "datalore":{
     "type":"MD",
     "hide_input_from_viewers":false,
     "hide_output_from_viewers":false
    }
   }
  },
  {
   "cell_type":"code",
   "source":[
    "# Для 3 и 10 ближайших соседей\n",
    "recall_score(y_test, m_predict), recall_score(y_test, m2_predict)"
   ],
   "execution_count":null,
   "outputs":[
    {
     "data":{
      "text\/plain":[
       "(0.3003533568904594, 0.1413427561837456)"
      ]
     },
     "metadata":{
      
     },
     "output_type":"display_data"
    }
   ],
   "metadata":{
    "datalore":{
     "type":"CODE",
     "hide_input_from_viewers":false,
     "hide_output_from_viewers":false
    }
   }
  },
  {
   "cell_type":"markdown",
   "source":[
    "### F-мера"
   ],
   "attachments":{
    
   },
   "metadata":{
    "datalore":{
     "type":"MD",
     "hide_input_from_viewers":false,
     "hide_output_from_viewers":false
    }
   }
  },
  {
   "cell_type":"code",
   "source":[
    "# Для 3 и 10 ближайших соседей\n",
    "fbeta_score(y_test, m_predict, average='macro', beta=0.5), fbeta_score(y_test, m2_predict, average='macro', beta=0.5)"
   ],
   "execution_count":null,
   "outputs":[
    {
     "data":{
      "text\/plain":[
       "(0.4937952244425762, 0.4768199223035613)"
      ]
     },
     "metadata":{
      
     },
     "output_type":"display_data"
    }
   ],
   "metadata":{
    "datalore":{
     "type":"CODE",
     "hide_input_from_viewers":false,
     "hide_output_from_viewers":false
    }
   }
  },
  {
   "cell_type":"markdown",
   "source":[
    "### Удобный вывод метрик"
   ],
   "attachments":{
    
   },
   "metadata":{
    "datalore":{
     "type":"MD",
     "hide_input_from_viewers":false,
     "hide_output_from_viewers":false
    }
   }
  },
  {
   "cell_type":"code",
   "source":[
    "# Для 3 и 10 ближайших соседей\n",
    "classification_report(y_test, m_predict, target_names=['Not_safe', 'Is_safe'], output_dict=True), \\\n",
    " classification_report(y_test, m2_predict, target_names=['Not_safe', 'Is_safe'], output_dict=True)"
   ],
   "execution_count":null,
   "outputs":[
    {
     "data":{
      "text\/plain":[
       "({'Not_safe': {'precision': 0.5686274509803921,\n",
       "   'recall': 0.6997319034852547,\n",
       "   'f1-score': 0.6274038461538461,\n",
       "   'support': 373},\n",
       "  'Is_safe': {'precision': 0.43147208121827413,\n",
       "   'recall': 0.3003533568904594,\n",
       "   'f1-score': 0.3541666666666667,\n",
       "   'support': 283},\n",
       "  'accuracy': 0.5274390243902439,\n",
       "  'macro avg': {'precision': 0.5000497660993332,\n",
       "   'recall': 0.5000426301878571,\n",
       "   'f1-score': 0.4907852564102564,\n",
       "   'support': 656},\n",
       "  'weighted avg': {'precision': 0.5094582899397223,\n",
       "   'recall': 0.5274390243902439,\n",
       "   'f1-score': 0.5095286604909318,\n",
       "   'support': 656}},\n",
       " {'Not_safe': {'precision': 0.578125,\n",
       "   'recall': 0.8927613941018767,\n",
       "   'f1-score': 0.701791359325606,\n",
       "   'support': 373},\n",
       "  'Is_safe': {'precision': 0.5,\n",
       "   'recall': 0.1413427561837456,\n",
       "   'f1-score': 0.22038567493112948,\n",
       "   'support': 283},\n",
       "  'accuracy': 0.5685975609756098,\n",
       "  'macro avg': {'precision': 0.5390625,\n",
       "   'recall': 0.5170520751428112,\n",
       "   'f1-score': 0.46108851712836774,\n",
       "   'support': 656},\n",
       "  'weighted avg': {'precision': 0.5444216844512195,\n",
       "   'recall': 0.5685975609756098,\n",
       "   'f1-score': 0.494111772917623,\n",
       "   'support': 656}})"
      ]
     },
     "metadata":{
      
     },
     "output_type":"display_data"
    }
   ],
   "metadata":{
    "datalore":{
     "type":"CODE",
     "hide_input_from_viewers":false,
     "hide_output_from_viewers":false
    }
   }
  },
  {
   "cell_type":"markdown",
   "source":[
    "### ROC-кривая(кривая ошибок) и ROC AUC"
   ],
   "attachments":{
    
   },
   "metadata":{
    "datalore":{
     "type":"MD",
     "hide_input_from_viewers":false,
     "hide_output_from_viewers":false
    }
   }
  },
  {
   "cell_type":"code",
   "source":[
    "# Отрисовка ROC-кривой\n",
    "def draw_roc_curve(y_true, y_score, pos_label, average):\n",
    "    fpr, tpr, thresholds = roc_curve(y_true, y_score, \n",
    "                                     pos_label=pos_label)\n",
    "    roc_auc_value = roc_auc_score(y_true, y_score, average=average)\n",
    "    plt.figure()\n",
    "    lw = 2\n",
    "    plt.plot(fpr, tpr, color='darkorange',\n",
    "             lw=lw, label='ROC curve (area = %0.2f)' % roc_auc_value)\n",
    "    plt.plot([0, 1], [0, 1], color='navy', lw=lw, linestyle='--')\n",
    "    plt.xlim([0.0, 1.0])\n",
    "    plt.ylim([0.0, 1.05])\n",
    "    plt.xlabel('False Positive Rate')\n",
    "    plt.ylabel('True Positive Rate')\n",
    "    plt.title('Receiver operating characteristic example')\n",
    "    plt.legend(loc=\"lower right\")\n",
    "    plt.show()"
   ],
   "execution_count":null,
   "outputs":[
    
   ],
   "metadata":{
    "datalore":{
     "type":"CODE",
     "hide_input_from_viewers":false,
     "hide_output_from_viewers":false
    }
   }
  },
  {
   "cell_type":"code",
   "source":[
    "# для 3 соседей\n",
    "m_proba = model.predict_proba(x_test[['Solids','Chloramines', 'Sulfate', 'Organic_carbon']])\n",
    "true_m_proba = m_proba[:,1]\n",
    "roc_curve_k10_res = roc_curve(y_test, true_m_proba, pos_label=1)\n",
    "draw_roc_curve(y_test, true_m_proba, pos_label=1, average='micro')"
   ],
   "execution_count":null,
   "outputs":[
    {
     "data":{
      "image\/png":"[encoded data removed]"
     },
     "metadata":{
      "image\/png":{
       
      }
     },
     "output_type":"display_data"
    }
   ],
   "metadata":{
    "datalore":{
     "type":"CODE",
     "hide_input_from_viewers":false,
     "hide_output_from_viewers":false
    }
   }
  },
  {
   "cell_type":"code",
   "source":[
    "# для 10 соседей\n",
    "m2_proba = model2.predict_proba(x_test[['Solids','Chloramines', 'Sulfate', 'Organic_carbon']])\n",
    "true_m2_proba = m2_proba[:,1]\n",
    "roc_curve_k10_res = roc_curve(y_test, true_m2_proba, pos_label=1)\n",
    "draw_roc_curve(y_test, true_m2_proba, pos_label=1, average='micro')"
   ],
   "execution_count":null,
   "outputs":[
    {
     "data":{
      "image\/png":"[encoded data removed]"
     },
     "metadata":{
      "image\/png":{
       
      }
     },
     "output_type":"display_data"
    }
   ],
   "metadata":{
    "datalore":{
     "type":"CODE",
     "hide_input_from_viewers":false,
     "hide_output_from_viewers":false
    }
   }
  },
  {
   "cell_type":"markdown",
   "source":[
    "### Подбор гиперпараметра K с использованием GridSearchCV и\/или RandomizedSearchCV и кросс-валидации"
   ],
   "attachments":{
    
   },
   "metadata":{
    "datalore":{
     "type":"MD",
     "hide_input_from_viewers":false,
     "hide_output_from_viewers":false
    }
   }
  },
  {
   "cell_type":"code",
   "source":[
    "# удалим target из выборки\n",
    "data_clean2 = data_clean.drop(columns = ['Potability'], axis = 1)\n",
    "# переведем в numpy array\n",
    "data_clean2_np = data_clean2.to_numpy()\n",
    "target2 = target.to_numpy()"
   ],
   "execution_count":null,
   "outputs":[
    
   ],
   "metadata":{
    "datalore":{
     "type":"CODE",
     "hide_input_from_viewers":false,
     "hide_output_from_viewers":false
    }
   }
  },
  {
   "cell_type":"markdown",
   "source":[
    "### Кросс-валидация (скользящий контроль, перекрестная проверка), cross-validation)\n",
    "Данные разбиваются на k частей (fold-ов). Кол-во fold-oв - сv. \\ Затем на k−1 частях данных производится обучение модели, а оставшаяся часть данных используется для тестирования. Процедура повторяется k раз; в итоге каждая из k частей данных используется для тестирования. В результате получается оценка эффективности выбранной модели с наиболее равномерным использованием имеющихся данных.\n",
    "### Стратегии кросс валидации (CV): K-fold"
   ],
   "attachments":{
    
   },
   "metadata":{
    "datalore":{
     "type":"MD",
     "hide_input_from_viewers":false,
     "hide_output_from_viewers":false
    }
   }
  },
  {
   "cell_type":"code",
   "source":[
    "# разбивает на 3 блока всевозможными способами и вовращает 2 выборки\n",
    "# тестовая - 1 блок, обучающая - остальные блоки\n",
    "cv_kf = KFold(n_splits=3)\n",
    "for train_index, test_index in cv_kf.split(data_clean2):\n",
    "     print(\"TRAIN:\", train_index, \"TEST:\", test_index)\n",
    "     x2_train, x2_test = data_clean2_np[train_index], data_clean2_np[test_index]\n",
    "     y2_train, y2_test = target2[train_index], target2[test_index]\n",
    "     print(\"x2_train: \", x2_train.shape, \"\\nx2_test: \", x2_test.shape, \"y2_train: \", y2_train.shape, \"\\ny2_test: \", y2_test.shape)"
   ],
   "execution_count":null,
   "outputs":[
    
   ],
   "metadata":{
    "datalore":{
     "type":"CODE",
     "hide_input_from_viewers":false,
     "hide_output_from_viewers":false
    }
   }
  },
  {
   "cell_type":"markdown",
   "source":[
    "### CV: Repeated K-Fold"
   ],
   "attachments":{
    
   },
   "metadata":{
    "datalore":{
     "type":"MD",
     "hide_input_from_viewers":false,
     "hide_output_from_viewers":false
    }
   }
  },
  {
   "cell_type":"code",
   "source":[
    "kf = RepeatedKFold(n_splits=3, n_repeats=2)\n",
    "for train_index, test_index in kf.split(data_clean2):\n",
    "     print(\"TRAIN:\", train_index, \"TEST:\", test_index)"
   ],
   "execution_count":null,
   "outputs":[
    {
     "name":"stdout",
     "text":[
      "TRAIN: [   0    1    3 ... 3271 3273 3275] TEST: [   2    5   10 ... 3266 3272 3274]\n",
      "TRAIN: [   2    3    5 ... 3273 3274 3275] TEST: [   0    1    4 ... 3267 3268 3270]\n",
      "TRAIN: [   0    1    2 ... 3270 3272 3274] TEST: [   3   11   12 ... 3271 3273 3275]\n",
      "TRAIN: [   0    1    3 ... 3269 3270 3272] TEST: [   2    6    8 ... 3273 3274 3275]\n",
      "TRAIN: [   0    2    4 ... 3273 3274 3275] TEST: [   1    3    7 ... 3267 3268 3270]\n",
      "TRAIN: [   1    2    3 ... 3273 3274 3275] TEST: [   0    4    5 ... 3265 3269 3272]\n"
     ],
     "output_type":"stream"
    }
   ],
   "metadata":{
    "datalore":{
     "type":"CODE",
     "hide_input_from_viewers":false,
     "hide_output_from_viewers":false
    }
   }
  },
  {
   "cell_type":"markdown",
   "source":[
    "### CV: Leave One Out (LOO)"
   ],
   "attachments":{
    
   },
   "metadata":{
    "datalore":{
     "type":"MD",
     "hide_input_from_viewers":false,
     "hide_output_from_viewers":false
    }
   }
  },
  {
   "cell_type":"code",
   "source":[
    "kf = LeaveOneOut()"
   ],
   "execution_count":null,
   "outputs":[
    
   ],
   "metadata":{
    "datalore":{
     "type":"CODE",
     "hide_input_from_viewers":false,
     "hide_output_from_viewers":false
    }
   }
  },
  {
   "cell_type":"markdown",
   "source":[
    "### CV: Leave P Out (LPO)"
   ],
   "attachments":{
    
   },
   "metadata":{
    "datalore":{
     "type":"MD",
     "hide_input_from_viewers":false,
     "hide_output_from_viewers":false
    }
   }
  },
  {
   "cell_type":"code",
   "source":[
    "kf = LeavePOut(100)"
   ],
   "execution_count":null,
   "outputs":[
    
   ],
   "metadata":{
    "datalore":{
     "type":"CODE",
     "hide_input_from_viewers":false,
     "hide_output_from_viewers":false
    }
   }
  },
  {
   "cell_type":"markdown",
   "source":[
    "### CV: ShuffleSplit"
   ],
   "attachments":{
    
   },
   "metadata":{
    "datalore":{
     "type":"MD",
     "hide_input_from_viewers":false,
     "hide_output_from_viewers":false
    }
   }
  },
  {
   "cell_type":"code",
   "source":[
    "kf = ShuffleSplit(n_splits=5, test_size=0.25)"
   ],
   "execution_count":null,
   "outputs":[
    
   ],
   "metadata":{
    "datalore":{
     "type":"CODE",
     "hide_input_from_viewers":false,
     "hide_output_from_viewers":false
    }
   }
  },
  {
   "cell_type":"markdown",
   "source":[
    "### CV: StratifiedKFold, StratifiedShuffleSplit"
   ],
   "attachments":{
    
   },
   "metadata":{
    "datalore":{
     "type":"MD",
     "hide_input_from_viewers":false,
     "hide_output_from_viewers":false
    }
   }
  },
  {
   "cell_type":"code",
   "source":[
    "def class_proportions(array: np.ndarray) -> Dict[int, Tuple[int, float]]:\n",
    "    \"\"\"\n",
    "    Вычисляет пропорции классов\n",
    "    array - массив, содержащий метки классов\n",
    "    \"\"\"\n",
    "    # Получение меток классов и количества меток каждого класса \n",
    "    labels, counts = np.unique(array, return_counts=True)\n",
    "    # Превращаем количество меток в процент их встречаемости\n",
    "    # делим количество меток каждого класса на общее количество меток\n",
    "    counts_perc = counts\/array.size\n",
    "    # Теперь sum(counts_perc)==1.0\n",
    "    # Создаем результирующий словарь,\n",
    "    # ключом словаря явлется метка класса, \n",
    "    # а значением словаря процент встречаемости метки\n",
    "    res = dict()\n",
    "    for label, count2 in zip(labels, zip(counts, counts_perc)):\n",
    "        res[label] = count2\n",
    "    return res\n",
    "\n",
    "def print_class_proportions(array: np.ndarray):\n",
    "    \"\"\"\n",
    "    Вывод пропорций классов\n",
    "    \"\"\"\n",
    "    proportions = class_proportions(array)\n",
    "    if len(proportions)>0:\n",
    "        print('Метка \\t Количество \\t Процент встречаемости')\n",
    "    for i in proportions:\n",
    "        val, val_perc = proportions[i]\n",
    "        val_perc_100 = round(val_perc * 100, 2)\n",
    "        print('{} \\t {} \\t \\t {}%'.format(i, val, val_perc_100))"
   ],
   "execution_count":null,
   "outputs":[
    
   ],
   "metadata":{
    "datalore":{
     "type":"CODE",
     "hide_input_from_viewers":false,
     "hide_output_from_viewers":false
    }
   }
  },
  {
   "cell_type":"code",
   "source":[
    "print_class_proportions(target)"
   ],
   "execution_count":null,
   "outputs":[
    {
     "name":"stdout",
     "text":[
      "Метка \t Количество \t Процент встречаемости\n",
      "0 \t 1998 \t \t 60.99%\n",
      "1 \t 1278 \t \t 39.01%\n"
     ],
     "output_type":"stream"
    }
   ],
   "metadata":{
    "datalore":{
     "type":"CODE",
     "hide_input_from_viewers":false,
     "hide_output_from_viewers":false
    }
   }
  },
  {
   "cell_type":"code",
   "source":[
    "kf = StratifiedKFold(n_splits=3)\n",
    "for train_index, test_index in kf.split(data_clean2, target):\n",
    "     print(\"TRAIN:\", train_index, \"TEST:\", test_index)"
   ],
   "execution_count":null,
   "outputs":[
    {
     "name":"stdout",
     "text":[
      "TRAIN: [ 986  987  988 ... 3273 3274 3275] TEST: [   0    1    2 ... 1173 1174 1175]\n",
      "TRAIN: [   0    1    2 ... 3273 3274 3275] TEST: [ 986  987  988 ... 2349 2350 2351]\n",
      "TRAIN: [   0    1    2 ... 2349 2350 2351] TEST: [2132 2133 2134 ... 3273 3274 3275]\n"
     ],
     "output_type":"stream"
    }
   ],
   "metadata":{
    "datalore":{
     "type":"CODE",
     "hide_input_from_viewers":false,
     "hide_output_from_viewers":false
    }
   }
  },
  {
   "cell_type":"markdown",
   "source":[
    "### Автоматическое определение стратегии кросс-валидации"
   ],
   "attachments":{
    
   },
   "metadata":{
    "datalore":{
     "type":"MD",
     "hide_input_from_viewers":false,
     "hide_output_from_viewers":false
    }
   }
  },
  {
   "cell_type":"code",
   "source":[
    "scores = cross_val_score(KNeighborsClassifier(n_neighbors=2), \n",
    "                         data_clean2, target, cv=3,\n",
    "                        scoring='f1_weighted')\n",
    "scores, np.mean(scores)"
   ],
   "execution_count":null,
   "outputs":[
    {
     "data":{
      "text\/plain":[
       "(array([0.53300914, 0.53450832, 0.52546197]), 0.530993145112893)"
      ]
     },
     "metadata":{
      
     },
     "output_type":"display_data"
    }
   ],
   "metadata":{
    "datalore":{
     "type":"CODE",
     "hide_input_from_viewers":false,
     "hide_output_from_viewers":false
    }
   }
  },
  {
   "cell_type":"code",
   "source":[
    "scoring = {'precision': 'precision_weighted', \n",
    "           'recall': 'recall_weighted',\n",
    "           'f1': 'f1_weighted'}\n",
    "\n",
    "scores = cross_validate(KNeighborsClassifier(n_neighbors=2), \n",
    "                        data_clean2, target, scoring=scoring, \n",
    "                        cv=3, return_train_score=True)\n",
    "scores"
   ],
   "execution_count":null,
   "outputs":[
    {
     "data":{
      "text\/plain":[
       "{'fit_time': array([0.00414562, 0.00353241, 0.00362825]),\n",
       " 'score_time': array([0.0474968 , 0.04678488, 0.04644966]),\n",
       " 'test_precision': array([0.54103369, 0.55821346, 0.53512798]),\n",
       " 'train_precision': array([0.83137748, 0.8243021 , 0.83282031]),\n",
       " 'test_recall': array([0.58424908, 0.59981685, 0.58333333]),\n",
       " 'train_recall': array([0.76694139, 0.75320513, 0.76968864]),\n",
       " 'test_f1': array([0.53300914, 0.53450832, 0.52546197]),\n",
       " 'train_f1': array([0.7359999 , 0.71687924, 0.73974906])}"
      ]
     },
     "metadata":{
      
     },
     "output_type":"display_data"
    }
   ],
   "metadata":{
    "datalore":{
     "type":"CODE",
     "hide_input_from_viewers":false,
     "hide_output_from_viewers":false
    }
   }
  },
  {
   "cell_type":"markdown",
   "source":[
    "### Оптимизация гиперпараметров\n",
    "#### Grid Search (решетчатый поиск)"
   ],
   "attachments":{
    
   },
   "metadata":{
    "datalore":{
     "type":"MD",
     "hide_input_from_viewers":false,
     "hide_output_from_viewers":false
    }
   }
  },
  {
   "cell_type":"code",
   "source":[
    "# массив гиперпараметров для проверки\n",
    "n_range = np.array(range(5,105,5))\n",
    "tuned_parameters = [{'n_neighbors': n_range}]\n",
    "tuned_parameters, len(n_range)"
   ],
   "execution_count":null,
   "outputs":[
    {
     "data":{
      "text\/plain":[
       "([{'n_neighbors': array([  5,  10,  15,  20,  25,  30,  35,  40,  45,  50,  55,  60,  65,\n",
       "           70,  75,  80,  85,  90,  95, 100])}],\n",
       " 20)"
      ]
     },
     "metadata":{
      
     },
     "output_type":"display_data"
    }
   ],
   "metadata":{
    "datalore":{
     "type":"CODE",
     "hide_input_from_viewers":false,
     "hide_output_from_viewers":false
    }
   }
  },
  {
   "cell_type":"code",
   "source":[
    "%%time\n",
    "m_gs = GridSearchCV(KNeighborsClassifier(), tuned_parameters, cv=5, scoring='accuracy')\n",
    "m_gs.fit(x_train[['Solids','Chloramines', 'Sulfate', 'Organic_carbon']], y_train)"
   ],
   "execution_count":null,
   "outputs":[
    {
     "name":"stdout",
     "text":[
      "CPU times: user 2.81 s, sys: 0 ns, total: 2.81 s\n",
      "Wall time: 2.82 s\n"
     ],
     "output_type":"stream"
    },
    {
     "data":{
      "text\/html":[
       "<style>#sk-container-id-2 {color: black;background-color: white;}#sk-container-id-2 pre{padding: 0;}#sk-container-id-2 div.sk-toggleable {background-color: white;}#sk-container-id-2 label.sk-toggleable__label {cursor: pointer;display: block;width: 100%;margin-bottom: 0;padding: 0.3em;box-sizing: border-box;text-align: center;}#sk-container-id-2 label.sk-toggleable__label-arrow:before {content: \"▸\";float: left;margin-right: 0.25em;color: #696969;}#sk-container-id-2 label.sk-toggleable__label-arrow:hover:before {color: black;}#sk-container-id-2 div.sk-estimator:hover label.sk-toggleable__label-arrow:before {color: black;}#sk-container-id-2 div.sk-toggleable__content {max-height: 0;max-width: 0;overflow: hidden;text-align: left;background-color: #f0f8ff;}#sk-container-id-2 div.sk-toggleable__content pre {margin: 0.2em;color: black;border-radius: 0.25em;background-color: #f0f8ff;}#sk-container-id-2 input.sk-toggleable__control:checked~div.sk-toggleable__content {max-height: 200px;max-width: 100%;overflow: auto;}#sk-container-id-2 input.sk-toggleable__control:checked~label.sk-toggleable__label-arrow:before {content: \"▾\";}#sk-container-id-2 div.sk-estimator input.sk-toggleable__control:checked~label.sk-toggleable__label {background-color: #d4ebff;}#sk-container-id-2 div.sk-label input.sk-toggleable__control:checked~label.sk-toggleable__label {background-color: #d4ebff;}#sk-container-id-2 input.sk-hidden--visually {border: 0;clip: rect(1px 1px 1px 1px);clip: rect(1px, 1px, 1px, 1px);height: 1px;margin: -1px;overflow: hidden;padding: 0;position: absolute;width: 1px;}#sk-container-id-2 div.sk-estimator {font-family: monospace;background-color: #f0f8ff;border: 1px dotted black;border-radius: 0.25em;box-sizing: border-box;margin-bottom: 0.5em;}#sk-container-id-2 div.sk-estimator:hover {background-color: #d4ebff;}#sk-container-id-2 div.sk-parallel-item::after {content: \"\";width: 100%;border-bottom: 1px solid gray;flex-grow: 1;}#sk-container-id-2 div.sk-label:hover label.sk-toggleable__label {background-color: #d4ebff;}#sk-container-id-2 div.sk-serial::before {content: \"\";position: absolute;border-left: 1px solid gray;box-sizing: border-box;top: 0;bottom: 0;left: 50%;z-index: 0;}#sk-container-id-2 div.sk-serial {display: flex;flex-direction: column;align-items: center;background-color: white;padding-right: 0.2em;padding-left: 0.2em;position: relative;}#sk-container-id-2 div.sk-item {position: relative;z-index: 1;}#sk-container-id-2 div.sk-parallel {display: flex;align-items: stretch;justify-content: center;background-color: white;position: relative;}#sk-container-id-2 div.sk-item::before, #sk-container-id-2 div.sk-parallel-item::before {content: \"\";position: absolute;border-left: 1px solid gray;box-sizing: border-box;top: 0;bottom: 0;left: 50%;z-index: -1;}#sk-container-id-2 div.sk-parallel-item {display: flex;flex-direction: column;z-index: 1;position: relative;background-color: white;}#sk-container-id-2 div.sk-parallel-item:first-child::after {align-self: flex-end;width: 50%;}#sk-container-id-2 div.sk-parallel-item:last-child::after {align-self: flex-start;width: 50%;}#sk-container-id-2 div.sk-parallel-item:only-child::after {width: 0;}#sk-container-id-2 div.sk-dashed-wrapped {border: 1px dashed gray;margin: 0 0.4em 0.5em 0.4em;box-sizing: border-box;padding-bottom: 0.4em;background-color: white;}#sk-container-id-2 div.sk-label label {font-family: monospace;font-weight: bold;display: inline-block;line-height: 1.2em;}#sk-container-id-2 div.sk-label-container {text-align: center;}#sk-container-id-2 div.sk-container {\/* jupyter's `normalize.less` sets `[hidden] { display: none; }` but bootstrap.min.css set `[hidden] { display: none !important; }` so we also need the `!important` here to be able to override the default hidden behavior on the sphinx rendered scikit-learn.org. See: https:\/\/github.com\/scikit-learn\/scikit-learn\/issues\/21755 *\/display: inline-block !important;position: relative;}#sk-container-id-2 div.sk-text-repr-fallback {display: none;}<\/style><div id=\"sk-container-id-2\" class=\"sk-top-container\"><div class=\"sk-text-repr-fallback\"><pre>GridSearchCV(cv=5, estimator=KNeighborsClassifier(),\n",
       "             param_grid=[{&#x27;n_neighbors&#x27;: array([  5,  10,  15,  20,  25,  30,  35,  40,  45,  50,  55,  60,  65,\n",
       "        70,  75,  80,  85,  90,  95, 100])}],\n",
       "             scoring=&#x27;accuracy&#x27;)<\/pre><b>In a Jupyter environment, please rerun this cell to show the HTML representation or trust the notebook. <br \/>On GitHub, the HTML representation is unable to render, please try loading this page with nbviewer.org.<\/b><\/div><div class=\"sk-container\" hidden><div class=\"sk-item sk-dashed-wrapped\"><div class=\"sk-label-container\"><div class=\"sk-label sk-toggleable\"><input class=\"sk-toggleable__control sk-hidden--visually\" id=\"sk-estimator-id-2\" type=\"checkbox\" ><label for=\"sk-estimator-id-2\" class=\"sk-toggleable__label sk-toggleable__label-arrow\">GridSearchCV<\/label><div class=\"sk-toggleable__content\"><pre>GridSearchCV(cv=5, estimator=KNeighborsClassifier(),\n",
       "             param_grid=[{&#x27;n_neighbors&#x27;: array([  5,  10,  15,  20,  25,  30,  35,  40,  45,  50,  55,  60,  65,\n",
       "        70,  75,  80,  85,  90,  95, 100])}],\n",
       "             scoring=&#x27;accuracy&#x27;)<\/pre><\/div><\/div><\/div><div class=\"sk-parallel\"><div class=\"sk-parallel-item\"><div class=\"sk-item\"><div class=\"sk-label-container\"><div class=\"sk-label sk-toggleable\"><input class=\"sk-toggleable__control sk-hidden--visually\" id=\"sk-estimator-id-3\" type=\"checkbox\" ><label for=\"sk-estimator-id-3\" class=\"sk-toggleable__label sk-toggleable__label-arrow\">estimator: KNeighborsClassifier<\/label><div class=\"sk-toggleable__content\"><pre>KNeighborsClassifier()<\/pre><\/div><\/div><\/div><div class=\"sk-serial\"><div class=\"sk-item\"><div class=\"sk-estimator sk-toggleable\"><input class=\"sk-toggleable__control sk-hidden--visually\" id=\"sk-estimator-id-4\" type=\"checkbox\" ><label for=\"sk-estimator-id-4\" class=\"sk-toggleable__label sk-toggleable__label-arrow\">KNeighborsClassifier<\/label><div class=\"sk-toggleable__content\"><pre>KNeighborsClassifier()<\/pre><\/div><\/div><\/div><\/div><\/div><\/div><\/div><\/div><\/div><\/div>"
      ]
     },
     "metadata":{
      
     },
     "output_type":"display_data"
    }
   ],
   "metadata":{
    "datalore":{
     "type":"CODE",
     "hide_input_from_viewers":false,
     "hide_output_from_viewers":false
    }
   }
  },
  {
   "cell_type":"markdown",
   "source":[
    "### Randomized Search (случайный поиск)"
   ],
   "attachments":{
    
   },
   "metadata":{
    "datalore":{
     "type":"MD",
     "hide_input_from_viewers":false,
     "hide_output_from_viewers":false
    }
   }
  },
  {
   "cell_type":"code",
   "source":[
    "%%time\n",
    "m_rs = RandomizedSearchCV(KNeighborsClassifier(), tuned_parameters, cv=5, scoring='accuracy')\n",
    "m_rs.fit(x_train[['Solids','Chloramines', 'Sulfate', 'Organic_carbon']], y_train)"
   ],
   "execution_count":null,
   "outputs":[
    {
     "name":"stdout",
     "text":[
      "CPU times: user 1.39 s, sys: 0 ns, total: 1.39 s\n",
      "Wall time: 1.39 s\n"
     ],
     "output_type":"stream"
    },
    {
     "data":{
      "text\/html":[
       "<style>#sk-container-id-3 {color: black;background-color: white;}#sk-container-id-3 pre{padding: 0;}#sk-container-id-3 div.sk-toggleable {background-color: white;}#sk-container-id-3 label.sk-toggleable__label {cursor: pointer;display: block;width: 100%;margin-bottom: 0;padding: 0.3em;box-sizing: border-box;text-align: center;}#sk-container-id-3 label.sk-toggleable__label-arrow:before {content: \"▸\";float: left;margin-right: 0.25em;color: #696969;}#sk-container-id-3 label.sk-toggleable__label-arrow:hover:before {color: black;}#sk-container-id-3 div.sk-estimator:hover label.sk-toggleable__label-arrow:before {color: black;}#sk-container-id-3 div.sk-toggleable__content {max-height: 0;max-width: 0;overflow: hidden;text-align: left;background-color: #f0f8ff;}#sk-container-id-3 div.sk-toggleable__content pre {margin: 0.2em;color: black;border-radius: 0.25em;background-color: #f0f8ff;}#sk-container-id-3 input.sk-toggleable__control:checked~div.sk-toggleable__content {max-height: 200px;max-width: 100%;overflow: auto;}#sk-container-id-3 input.sk-toggleable__control:checked~label.sk-toggleable__label-arrow:before {content: \"▾\";}#sk-container-id-3 div.sk-estimator input.sk-toggleable__control:checked~label.sk-toggleable__label {background-color: #d4ebff;}#sk-container-id-3 div.sk-label input.sk-toggleable__control:checked~label.sk-toggleable__label {background-color: #d4ebff;}#sk-container-id-3 input.sk-hidden--visually {border: 0;clip: rect(1px 1px 1px 1px);clip: rect(1px, 1px, 1px, 1px);height: 1px;margin: -1px;overflow: hidden;padding: 0;position: absolute;width: 1px;}#sk-container-id-3 div.sk-estimator {font-family: monospace;background-color: #f0f8ff;border: 1px dotted black;border-radius: 0.25em;box-sizing: border-box;margin-bottom: 0.5em;}#sk-container-id-3 div.sk-estimator:hover {background-color: #d4ebff;}#sk-container-id-3 div.sk-parallel-item::after {content: \"\";width: 100%;border-bottom: 1px solid gray;flex-grow: 1;}#sk-container-id-3 div.sk-label:hover label.sk-toggleable__label {background-color: #d4ebff;}#sk-container-id-3 div.sk-serial::before {content: \"\";position: absolute;border-left: 1px solid gray;box-sizing: border-box;top: 0;bottom: 0;left: 50%;z-index: 0;}#sk-container-id-3 div.sk-serial {display: flex;flex-direction: column;align-items: center;background-color: white;padding-right: 0.2em;padding-left: 0.2em;position: relative;}#sk-container-id-3 div.sk-item {position: relative;z-index: 1;}#sk-container-id-3 div.sk-parallel {display: flex;align-items: stretch;justify-content: center;background-color: white;position: relative;}#sk-container-id-3 div.sk-item::before, #sk-container-id-3 div.sk-parallel-item::before {content: \"\";position: absolute;border-left: 1px solid gray;box-sizing: border-box;top: 0;bottom: 0;left: 50%;z-index: -1;}#sk-container-id-3 div.sk-parallel-item {display: flex;flex-direction: column;z-index: 1;position: relative;background-color: white;}#sk-container-id-3 div.sk-parallel-item:first-child::after {align-self: flex-end;width: 50%;}#sk-container-id-3 div.sk-parallel-item:last-child::after {align-self: flex-start;width: 50%;}#sk-container-id-3 div.sk-parallel-item:only-child::after {width: 0;}#sk-container-id-3 div.sk-dashed-wrapped {border: 1px dashed gray;margin: 0 0.4em 0.5em 0.4em;box-sizing: border-box;padding-bottom: 0.4em;background-color: white;}#sk-container-id-3 div.sk-label label {font-family: monospace;font-weight: bold;display: inline-block;line-height: 1.2em;}#sk-container-id-3 div.sk-label-container {text-align: center;}#sk-container-id-3 div.sk-container {\/* jupyter's `normalize.less` sets `[hidden] { display: none; }` but bootstrap.min.css set `[hidden] { display: none !important; }` so we also need the `!important` here to be able to override the default hidden behavior on the sphinx rendered scikit-learn.org. See: https:\/\/github.com\/scikit-learn\/scikit-learn\/issues\/21755 *\/display: inline-block !important;position: relative;}#sk-container-id-3 div.sk-text-repr-fallback {display: none;}<\/style><div id=\"sk-container-id-3\" class=\"sk-top-container\"><div class=\"sk-text-repr-fallback\"><pre>RandomizedSearchCV(cv=5, estimator=KNeighborsClassifier(),\n",
       "                   param_distributions=[{&#x27;n_neighbors&#x27;: array([  5,  10,  15,  20,  25,  30,  35,  40,  45,  50,  55,  60,  65,\n",
       "        70,  75,  80,  85,  90,  95, 100])}],\n",
       "                   scoring=&#x27;accuracy&#x27;)<\/pre><b>In a Jupyter environment, please rerun this cell to show the HTML representation or trust the notebook. <br \/>On GitHub, the HTML representation is unable to render, please try loading this page with nbviewer.org.<\/b><\/div><div class=\"sk-container\" hidden><div class=\"sk-item sk-dashed-wrapped\"><div class=\"sk-label-container\"><div class=\"sk-label sk-toggleable\"><input class=\"sk-toggleable__control sk-hidden--visually\" id=\"sk-estimator-id-5\" type=\"checkbox\" ><label for=\"sk-estimator-id-5\" class=\"sk-toggleable__label sk-toggleable__label-arrow\">RandomizedSearchCV<\/label><div class=\"sk-toggleable__content\"><pre>RandomizedSearchCV(cv=5, estimator=KNeighborsClassifier(),\n",
       "                   param_distributions=[{&#x27;n_neighbors&#x27;: array([  5,  10,  15,  20,  25,  30,  35,  40,  45,  50,  55,  60,  65,\n",
       "        70,  75,  80,  85,  90,  95, 100])}],\n",
       "                   scoring=&#x27;accuracy&#x27;)<\/pre><\/div><\/div><\/div><div class=\"sk-parallel\"><div class=\"sk-parallel-item\"><div class=\"sk-item\"><div class=\"sk-label-container\"><div class=\"sk-label sk-toggleable\"><input class=\"sk-toggleable__control sk-hidden--visually\" id=\"sk-estimator-id-6\" type=\"checkbox\" ><label for=\"sk-estimator-id-6\" class=\"sk-toggleable__label sk-toggleable__label-arrow\">estimator: KNeighborsClassifier<\/label><div class=\"sk-toggleable__content\"><pre>KNeighborsClassifier()<\/pre><\/div><\/div><\/div><div class=\"sk-serial\"><div class=\"sk-item\"><div class=\"sk-estimator sk-toggleable\"><input class=\"sk-toggleable__control sk-hidden--visually\" id=\"sk-estimator-id-7\" type=\"checkbox\" ><label for=\"sk-estimator-id-7\" class=\"sk-toggleable__label sk-toggleable__label-arrow\">KNeighborsClassifier<\/label><div class=\"sk-toggleable__content\"><pre>KNeighborsClassifier()<\/pre><\/div><\/div><\/div><\/div><\/div><\/div><\/div><\/div><\/div><\/div>"
      ]
     },
     "metadata":{
      
     },
     "output_type":"display_data"
    }
   ],
   "metadata":{
    "datalore":{
     "type":"CODE",
     "hide_input_from_viewers":false,
     "hide_output_from_viewers":false
    }
   }
  },
  {
   "cell_type":"markdown",
   "source":[
    "### Оценка качества оптимальной модели для grid и randomized search"
   ],
   "attachments":{
    
   },
   "metadata":{
    "datalore":{
     "type":"MD",
     "hide_input_from_viewers":false,
     "hide_output_from_viewers":false
    }
   }
  },
  {
   "cell_type":"code",
   "source":[
    "df_gs = pd.DataFrame(m_gs.cv_results_)\n",
    "df_rs = pd.DataFrame(m_rs.cv_results_)\n",
    "print(df_gs.shape, df_rs.shape)"
   ],
   "execution_count":null,
   "outputs":[
    {
     "name":"stdout",
     "text":[
      "(20, 14) (10, 14)\n"
     ],
     "output_type":"stream"
    }
   ],
   "metadata":{
    "datalore":{
     "type":"CODE",
     "hide_input_from_viewers":false,
     "hide_output_from_viewers":false
    }
   }
  },
  {
   "cell_type":"code",
   "source":[
    "df_gs"
   ],
   "execution_count":null,
   "outputs":[
    {
     "data":{
      "text\/html":[
       "<div>\n",
       "<style scoped>\n",
       "    .dataframe tbody tr th:only-of-type {\n",
       "        vertical-align: middle;\n",
       "    }\n",
       "\n",
       "    .dataframe tbody tr th {\n",
       "        vertical-align: top;\n",
       "    }\n",
       "\n",
       "    .dataframe thead th {\n",
       "        text-align: right;\n",
       "    }\n",
       "<\/style>\n",
       "<table border=\"1\" class=\"dataframe\">\n",
       "  <thead>\n",
       "    <tr style=\"text-align: right;\">\n",
       "      <th><\/th>\n",
       "      <th>mean_fit_time<\/th>\n",
       "      <th>std_fit_time<\/th>\n",
       "      <th>mean_score_time<\/th>\n",
       "      <th>std_score_time<\/th>\n",
       "      <th>param_n_neighbors<\/th>\n",
       "      <th>params<\/th>\n",
       "      <th>split0_test_score<\/th>\n",
       "      <th>split1_test_score<\/th>\n",
       "      <th>split2_test_score<\/th>\n",
       "      <th>split3_test_score<\/th>\n",
       "      <th>split4_test_score<\/th>\n",
       "      <th>mean_test_score<\/th>\n",
       "      <th>std_test_score<\/th>\n",
       "      <th>rank_test_score<\/th>\n",
       "    <\/tr>\n",
       "  <\/thead>\n",
       "  <tbody>\n",
       "    <tr>\n",
       "      <th>0<\/th>\n",
       "      <td>0.003536<\/td>\n",
       "      <td>0.000171<\/td>\n",
       "      <td>0.021968<\/td>\n",
       "      <td>0.001087<\/td>\n",
       "      <td>5<\/td>\n",
       "      <td>{'n_neighbors': 5}<\/td>\n",
       "      <td>0.543893<\/td>\n",
       "      <td>0.568702<\/td>\n",
       "      <td>0.540076<\/td>\n",
       "      <td>0.578244<\/td>\n",
       "      <td>0.566794<\/td>\n",
       "      <td>0.559542<\/td>\n",
       "      <td>0.014900<\/td>\n",
       "      <td>20<\/td>\n",
       "    <\/tr>\n",
       "    <tr>\n",
       "      <th>1<\/th>\n",
       "      <td>0.003400<\/td>\n",
       "      <td>0.000038<\/td>\n",
       "      <td>0.022006<\/td>\n",
       "      <td>0.000226<\/td>\n",
       "      <td>10<\/td>\n",
       "      <td>{'n_neighbors': 10}<\/td>\n",
       "      <td>0.601145<\/td>\n",
       "      <td>0.595420<\/td>\n",
       "      <td>0.595420<\/td>\n",
       "      <td>0.604962<\/td>\n",
       "      <td>0.574427<\/td>\n",
       "      <td>0.594275<\/td>\n",
       "      <td>0.010564<\/td>\n",
       "      <td>18<\/td>\n",
       "    <\/tr>\n",
       "    <tr>\n",
       "      <th>2<\/th>\n",
       "      <td>0.005560<\/td>\n",
       "      <td>0.004069<\/td>\n",
       "      <td>0.022303<\/td>\n",
       "      <td>0.000307<\/td>\n",
       "      <td>15<\/td>\n",
       "      <td>{'n_neighbors': 15}<\/td>\n",
       "      <td>0.601145<\/td>\n",
       "      <td>0.583969<\/td>\n",
       "      <td>0.574427<\/td>\n",
       "      <td>0.604962<\/td>\n",
       "      <td>0.574427<\/td>\n",
       "      <td>0.587786<\/td>\n",
       "      <td>0.013000<\/td>\n",
       "      <td>19<\/td>\n",
       "    <\/tr>\n",
       "    <tr>\n",
       "      <th>3<\/th>\n",
       "      <td>0.003391<\/td>\n",
       "      <td>0.000064<\/td>\n",
       "      <td>0.022184<\/td>\n",
       "      <td>0.000302<\/td>\n",
       "      <td>20<\/td>\n",
       "      <td>{'n_neighbors': 20}<\/td>\n",
       "      <td>0.610687<\/td>\n",
       "      <td>0.597328<\/td>\n",
       "      <td>0.589695<\/td>\n",
       "      <td>0.620229<\/td>\n",
       "      <td>0.589695<\/td>\n",
       "      <td>0.601527<\/td>\n",
       "      <td>0.012094<\/td>\n",
       "      <td>16<\/td>\n",
       "    <\/tr>\n",
       "    <tr>\n",
       "      <th>4<\/th>\n",
       "      <td>0.003413<\/td>\n",
       "      <td>0.000039<\/td>\n",
       "      <td>0.022401<\/td>\n",
       "      <td>0.000178<\/td>\n",
       "      <td>25<\/td>\n",
       "      <td>{'n_neighbors': 25}<\/td>\n",
       "      <td>0.601145<\/td>\n",
       "      <td>0.595420<\/td>\n",
       "      <td>0.593511<\/td>\n",
       "      <td>0.608779<\/td>\n",
       "      <td>0.587786<\/td>\n",
       "      <td>0.597328<\/td>\n",
       "      <td>0.007141<\/td>\n",
       "      <td>17<\/td>\n",
       "    <\/tr>\n",
       "    <tr>\n",
       "      <th>5<\/th>\n",
       "      <td>0.003339<\/td>\n",
       "      <td>0.000014<\/td>\n",
       "      <td>0.022467<\/td>\n",
       "      <td>0.000112<\/td>\n",
       "      <td>30<\/td>\n",
       "      <td>{'n_neighbors': 30}<\/td>\n",
       "      <td>0.603053<\/td>\n",
       "      <td>0.614504<\/td>\n",
       "      <td>0.601145<\/td>\n",
       "      <td>0.624046<\/td>\n",
       "      <td>0.603053<\/td>\n",
       "      <td>0.609160<\/td>\n",
       "      <td>0.008820<\/td>\n",
       "      <td>13<\/td>\n",
       "    <\/tr>\n",
       "    <tr>\n",
       "      <th>6<\/th>\n",
       "      <td>0.003426<\/td>\n",
       "      <td>0.000011<\/td>\n",
       "      <td>0.022935<\/td>\n",
       "      <td>0.000105<\/td>\n",
       "      <td>35<\/td>\n",
       "      <td>{'n_neighbors': 35}<\/td>\n",
       "      <td>0.601145<\/td>\n",
       "      <td>0.606870<\/td>\n",
       "      <td>0.597328<\/td>\n",
       "      <td>0.620229<\/td>\n",
       "      <td>0.603053<\/td>\n",
       "      <td>0.605725<\/td>\n",
       "      <td>0.007878<\/td>\n",
       "      <td>15<\/td>\n",
       "    <\/tr>\n",
       "    <tr>\n",
       "      <th>7<\/th>\n",
       "      <td>0.003320<\/td>\n",
       "      <td>0.000024<\/td>\n",
       "      <td>0.023421<\/td>\n",
       "      <td>0.000188<\/td>\n",
       "      <td>40<\/td>\n",
       "      <td>{'n_neighbors': 40}<\/td>\n",
       "      <td>0.610687<\/td>\n",
       "      <td>0.612595<\/td>\n",
       "      <td>0.603053<\/td>\n",
       "      <td>0.620229<\/td>\n",
       "      <td>0.599237<\/td>\n",
       "      <td>0.609160<\/td>\n",
       "      <td>0.007381<\/td>\n",
       "      <td>13<\/td>\n",
       "    <\/tr>\n",
       "    <tr>\n",
       "      <th>8<\/th>\n",
       "      <td>0.003411<\/td>\n",
       "      <td>0.000017<\/td>\n",
       "      <td>0.023739<\/td>\n",
       "      <td>0.000162<\/td>\n",
       "      <td>45<\/td>\n",
       "      <td>{'n_neighbors': 45}<\/td>\n",
       "      <td>0.620229<\/td>\n",
       "      <td>0.608779<\/td>\n",
       "      <td>0.597328<\/td>\n",
       "      <td>0.625954<\/td>\n",
       "      <td>0.595420<\/td>\n",
       "      <td>0.609542<\/td>\n",
       "      <td>0.012106<\/td>\n",
       "      <td>12<\/td>\n",
       "    <\/tr>\n",
       "    <tr>\n",
       "      <th>9<\/th>\n",
       "      <td>0.003312<\/td>\n",
       "      <td>0.000108<\/td>\n",
       "      <td>0.023921<\/td>\n",
       "      <td>0.000240<\/td>\n",
       "      <td>50<\/td>\n",
       "      <td>{'n_neighbors': 50}<\/td>\n",
       "      <td>0.618321<\/td>\n",
       "      <td>0.610687<\/td>\n",
       "      <td>0.612595<\/td>\n",
       "      <td>0.624046<\/td>\n",
       "      <td>0.610687<\/td>\n",
       "      <td>0.615267<\/td>\n",
       "      <td>0.005205<\/td>\n",
       "      <td>11<\/td>\n",
       "    <\/tr>\n",
       "    <tr>\n",
       "      <th>10<\/th>\n",
       "      <td>0.003183<\/td>\n",
       "      <td>0.000065<\/td>\n",
       "      <td>0.024162<\/td>\n",
       "      <td>0.000115<\/td>\n",
       "      <td>55<\/td>\n",
       "      <td>{'n_neighbors': 55}<\/td>\n",
       "      <td>0.616412<\/td>\n",
       "      <td>0.612595<\/td>\n",
       "      <td>0.618321<\/td>\n",
       "      <td>0.627863<\/td>\n",
       "      <td>0.610687<\/td>\n",
       "      <td>0.617176<\/td>\n",
       "      <td>0.005986<\/td>\n",
       "      <td>10<\/td>\n",
       "    <\/tr>\n",
       "    <tr>\n",
       "      <th>11<\/th>\n",
       "      <td>0.003192<\/td>\n",
       "      <td>0.000042<\/td>\n",
       "      <td>0.024435<\/td>\n",
       "      <td>0.000168<\/td>\n",
       "      <td>60<\/td>\n",
       "      <td>{'n_neighbors': 60}<\/td>\n",
       "      <td>0.616412<\/td>\n",
       "      <td>0.620229<\/td>\n",
       "      <td>0.618321<\/td>\n",
       "      <td>0.620229<\/td>\n",
       "      <td>0.616412<\/td>\n",
       "      <td>0.618321<\/td>\n",
       "      <td>0.001707<\/td>\n",
       "      <td>9<\/td>\n",
       "    <\/tr>\n",
       "    <tr>\n",
       "      <th>12<\/th>\n",
       "      <td>0.003320<\/td>\n",
       "      <td>0.000107<\/td>\n",
       "      <td>0.024605<\/td>\n",
       "      <td>0.000092<\/td>\n",
       "      <td>65<\/td>\n",
       "      <td>{'n_neighbors': 65}<\/td>\n",
       "      <td>0.618321<\/td>\n",
       "      <td>0.614504<\/td>\n",
       "      <td>0.618321<\/td>\n",
       "      <td>0.625954<\/td>\n",
       "      <td>0.616412<\/td>\n",
       "      <td>0.618702<\/td>\n",
       "      <td>0.003892<\/td>\n",
       "      <td>8<\/td>\n",
       "    <\/tr>\n",
       "    <tr>\n",
       "      <th>13<\/th>\n",
       "      <td>0.003352<\/td>\n",
       "      <td>0.000079<\/td>\n",
       "      <td>0.025339<\/td>\n",
       "      <td>0.000333<\/td>\n",
       "      <td>70<\/td>\n",
       "      <td>{'n_neighbors': 70}<\/td>\n",
       "      <td>0.616412<\/td>\n",
       "      <td>0.618321<\/td>\n",
       "      <td>0.620229<\/td>\n",
       "      <td>0.625954<\/td>\n",
       "      <td>0.616412<\/td>\n",
       "      <td>0.619466<\/td>\n",
       "      <td>0.003540<\/td>\n",
       "      <td>5<\/td>\n",
       "    <\/tr>\n",
       "    <tr>\n",
       "      <th>14<\/th>\n",
       "      <td>0.003368<\/td>\n",
       "      <td>0.000037<\/td>\n",
       "      <td>0.025548<\/td>\n",
       "      <td>0.000119<\/td>\n",
       "      <td>75<\/td>\n",
       "      <td>{'n_neighbors': 75}<\/td>\n",
       "      <td>0.612595<\/td>\n",
       "      <td>0.620229<\/td>\n",
       "      <td>0.618321<\/td>\n",
       "      <td>0.629771<\/td>\n",
       "      <td>0.614504<\/td>\n",
       "      <td>0.619084<\/td>\n",
       "      <td>0.005986<\/td>\n",
       "      <td>7<\/td>\n",
       "    <\/tr>\n",
       "    <tr>\n",
       "      <th>15<\/th>\n",
       "      <td>0.003389<\/td>\n",
       "      <td>0.000028<\/td>\n",
       "      <td>0.025508<\/td>\n",
       "      <td>0.000105<\/td>\n",
       "      <td>80<\/td>\n",
       "      <td>{'n_neighbors': 80}<\/td>\n",
       "      <td>0.618321<\/td>\n",
       "      <td>0.620229<\/td>\n",
       "      <td>0.624046<\/td>\n",
       "      <td>0.624046<\/td>\n",
       "      <td>0.620229<\/td>\n",
       "      <td>0.621374<\/td>\n",
       "      <td>0.002290<\/td>\n",
       "      <td>2<\/td>\n",
       "    <\/tr>\n",
       "    <tr>\n",
       "      <th>16<\/th>\n",
       "      <td>0.003367<\/td>\n",
       "      <td>0.000056<\/td>\n",
       "      <td>0.026081<\/td>\n",
       "      <td>0.000064<\/td>\n",
       "      <td>85<\/td>\n",
       "      <td>{'n_neighbors': 85}<\/td>\n",
       "      <td>0.625954<\/td>\n",
       "      <td>0.620229<\/td>\n",
       "      <td>0.620229<\/td>\n",
       "      <td>0.629771<\/td>\n",
       "      <td>0.618321<\/td>\n",
       "      <td>0.622901<\/td>\n",
       "      <td>0.004284<\/td>\n",
       "      <td>1<\/td>\n",
       "    <\/tr>\n",
       "    <tr>\n",
       "      <th>17<\/th>\n",
       "      <td>0.003479<\/td>\n",
       "      <td>0.000053<\/td>\n",
       "      <td>0.026341<\/td>\n",
       "      <td>0.000113<\/td>\n",
       "      <td>90<\/td>\n",
       "      <td>{'n_neighbors': 90}<\/td>\n",
       "      <td>0.622137<\/td>\n",
       "      <td>0.620229<\/td>\n",
       "      <td>0.618321<\/td>\n",
       "      <td>0.622137<\/td>\n",
       "      <td>0.618321<\/td>\n",
       "      <td>0.620229<\/td>\n",
       "      <td>0.001707<\/td>\n",
       "      <td>3<\/td>\n",
       "    <\/tr>\n",
       "    <tr>\n",
       "      <th>18<\/th>\n",
       "      <td>0.003367<\/td>\n",
       "      <td>0.000160<\/td>\n",
       "      <td>0.026833<\/td>\n",
       "      <td>0.000266<\/td>\n",
       "      <td>95<\/td>\n",
       "      <td>{'n_neighbors': 95}<\/td>\n",
       "      <td>0.620229<\/td>\n",
       "      <td>0.620229<\/td>\n",
       "      <td>0.618321<\/td>\n",
       "      <td>0.624046<\/td>\n",
       "      <td>0.618321<\/td>\n",
       "      <td>0.620229<\/td>\n",
       "      <td>0.002091<\/td>\n",
       "      <td>4<\/td>\n",
       "    <\/tr>\n",
       "    <tr>\n",
       "      <th>19<\/th>\n",
       "      <td>0.003199<\/td>\n",
       "      <td>0.000042<\/td>\n",
       "      <td>0.027056<\/td>\n",
       "      <td>0.000261<\/td>\n",
       "      <td>100<\/td>\n",
       "      <td>{'n_neighbors': 100}<\/td>\n",
       "      <td>0.618321<\/td>\n",
       "      <td>0.620229<\/td>\n",
       "      <td>0.620229<\/td>\n",
       "      <td>0.620229<\/td>\n",
       "      <td>0.618321<\/td>\n",
       "      <td>0.619466<\/td>\n",
       "      <td>0.000935<\/td>\n",
       "      <td>6<\/td>\n",
       "    <\/tr>\n",
       "  <\/tbody>\n",
       "<\/table>\n",
       "<\/div>"
      ]
     },
     "metadata":{
      
     },
     "output_type":"display_data"
    }
   ],
   "metadata":{
    "datalore":{
     "type":"CODE",
     "hide_input_from_viewers":false,
     "hide_output_from_viewers":false
    }
   }
  },
  {
   "cell_type":"code",
   "source":[
    "df_rs"
   ],
   "execution_count":null,
   "outputs":[
    {
     "data":{
      "text\/html":[
       "<div>\n",
       "<style scoped>\n",
       "    .dataframe tbody tr th:only-of-type {\n",
       "        vertical-align: middle;\n",
       "    }\n",
       "\n",
       "    .dataframe tbody tr th {\n",
       "        vertical-align: top;\n",
       "    }\n",
       "\n",
       "    .dataframe thead th {\n",
       "        text-align: right;\n",
       "    }\n",
       "<\/style>\n",
       "<table border=\"1\" class=\"dataframe\">\n",
       "  <thead>\n",
       "    <tr style=\"text-align: right;\">\n",
       "      <th><\/th>\n",
       "      <th>mean_fit_time<\/th>\n",
       "      <th>std_fit_time<\/th>\n",
       "      <th>mean_score_time<\/th>\n",
       "      <th>std_score_time<\/th>\n",
       "      <th>param_n_neighbors<\/th>\n",
       "      <th>params<\/th>\n",
       "      <th>split0_test_score<\/th>\n",
       "      <th>split1_test_score<\/th>\n",
       "      <th>split2_test_score<\/th>\n",
       "      <th>split3_test_score<\/th>\n",
       "      <th>split4_test_score<\/th>\n",
       "      <th>mean_test_score<\/th>\n",
       "      <th>std_test_score<\/th>\n",
       "      <th>rank_test_score<\/th>\n",
       "    <\/tr>\n",
       "  <\/thead>\n",
       "  <tbody>\n",
       "    <tr>\n",
       "      <th>0<\/th>\n",
       "      <td>0.003240<\/td>\n",
       "      <td>0.000082<\/td>\n",
       "      <td>0.023346<\/td>\n",
       "      <td>0.000160<\/td>\n",
       "      <td>40<\/td>\n",
       "      <td>{'n_neighbors': 40}<\/td>\n",
       "      <td>0.610687<\/td>\n",
       "      <td>0.612595<\/td>\n",
       "      <td>0.603053<\/td>\n",
       "      <td>0.620229<\/td>\n",
       "      <td>0.599237<\/td>\n",
       "      <td>0.609160<\/td>\n",
       "      <td>0.007381<\/td>\n",
       "      <td>7<\/td>\n",
       "    <\/tr>\n",
       "    <tr>\n",
       "      <th>1<\/th>\n",
       "      <td>0.003430<\/td>\n",
       "      <td>0.000017<\/td>\n",
       "      <td>0.023960<\/td>\n",
       "      <td>0.000369<\/td>\n",
       "      <td>50<\/td>\n",
       "      <td>{'n_neighbors': 50}<\/td>\n",
       "      <td>0.618321<\/td>\n",
       "      <td>0.610687<\/td>\n",
       "      <td>0.612595<\/td>\n",
       "      <td>0.624046<\/td>\n",
       "      <td>0.610687<\/td>\n",
       "      <td>0.615267<\/td>\n",
       "      <td>0.005205<\/td>\n",
       "      <td>6<\/td>\n",
       "    <\/tr>\n",
       "    <tr>\n",
       "      <th>2<\/th>\n",
       "      <td>0.003272<\/td>\n",
       "      <td>0.000081<\/td>\n",
       "      <td>0.020927<\/td>\n",
       "      <td>0.000178<\/td>\n",
       "      <td>10<\/td>\n",
       "      <td>{'n_neighbors': 10}<\/td>\n",
       "      <td>0.601145<\/td>\n",
       "      <td>0.595420<\/td>\n",
       "      <td>0.595420<\/td>\n",
       "      <td>0.604962<\/td>\n",
       "      <td>0.574427<\/td>\n",
       "      <td>0.594275<\/td>\n",
       "      <td>0.010564<\/td>\n",
       "      <td>10<\/td>\n",
       "    <\/tr>\n",
       "    <tr>\n",
       "      <th>3<\/th>\n",
       "      <td>0.003296<\/td>\n",
       "      <td>0.000058<\/td>\n",
       "      <td>0.025617<\/td>\n",
       "      <td>0.000141<\/td>\n",
       "      <td>90<\/td>\n",
       "      <td>{'n_neighbors': 90}<\/td>\n",
       "      <td>0.622137<\/td>\n",
       "      <td>0.620229<\/td>\n",
       "      <td>0.618321<\/td>\n",
       "      <td>0.622137<\/td>\n",
       "      <td>0.618321<\/td>\n",
       "      <td>0.620229<\/td>\n",
       "      <td>0.001707<\/td>\n",
       "      <td>2<\/td>\n",
       "    <\/tr>\n",
       "    <tr>\n",
       "      <th>4<\/th>\n",
       "      <td>0.003331<\/td>\n",
       "      <td>0.000047<\/td>\n",
       "      <td>0.024914<\/td>\n",
       "      <td>0.000190<\/td>\n",
       "      <td>75<\/td>\n",
       "      <td>{'n_neighbors': 75}<\/td>\n",
       "      <td>0.612595<\/td>\n",
       "      <td>0.620229<\/td>\n",
       "      <td>0.618321<\/td>\n",
       "      <td>0.629771<\/td>\n",
       "      <td>0.614504<\/td>\n",
       "      <td>0.619084<\/td>\n",
       "      <td>0.005986<\/td>\n",
       "      <td>4<\/td>\n",
       "    <\/tr>\n",
       "    <tr>\n",
       "      <th>5<\/th>\n",
       "      <td>0.003307<\/td>\n",
       "      <td>0.000036<\/td>\n",
       "      <td>0.021968<\/td>\n",
       "      <td>0.000058<\/td>\n",
       "      <td>30<\/td>\n",
       "      <td>{'n_neighbors': 30}<\/td>\n",
       "      <td>0.603053<\/td>\n",
       "      <td>0.614504<\/td>\n",
       "      <td>0.601145<\/td>\n",
       "      <td>0.624046<\/td>\n",
       "      <td>0.603053<\/td>\n",
       "      <td>0.609160<\/td>\n",
       "      <td>0.008820<\/td>\n",
       "      <td>7<\/td>\n",
       "    <\/tr>\n",
       "    <tr>\n",
       "      <th>6<\/th>\n",
       "      <td>0.003353<\/td>\n",
       "      <td>0.000052<\/td>\n",
       "      <td>0.026209<\/td>\n",
       "      <td>0.000140<\/td>\n",
       "      <td>95<\/td>\n",
       "      <td>{'n_neighbors': 95}<\/td>\n",
       "      <td>0.620229<\/td>\n",
       "      <td>0.620229<\/td>\n",
       "      <td>0.618321<\/td>\n",
       "      <td>0.624046<\/td>\n",
       "      <td>0.618321<\/td>\n",
       "      <td>0.620229<\/td>\n",
       "      <td>0.002091<\/td>\n",
       "      <td>3<\/td>\n",
       "    <\/tr>\n",
       "    <tr>\n",
       "      <th>7<\/th>\n",
       "      <td>0.003389<\/td>\n",
       "      <td>0.000012<\/td>\n",
       "      <td>0.022022<\/td>\n",
       "      <td>0.000207<\/td>\n",
       "      <td>25<\/td>\n",
       "      <td>{'n_neighbors': 25}<\/td>\n",
       "      <td>0.601145<\/td>\n",
       "      <td>0.595420<\/td>\n",
       "      <td>0.593511<\/td>\n",
       "      <td>0.608779<\/td>\n",
       "      <td>0.587786<\/td>\n",
       "      <td>0.597328<\/td>\n",
       "      <td>0.007141<\/td>\n",
       "      <td>9<\/td>\n",
       "    <\/tr>\n",
       "    <tr>\n",
       "      <th>8<\/th>\n",
       "      <td>0.003299<\/td>\n",
       "      <td>0.000073<\/td>\n",
       "      <td>0.025525<\/td>\n",
       "      <td>0.000325<\/td>\n",
       "      <td>85<\/td>\n",
       "      <td>{'n_neighbors': 85}<\/td>\n",
       "      <td>0.625954<\/td>\n",
       "      <td>0.620229<\/td>\n",
       "      <td>0.620229<\/td>\n",
       "      <td>0.629771<\/td>\n",
       "      <td>0.618321<\/td>\n",
       "      <td>0.622901<\/td>\n",
       "      <td>0.004284<\/td>\n",
       "      <td>1<\/td>\n",
       "    <\/tr>\n",
       "    <tr>\n",
       "      <th>9<\/th>\n",
       "      <td>0.003212<\/td>\n",
       "      <td>0.000065<\/td>\n",
       "      <td>0.024180<\/td>\n",
       "      <td>0.000083<\/td>\n",
       "      <td>65<\/td>\n",
       "      <td>{'n_neighbors': 65}<\/td>\n",
       "      <td>0.618321<\/td>\n",
       "      <td>0.614504<\/td>\n",
       "      <td>0.618321<\/td>\n",
       "      <td>0.625954<\/td>\n",
       "      <td>0.616412<\/td>\n",
       "      <td>0.618702<\/td>\n",
       "      <td>0.003892<\/td>\n",
       "      <td>5<\/td>\n",
       "    <\/tr>\n",
       "  <\/tbody>\n",
       "<\/table>\n",
       "<\/div>"
      ]
     },
     "metadata":{
      
     },
     "output_type":"display_data"
    }
   ],
   "metadata":{
    "datalore":{
     "type":"CODE",
     "hide_input_from_viewers":false,
     "hide_output_from_viewers":false
    }
   }
  },
  {
   "cell_type":"code",
   "source":[
    "n_range_rs = np.array(list(map(lambda x: x['n_neighbors'], df_rs.params)))\n",
    "gs_score = list(zip(n_range_rs, m_rs.cv_results_['mean_test_score']))\n",
    "gs_score_sorted = sorted(gs_score, key=lambda val: val[0])\n",
    "gs_sorted_neighbors = [x[0] for x in gs_score_sorted]\n",
    "gs_mean_test_score = [x[1] for x in gs_score_sorted]"
   ],
   "execution_count":null,
   "outputs":[
    
   ],
   "metadata":{
    "datalore":{
     "type":"CODE",
     "hide_input_from_viewers":false,
     "hide_output_from_viewers":false
    }
   }
  },
  {
   "cell_type":"code",
   "source":[
    "# Лучшая модель\n",
    "m_gs.best_estimator_, m_rs.best_estimator_"
   ],
   "execution_count":null,
   "outputs":[
    {
     "data":{
      "text\/plain":[
       "(KNeighborsClassifier(n_neighbors=85), KNeighborsClassifier(n_neighbors=85))"
      ]
     },
     "metadata":{
      
     },
     "output_type":"display_data"
    }
   ],
   "metadata":{
    "datalore":{
     "type":"CODE",
     "hide_input_from_viewers":false,
     "hide_output_from_viewers":false
    }
   }
  },
  {
   "cell_type":"code",
   "source":[
    "# Лучшее значение метрики\n",
    "m_gs.best_score_, m_rs.best_score_"
   ],
   "execution_count":null,
   "outputs":[
    {
     "data":{
      "text\/plain":[
       "(0.6229007633587786, 0.6229007633587786)"
      ]
     },
     "metadata":{
      
     },
     "output_type":"display_data"
    }
   ],
   "metadata":{
    "datalore":{
     "type":"CODE",
     "hide_input_from_viewers":false,
     "hide_output_from_viewers":false
    }
   }
  },
  {
   "cell_type":"code",
   "source":[
    "# Лучшее значение параметров\n",
    "m_gs.best_params_, m_rs.best_params_"
   ],
   "execution_count":null,
   "outputs":[
    {
     "data":{
      "text\/plain":[
       "({'n_neighbors': 85}, {'n_neighbors': 85})"
      ]
     },
     "metadata":{
      
     },
     "output_type":"display_data"
    }
   ],
   "metadata":{
    "datalore":{
     "type":"CODE",
     "hide_input_from_viewers":false,
     "hide_output_from_viewers":false
    }
   }
  },
  {
   "cell_type":"code",
   "source":[
    "m_gs.best_index_"
   ],
   "execution_count":null,
   "outputs":[
    {
     "data":{
      "text\/plain":[
       "16"
      ]
     },
     "metadata":{
      
     },
     "output_type":"display_data"
    }
   ],
   "metadata":{
    "datalore":{
     "type":"CODE",
     "hide_input_from_viewers":false,
     "hide_output_from_viewers":false
    }
   }
  },
  {
   "cell_type":"code",
   "source":[
    "# Изменение качества на тестовой выборке в зависимости от К-соседей\n",
    "plt.plot(n_range, m_gs.cv_results_['mean_test_score'])"
   ],
   "execution_count":null,
   "outputs":[
    {
     "data":{
      "text\/plain":[
       "[<matplotlib.lines.Line2D at 0x7f0009a842b0>]"
      ],
      "image\/png":"[encoded data removed]"
     },
     "metadata":{
      "image\/png":{
       
      }
     },
     "output_type":"display_data"
    }
   ],
   "metadata":{
    "datalore":{
     "type":"CODE",
     "hide_input_from_viewers":false,
     "hide_output_from_viewers":false
    }
   }
  },
  {
   "cell_type":"code",
   "source":[
    "plt.plot(gs_sorted_neighbors, gs_mean_test_score)"
   ],
   "execution_count":null,
   "outputs":[
    {
     "data":{
      "text\/plain":[
       "[<matplotlib.lines.Line2D at 0x7f00098de6d0>]"
      ],
      "image\/png":"[encoded data removed]"
     },
     "metadata":{
      "image\/png":{
       
      }
     },
     "output_type":"display_data"
    }
   ],
   "metadata":{
    "datalore":{
     "type":"CODE",
     "hide_input_from_viewers":false,
     "hide_output_from_viewers":false
    }
   }
  },
  {
   "cell_type":"markdown",
   "source":[
    "### Построение кривых обучения и валидации"
   ],
   "attachments":{
    
   },
   "metadata":{
    "datalore":{
     "type":"MD",
     "hide_input_from_viewers":false,
     "hide_output_from_viewers":false
    }
   }
  },
  {
   "cell_type":"code",
   "source":[
    "def plot_learning_curve(estimator, title, X, y, ylim=None, cv=None,\n",
    "                        n_jobs=None, train_sizes=np.linspace(.1, 1.0, 5)):\n",
    "    plt.figure()\n",
    "    plt.title(title)\n",
    "    if ylim is not None:\n",
    "        plt.ylim(*ylim)\n",
    "    plt.xlabel(\"Training examples\")\n",
    "    plt.ylabel(\"Score\")\n",
    "    train_sizes, train_scores, test_scores = learning_curve(\n",
    "        estimator, X, y, cv=cv, n_jobs=n_jobs, train_sizes=train_sizes)\n",
    "    train_scores_mean = np.mean(train_scores, axis=1)\n",
    "    train_scores_std = np.std(train_scores, axis=1)\n",
    "    test_scores_mean = np.mean(test_scores, axis=1)\n",
    "    test_scores_std = np.std(test_scores, axis=1)\n",
    "    plt.grid()\n",
    "\n",
    "    plt.fill_between(train_sizes, train_scores_mean - train_scores_std,\n",
    "                     train_scores_mean + train_scores_std, alpha=0.3,\n",
    "                     color=\"r\")\n",
    "    plt.fill_between(train_sizes, test_scores_mean - test_scores_std,\n",
    "                     test_scores_mean + test_scores_std, alpha=0.1, color=\"g\")\n",
    "    plt.plot(train_sizes, train_scores_mean, 'o-', color=\"r\",\n",
    "             label=\"Training score\")\n",
    "    plt.plot(train_sizes, test_scores_mean, 'o-', color=\"g\",\n",
    "             label=\"Cross-validation score\")\n",
    "\n",
    "    plt.legend(loc=\"best\")\n",
    "    return plt"
   ],
   "execution_count":null,
   "outputs":[
    
   ],
   "metadata":{
    "datalore":{
     "type":"CODE",
     "hide_input_from_viewers":false,
     "hide_output_from_viewers":false
    }
   }
  },
  {
   "cell_type":"code",
   "source":[
    "plot_learning_curve(KNeighborsClassifier(n_neighbors=85), 'n_neighbors=85', \n",
    "                    x_train[['Solids','Chloramines', 'Sulfate', 'Organic_carbon']], y_train, cv=5)"
   ],
   "execution_count":null,
   "outputs":[
    {
     "data":{
      "text\/plain":[
       "<module 'matplotlib.pyplot' from '\/opt\/python\/envs\/default\/lib\/python3.8\/site-packages\/matplotlib\/pyplot.py'>"
      ],
      "image\/png":"[encoded data removed]"
     },
     "metadata":{
      "image\/png":{
       
      }
     },
     "output_type":"display_data"
    }
   ],
   "metadata":{
    "datalore":{
     "type":"CODE",
     "hide_input_from_viewers":false,
     "hide_output_from_viewers":false
    }
   }
  },
  {
   "cell_type":"code",
   "source":[
    "def plot_validation_curve(estimator, title, X, y, \n",
    "                          param_name, param_range, cv, \n",
    "                          scoring=\"accuracy\"):\n",
    "                                                   \n",
    "    train_scores, test_scores = validation_curve(\n",
    "        estimator, X, y, param_name=param_name, param_range=param_range,\n",
    "        cv=cv, scoring=scoring, n_jobs=1)\n",
    "    train_scores_mean = np.mean(train_scores, axis=1)\n",
    "    train_scores_std = np.std(train_scores, axis=1)\n",
    "    test_scores_mean = np.mean(test_scores, axis=1)\n",
    "    test_scores_std = np.std(test_scores, axis=1)\n",
    "\n",
    "    plt.title(title)\n",
    "    plt.xlabel(param_name)\n",
    "    plt.ylabel(str(scoring))\n",
    "    plt.ylim(0.0, 1.1)\n",
    "    lw = 2\n",
    "    plt.plot(param_range, train_scores_mean, label=\"Training score\",\n",
    "                 color=\"darkorange\", lw=lw)\n",
    "    plt.fill_between(param_range, train_scores_mean - train_scores_std,\n",
    "                     train_scores_mean + train_scores_std, alpha=0.4,\n",
    "                     color=\"darkorange\", lw=lw)\n",
    "    plt.plot(param_range, test_scores_mean, label=\"Cross-validation score\",\n",
    "                 color=\"navy\", lw=lw)\n",
    "    plt.fill_between(param_range, test_scores_mean - test_scores_std,\n",
    "                     test_scores_mean + test_scores_std, alpha=0.2,\n",
    "                     color=\"navy\", lw=lw)\n",
    "    plt.legend(loc=\"best\")\n",
    "    return plt"
   ],
   "execution_count":null,
   "outputs":[
    
   ],
   "metadata":{
    "datalore":{
     "type":"CODE",
     "hide_input_from_viewers":false,
     "hide_output_from_viewers":false
    }
   }
  },
  {
   "cell_type":"code",
   "source":[
    "plot_validation_curve(KNeighborsClassifier(), 'knn', \n",
    "                      x_train[['Solids','Chloramines', 'Sulfate', 'Organic_carbon']], y_train, \n",
    "                      param_name='n_neighbors', param_range=n_range, \n",
    "                      cv=5, scoring=\"accuracy\")"
   ],
   "execution_count":null,
   "outputs":[
    {
     "data":{
      "text\/plain":[
       "<module 'matplotlib.pyplot' from '\/opt\/python\/envs\/default\/lib\/python3.8\/site-packages\/matplotlib\/pyplot.py'>"
      ],
      "image\/png":"[encoded data removed]"
     },
     "metadata":{
      "image\/png":{
       
      }
     },
     "output_type":"display_data"
    }
   ],
   "metadata":{
    "datalore":{
     "type":"CODE",
     "hide_input_from_viewers":false,
     "hide_output_from_viewers":false
    }
   }
  },
  {
   "cell_type":"markdown",
   "source":[
    "### Поиск оптимальной модели и сравнение с исходной"
   ],
   "attachments":{
    
   },
   "metadata":{
    "datalore":{
     "type":"MD",
     "hide_input_from_viewers":false,
     "hide_output_from_viewers":false
    }
   }
  },
  {
   "cell_type":"code",
   "source":[
    "n_splits_arr = [2, 3, 5, 10, 20]"
   ],
   "execution_count":null,
   "outputs":[
    
   ],
   "metadata":{
    "datalore":{
     "type":"CODE",
     "hide_input_from_viewers":false,
     "hide_output_from_viewers":false
    }
   }
  },
  {
   "cell_type":"code",
   "source":[
    "scores_all = []\n",
    "for n_splits in n_splits_arr:\n",
    "  cv_strategies = [('KFold', KFold(n_splits=n_splits)), ('ShuffleSplit', ShuffleSplit(n_splits=n_splits, test_size=0.25)), \\\n",
    "                    ('StratifiedKFold', StratifiedKFold(n_splits=n_splits)), ('StratifiedShuffleSplit', StratifiedShuffleSplit(n_splits=n_splits))]\n",
    "\n",
    "  for cv_strategy in cv_strategies:\n",
    "    gs_model = GridSearchCV(KNeighborsClassifier(), tuned_parameters, cv=cv_strategy[1], scoring='accuracy')\n",
    "    gs_model.fit(data_clean2, target)\n",
    "    scores_all.append({\n",
    "        'score': gs_model.best_score_,\n",
    "        'model' : gs_model.best_estimator_,\n",
    "        'n_splits' : n_splits,\n",
    "        'cv_strategy' : cv_strategy[0],\n",
    "        })"
   ],
   "execution_count":null,
   "outputs":[
    
   ],
   "metadata":{
    "datalore":{
     "type":"CODE",
     "hide_input_from_viewers":false,
     "hide_output_from_viewers":false
    }
   }
  },
  {
   "cell_type":"code",
   "source":[
    "scores_sorted = sorted(scores_all, key=lambda val: val['score'])"
   ],
   "execution_count":null,
   "outputs":[
    
   ],
   "metadata":{
    "datalore":{
     "type":"CODE",
     "hide_input_from_viewers":false,
     "hide_output_from_viewers":false
    }
   }
  },
  {
   "cell_type":"code",
   "source":[
    "scores_sorted"
   ],
   "execution_count":null,
   "outputs":[
    {
     "data":{
      "text\/plain":[
       "[{'score': 0.5938135938135938,\n",
       "  'model': KNeighborsClassifier(n_neighbors=90),\n",
       "  'n_splits': 3,\n",
       "  'cv_strategy': 'ShuffleSplit'},\n",
       " {'score': 0.5939043094418673,\n",
       "  'model': KNeighborsClassifier(n_neighbors=100),\n",
       "  'n_splits': 20,\n",
       "  'cv_strategy': 'KFold'},\n",
       " {'score': 0.599023199023199,\n",
       "  'model': KNeighborsClassifier(n_neighbors=70),\n",
       "  'n_splits': 5,\n",
       "  'cv_strategy': 'ShuffleSplit'},\n",
       " {'score': 0.6004273504273504,\n",
       "  'model': KNeighborsClassifier(n_neighbors=80),\n",
       "  'n_splits': 3,\n",
       "  'cv_strategy': 'KFold'},\n",
       " {'score': 0.6025641025641025,\n",
       "  'model': KNeighborsClassifier(n_neighbors=80),\n",
       "  'n_splits': 2,\n",
       "  'cv_strategy': 'ShuffleSplit'},\n",
       " {'score': 0.6037387185798464,\n",
       "  'model': KNeighborsClassifier(n_neighbors=70),\n",
       "  'n_splits': 10,\n",
       "  'cv_strategy': 'KFold'},\n",
       " {'score': 0.6037469744926456,\n",
       "  'model': KNeighborsClassifier(n_neighbors=60),\n",
       "  'n_splits': 5,\n",
       "  'cv_strategy': 'KFold'},\n",
       " {'score': 0.6045731707317072,\n",
       "  'model': KNeighborsClassifier(n_neighbors=100),\n",
       "  'n_splits': 10,\n",
       "  'cv_strategy': 'StratifiedShuffleSplit'},\n",
       " {'score': 0.6060975609756097,\n",
       "  'model': KNeighborsClassifier(n_neighbors=100),\n",
       "  'n_splits': 5,\n",
       "  'cv_strategy': 'StratifiedShuffleSplit'},\n",
       " {'score': 0.6064024390243901,\n",
       "  'model': KNeighborsClassifier(n_neighbors=100),\n",
       "  'n_splits': 20,\n",
       "  'cv_strategy': 'StratifiedShuffleSplit'},\n",
       " {'score': 0.6068341165063027,\n",
       "  'model': KNeighborsClassifier(n_neighbors=100),\n",
       "  'n_splits': 10,\n",
       "  'cv_strategy': 'StratifiedKFold'},\n",
       " {'score': 0.6071468651803081,\n",
       "  'model': KNeighborsClassifier(n_neighbors=100),\n",
       "  'n_splits': 20,\n",
       "  'cv_strategy': 'StratifiedKFold'},\n",
       " {'score': 0.6074481074481075,\n",
       "  'model': KNeighborsClassifier(n_neighbors=80),\n",
       "  'n_splits': 3,\n",
       "  'cv_strategy': 'StratifiedKFold'},\n",
       " {'score': 0.6077235772357723,\n",
       "  'model': KNeighborsClassifier(n_neighbors=100),\n",
       "  'n_splits': 3,\n",
       "  'cv_strategy': 'StratifiedShuffleSplit'},\n",
       " {'score': 0.6095238095238095,\n",
       "  'model': KNeighborsClassifier(n_neighbors=80),\n",
       "  'n_splits': 10,\n",
       "  'cv_strategy': 'ShuffleSplit'},\n",
       " {'score': 0.6095857382237945,\n",
       "  'model': KNeighborsClassifier(n_neighbors=95),\n",
       "  'n_splits': 5,\n",
       "  'cv_strategy': 'StratifiedKFold'},\n",
       " {'score': 0.6097069597069597,\n",
       "  'model': KNeighborsClassifier(n_neighbors=100),\n",
       "  'n_splits': 20,\n",
       "  'cv_strategy': 'ShuffleSplit'},\n",
       " {'score': 0.6097560975609756,\n",
       "  'model': KNeighborsClassifier(n_neighbors=90),\n",
       "  'n_splits': 2,\n",
       "  'cv_strategy': 'StratifiedShuffleSplit'},\n",
       " {'score': 0.6117216117216118,\n",
       "  'model': KNeighborsClassifier(n_neighbors=55),\n",
       "  'n_splits': 2,\n",
       "  'cv_strategy': 'KFold'},\n",
       " {'score': 0.6117216117216118,\n",
       "  'model': KNeighborsClassifier(n_neighbors=55),\n",
       "  'n_splits': 2,\n",
       "  'cv_strategy': 'StratifiedKFold'}]"
      ]
     },
     "metadata":{
      
     },
     "output_type":"display_data"
    }
   ],
   "metadata":{
    "datalore":{
     "type":"CODE",
     "hide_input_from_viewers":false,
     "hide_output_from_viewers":false
    }
   }
  },
  {
   "cell_type":"code",
   "source":[
    "scores_sorted[-1]"
   ],
   "execution_count":null,
   "outputs":[
    {
     "data":{
      "text\/plain":[
       "{'score': 0.6117216117216118,\n",
       " 'model': KNeighborsClassifier(n_neighbors=55),\n",
       " 'n_splits': 2,\n",
       " 'cv_strategy': 'StratifiedKFold'}"
      ]
     },
     "metadata":{
      
     },
     "output_type":"display_data"
    }
   ],
   "metadata":{
    "datalore":{
     "type":"CODE",
     "hide_input_from_viewers":false,
     "hide_output_from_viewers":false
    }
   }
  },
  {
   "cell_type":"code",
   "source":[
    "scores_opt = []\n",
    "cv_opt = StratifiedShuffleSplit(n_splits=2, test_size=0.25)\n",
    "for train_index, test_index in cv_opt.split(data_clean2, target):\n",
    "    #  print(\"TRAIN:\", train_index, \"TEST:\", test_index)\n",
    "     x2_train, x2_test = data_clean2_np[train_index], data_clean2_np[test_index]\n",
    "     y2_train, y2_test = target2[train_index], target2[test_index]\n",
    "     model_opt = KNeighborsClassifier(n_neighbors=30)\n",
    "     model_opt.fit(x2_train, y2_train)\n",
    "     m_opt_predict_test = model_opt.predict(x2_test)\n",
    "     m_opt_predict_train = model_opt.predict(x2_train)\n",
    "    #  classification_report(y2_test, m_opt_predict, target_names=['Not_safe', 'Is_safe'], output_dict=True)\n",
    "     scores_opt.append((accuracy_score(y2_train, m_opt_predict_train), accuracy_score(y2_test, m_opt_predict_test)))"
   ],
   "execution_count":null,
   "outputs":[
    
   ],
   "metadata":{
    "datalore":{
     "type":"CODE",
     "hide_input_from_viewers":false,
     "hide_output_from_viewers":false
    }
   }
  },
  {
   "cell_type":"code",
   "source":[
    "scores_opt = []\n",
    "type(scores_opt)"
   ],
   "execution_count":null,
   "outputs":[
    {
     "data":{
      "text\/plain":[
       "list"
      ]
     },
     "metadata":{
      
     },
     "output_type":"display_data"
    }
   ],
   "metadata":{
    "datalore":{
     "type":"CODE",
     "hide_input_from_viewers":false,
     "hide_output_from_viewers":false
    }
   }
  },
  {
   "cell_type":"code",
   "source":[
    "p = [15, 19]\n",
    "p.append(0)\n",
    "print(p)"
   ],
   "execution_count":null,
   "outputs":[
    {
     "name":"stdout",
     "text":[
      "[15, 19, 0]\n"
     ],
     "output_type":"stream"
    }
   ],
   "metadata":{
    "datalore":{
     "type":"CODE",
     "hide_input_from_viewers":false,
     "hide_output_from_viewers":false
    }
   }
  },
  {
   "cell_type":"code",
   "source":[
    "# точность оптимальной модели\n",
    "scores_opt"
   ],
   "execution_count":null,
   "outputs":[
    {
     "data":{
      "text\/plain":[
       "[]"
      ]
     },
     "metadata":{
      
     },
     "output_type":"display_data"
    }
   ],
   "metadata":{
    "datalore":{
     "type":"CODE",
     "hide_input_from_viewers":false,
     "hide_output_from_viewers":false
    }
   }
  },
  {
   "cell_type":"code",
   "source":[
    "# точность исходной модели\n",
    "(accuracy_score(y_train, m_predict_train), accuracy_score(y_test, m_predict))"
   ],
   "execution_count":null,
   "outputs":[
    {
     "data":{
      "text\/plain":[
       "(0.7698473282442748, 0.5274390243902439)"
      ]
     },
     "metadata":{
      
     },
     "output_type":"display_data"
    }
   ],
   "metadata":{
    "datalore":{
     "type":"CODE",
     "hide_input_from_viewers":false,
     "hide_output_from_viewers":false
    }
   }
  },
  {
   "cell_type":"code",
   "source":[
    "x_test.head()"
   ],
   "execution_count":null,
   "outputs":[
    {
     "data":{
      "text\/html":[
       "<div>\n",
       "<style scoped>\n",
       "    .dataframe tbody tr th:only-of-type {\n",
       "        vertical-align: middle;\n",
       "    }\n",
       "\n",
       "    .dataframe tbody tr th {\n",
       "        vertical-align: top;\n",
       "    }\n",
       "\n",
       "    .dataframe thead th {\n",
       "        text-align: right;\n",
       "    }\n",
       "<\/style>\n",
       "<table border=\"1\" class=\"dataframe\">\n",
       "  <thead>\n",
       "    <tr style=\"text-align: right;\">\n",
       "      <th><\/th>\n",
       "      <th>Solids<\/th>\n",
       "      <th>Chloramines<\/th>\n",
       "      <th>Sulfate<\/th>\n",
       "      <th>Organic_carbon<\/th>\n",
       "      <th>Potability<\/th>\n",
       "    <\/tr>\n",
       "  <\/thead>\n",
       "  <tbody>\n",
       "    <tr>\n",
       "      <th>136<\/th>\n",
       "      <td>14775.145596<\/td>\n",
       "      <td>7.484104<\/td>\n",
       "      <td>305.828553<\/td>\n",
       "      <td>12.309016<\/td>\n",
       "      <td>0<\/td>\n",
       "    <\/tr>\n",
       "    <tr>\n",
       "      <th>600<\/th>\n",
       "      <td>27071.118618<\/td>\n",
       "      <td>6.220936<\/td>\n",
       "      <td>298.112645<\/td>\n",
       "      <td>16.768945<\/td>\n",
       "      <td>0<\/td>\n",
       "    <\/tr>\n",
       "    <tr>\n",
       "      <th>1784<\/th>\n",
       "      <td>50279.262429<\/td>\n",
       "      <td>5.905056<\/td>\n",
       "      <td>415.450810<\/td>\n",
       "      <td>11.949854<\/td>\n",
       "      <td>0<\/td>\n",
       "    <\/tr>\n",
       "    <tr>\n",
       "      <th>3061<\/th>\n",
       "      <td>40175.206091<\/td>\n",
       "      <td>7.487423<\/td>\n",
       "      <td>309.800796<\/td>\n",
       "      <td>11.186739<\/td>\n",
       "      <td>0<\/td>\n",
       "    <\/tr>\n",
       "    <tr>\n",
       "      <th>2779<\/th>\n",
       "      <td>21379.963927<\/td>\n",
       "      <td>5.407692<\/td>\n",
       "      <td>227.665635<\/td>\n",
       "      <td>15.772334<\/td>\n",
       "      <td>1<\/td>\n",
       "    <\/tr>\n",
       "  <\/tbody>\n",
       "<\/table>\n",
       "<\/div>"
      ]
     },
     "metadata":{
      
     },
     "output_type":"display_data"
    }
   ],
   "metadata":{
    "datalore":{
     "type":"CODE",
     "hide_input_from_viewers":false,
     "hide_output_from_viewers":false
    }
   }
  },
  {
   "cell_type":"code",
   "source":[
    "plot_learning_curve(KNeighborsClassifier(n_neighbors=30), 'n_neighbors=30', \n",
    "                    data_clean2, target, cv=StratifiedShuffleSplit(n_splits=2, test_size=0.25))"
   ],
   "execution_count":null,
   "outputs":[
    {
     "data":{
      "text\/plain":[
       "<module 'matplotlib.pyplot' from '\/opt\/python\/envs\/default\/lib\/python3.8\/site-packages\/matplotlib\/pyplot.py'>"
      ],
      "image\/png":"[encoded data removed]"
     },
     "metadata":{
      "image\/png":{
       
      }
     },
     "output_type":"display_data"
    }
   ],
   "metadata":{
    "datalore":{
     "type":"CODE",
     "hide_input_from_viewers":false,
     "hide_output_from_viewers":false
    }
   }
  },
  {
   "cell_type":"code",
   "source":[
    "plot_validation_curve(KNeighborsClassifier(n_neighbors=30), 'knn', \n",
    "                      data_clean2, target, \n",
    "                      param_name='n_neighbors', param_range=n_range, \n",
    "                      cv=StratifiedShuffleSplit(n_splits=2, test_size=0.25), scoring=\"accuracy\")"
   ],
   "execution_count":null,
   "outputs":[
    {
     "data":{
      "text\/plain":[
       "<module 'matplotlib.pyplot' from '\/opt\/python\/envs\/default\/lib\/python3.8\/site-packages\/matplotlib\/pyplot.py'>"
      ],
      "image\/png":"[encoded data removed]"
     },
     "metadata":{
      "image\/png":{
       
      }
     },
     "output_type":"display_data"
    }
   ],
   "metadata":{
    "datalore":{
     "type":"CODE",
     "hide_input_from_viewers":false,
     "hide_output_from_viewers":false
    }
   }
  },
  {
   "cell_type":"markdown",
   "source":[
    "### Исходная модель"
   ],
   "attachments":{
    
   },
   "metadata":{
    "datalore":{
     "type":"MD",
     "hide_input_from_viewers":false,
     "hide_output_from_viewers":false
    }
   }
  },
  {
   "cell_type":"code",
   "source":[
    "x_test.shape, x_train.shape, data_clean.shape"
   ],
   "execution_count":null,
   "outputs":[
    {
     "data":{
      "text\/plain":[
       "((656, 5), (2620, 6), (3276, 5))"
      ]
     },
     "metadata":{
      
     },
     "output_type":"display_data"
    }
   ],
   "metadata":{
    "datalore":{
     "type":"CODE",
     "hide_input_from_viewers":false,
     "hide_output_from_viewers":false
    }
   }
  },
  {
   "cell_type":"code",
   "source":[
    "kf4 = LeavePOut(656)\n",
    "model4 = KNeighborsClassifier(n_neighbors=3)\n",
    "for train_index, test_index in kf4.split(data_clean2):\n",
    "  # print(\"TRAIN:\", train_index, \"TEST:\", test_index)\n",
    "  x4_train, x4_test = data_clean2_np[train_index], data_clean2_np[test_index]\n",
    "  y4_train, y4_test = target2[train_index], target2[test_index]\n",
    "  model4.fit(x4_train, y4_train)\n",
    "  m4_predict_test = model4.predict(x4_test)\n",
    "  m4_predict_train = model4.predict(x4_train)\n",
    "  print((accuracy_score(y4_train, m4_predict_train), accuracy_score(y4_test, m4_predict_test)))\n",
    "  break"
   ],
   "execution_count":null,
   "outputs":[
    {
     "name":"stdout",
     "text":[
      "(0.7645038167938931, 0.5838414634146342)\n"
     ],
     "output_type":"stream"
    }
   ],
   "metadata":{
    "datalore":{
     "type":"CODE",
     "hide_input_from_viewers":false,
     "hide_output_from_viewers":false
    }
   }
  },
  {
   "cell_type":"code",
   "source":[
    "model3 = GridSearchCV(KNeighborsClassifier(), tuned_parameters, cv=LeaveOneOut(), scoring='accuracy')\n",
    "model3.fit(data_clean2, target)"
   ],
   "execution_count":null,
   "outputs":[
    {
     "data":{
      "text\/html":[
       "<style>#sk-container-id-4 {color: black;background-color: white;}#sk-container-id-4 pre{padding: 0;}#sk-container-id-4 div.sk-toggleable {background-color: white;}#sk-container-id-4 label.sk-toggleable__label {cursor: pointer;display: block;width: 100%;margin-bottom: 0;padding: 0.3em;box-sizing: border-box;text-align: center;}#sk-container-id-4 label.sk-toggleable__label-arrow:before {content: \"▸\";float: left;margin-right: 0.25em;color: #696969;}#sk-container-id-4 label.sk-toggleable__label-arrow:hover:before {color: black;}#sk-container-id-4 div.sk-estimator:hover label.sk-toggleable__label-arrow:before {color: black;}#sk-container-id-4 div.sk-toggleable__content {max-height: 0;max-width: 0;overflow: hidden;text-align: left;background-color: #f0f8ff;}#sk-container-id-4 div.sk-toggleable__content pre {margin: 0.2em;color: black;border-radius: 0.25em;background-color: #f0f8ff;}#sk-container-id-4 input.sk-toggleable__control:checked~div.sk-toggleable__content {max-height: 200px;max-width: 100%;overflow: auto;}#sk-container-id-4 input.sk-toggleable__control:checked~label.sk-toggleable__label-arrow:before {content: \"▾\";}#sk-container-id-4 div.sk-estimator input.sk-toggleable__control:checked~label.sk-toggleable__label {background-color: #d4ebff;}#sk-container-id-4 div.sk-label input.sk-toggleable__control:checked~label.sk-toggleable__label {background-color: #d4ebff;}#sk-container-id-4 input.sk-hidden--visually {border: 0;clip: rect(1px 1px 1px 1px);clip: rect(1px, 1px, 1px, 1px);height: 1px;margin: -1px;overflow: hidden;padding: 0;position: absolute;width: 1px;}#sk-container-id-4 div.sk-estimator {font-family: monospace;background-color: #f0f8ff;border: 1px dotted black;border-radius: 0.25em;box-sizing: border-box;margin-bottom: 0.5em;}#sk-container-id-4 div.sk-estimator:hover {background-color: #d4ebff;}#sk-container-id-4 div.sk-parallel-item::after {content: \"\";width: 100%;border-bottom: 1px solid gray;flex-grow: 1;}#sk-container-id-4 div.sk-label:hover label.sk-toggleable__label {background-color: #d4ebff;}#sk-container-id-4 div.sk-serial::before {content: \"\";position: absolute;border-left: 1px solid gray;box-sizing: border-box;top: 0;bottom: 0;left: 50%;z-index: 0;}#sk-container-id-4 div.sk-serial {display: flex;flex-direction: column;align-items: center;background-color: white;padding-right: 0.2em;padding-left: 0.2em;position: relative;}#sk-container-id-4 div.sk-item {position: relative;z-index: 1;}#sk-container-id-4 div.sk-parallel {display: flex;align-items: stretch;justify-content: center;background-color: white;position: relative;}#sk-container-id-4 div.sk-item::before, #sk-container-id-4 div.sk-parallel-item::before {content: \"\";position: absolute;border-left: 1px solid gray;box-sizing: border-box;top: 0;bottom: 0;left: 50%;z-index: -1;}#sk-container-id-4 div.sk-parallel-item {display: flex;flex-direction: column;z-index: 1;position: relative;background-color: white;}#sk-container-id-4 div.sk-parallel-item:first-child::after {align-self: flex-end;width: 50%;}#sk-container-id-4 div.sk-parallel-item:last-child::after {align-self: flex-start;width: 50%;}#sk-container-id-4 div.sk-parallel-item:only-child::after {width: 0;}#sk-container-id-4 div.sk-dashed-wrapped {border: 1px dashed gray;margin: 0 0.4em 0.5em 0.4em;box-sizing: border-box;padding-bottom: 0.4em;background-color: white;}#sk-container-id-4 div.sk-label label {font-family: monospace;font-weight: bold;display: inline-block;line-height: 1.2em;}#sk-container-id-4 div.sk-label-container {text-align: center;}#sk-container-id-4 div.sk-container {\/* jupyter's `normalize.less` sets `[hidden] { display: none; }` but bootstrap.min.css set `[hidden] { display: none !important; }` so we also need the `!important` here to be able to override the default hidden behavior on the sphinx rendered scikit-learn.org. See: https:\/\/github.com\/scikit-learn\/scikit-learn\/issues\/21755 *\/display: inline-block !important;position: relative;}#sk-container-id-4 div.sk-text-repr-fallback {display: none;}<\/style><div id=\"sk-container-id-4\" class=\"sk-top-container\"><div class=\"sk-text-repr-fallback\"><pre>GridSearchCV(cv=LeaveOneOut(), estimator=KNeighborsClassifier(),\n",
       "             param_grid=[{&#x27;n_neighbors&#x27;: array([  5,  10,  15,  20,  25,  30,  35,  40,  45,  50,  55,  60,  65,\n",
       "        70,  75,  80,  85,  90,  95, 100])}],\n",
       "             scoring=&#x27;accuracy&#x27;)<\/pre><b>In a Jupyter environment, please rerun this cell to show the HTML representation or trust the notebook. <br \/>On GitHub, the HTML representation is unable to render, please try loading this page with nbviewer.org.<\/b><\/div><div class=\"sk-container\" hidden><div class=\"sk-item sk-dashed-wrapped\"><div class=\"sk-label-container\"><div class=\"sk-label sk-toggleable\"><input class=\"sk-toggleable__control sk-hidden--visually\" id=\"sk-estimator-id-8\" type=\"checkbox\" ><label for=\"sk-estimator-id-8\" class=\"sk-toggleable__label sk-toggleable__label-arrow\">GridSearchCV<\/label><div class=\"sk-toggleable__content\"><pre>GridSearchCV(cv=LeaveOneOut(), estimator=KNeighborsClassifier(),\n",
       "             param_grid=[{&#x27;n_neighbors&#x27;: array([  5,  10,  15,  20,  25,  30,  35,  40,  45,  50,  55,  60,  65,\n",
       "        70,  75,  80,  85,  90,  95, 100])}],\n",
       "             scoring=&#x27;accuracy&#x27;)<\/pre><\/div><\/div><\/div><div class=\"sk-parallel\"><div class=\"sk-parallel-item\"><div class=\"sk-item\"><div class=\"sk-label-container\"><div class=\"sk-label sk-toggleable\"><input class=\"sk-toggleable__control sk-hidden--visually\" id=\"sk-estimator-id-9\" type=\"checkbox\" ><label for=\"sk-estimator-id-9\" class=\"sk-toggleable__label sk-toggleable__label-arrow\">estimator: KNeighborsClassifier<\/label><div class=\"sk-toggleable__content\"><pre>KNeighborsClassifier()<\/pre><\/div><\/div><\/div><div class=\"sk-serial\"><div class=\"sk-item\"><div class=\"sk-estimator sk-toggleable\"><input class=\"sk-toggleable__control sk-hidden--visually\" id=\"sk-estimator-id-10\" type=\"checkbox\" ><label for=\"sk-estimator-id-10\" class=\"sk-toggleable__label sk-toggleable__label-arrow\">KNeighborsClassifier<\/label><div class=\"sk-toggleable__content\"><pre>KNeighborsClassifier()<\/pre><\/div><\/div><\/div><\/div><\/div><\/div><\/div><\/div><\/div><\/div>"
      ]
     },
     "metadata":{
      
     },
     "output_type":"display_data"
    }
   ],
   "metadata":{
    "datalore":{
     "type":"CODE",
     "hide_input_from_viewers":false,
     "hide_output_from_viewers":false
    }
   }
  },
  {
   "cell_type":"markdown",
   "source":[
    "### Проверка качества с помощью LeaveOneOut"
   ],
   "attachments":{
    
   },
   "metadata":{
    "datalore":{
     "type":"MD",
     "hide_input_from_viewers":false,
     "hide_output_from_viewers":false
    }
   }
  },
  {
   "cell_type":"code",
   "source":[
    "# Оценка качества модели с использованием кросс-валидации\n",
    "scores2 = cross_val_score(KNeighborsClassifier(n_neighbors=50), \n",
    "                         data_clean2, target, \n",
    "                         cv=LeaveOneOut())"
   ],
   "execution_count":null,
   "outputs":[
    
   ],
   "metadata":{
    "datalore":{
     "type":"CODE",
     "hide_input_from_viewers":false,
     "hide_output_from_viewers":false
    }
   }
  },
  {
   "cell_type":"code",
   "source":[
    "scores2, np.mean(scores2)"
   ],
   "execution_count":null,
   "outputs":[
    {
     "data":{
      "text\/plain":[
       "(array([1., 1., 1., ..., 0., 0., 0.]), 0.5952380952380952)"
      ]
     },
     "metadata":{
      
     },
     "output_type":"display_data"
    }
   ],
   "metadata":{
    "datalore":{
     "type":"CODE",
     "hide_input_from_viewers":false,
     "hide_output_from_viewers":false
    }
   }
  },
  {
   "cell_type":"code",
   "source":[
    "model3 = GridSearchCV(KNeighborsClassifier(), tuned_parameters, cv=LeaveOneOut(), scoring='accuracy')\n",
    "model3.fit(data_clean2, target)"
   ],
   "execution_count":null,
   "outputs":[
    {
     "data":{
      "text\/html":[
       "<style>#sk-container-id-5 {color: black;background-color: white;}#sk-container-id-5 pre{padding: 0;}#sk-container-id-5 div.sk-toggleable {background-color: white;}#sk-container-id-5 label.sk-toggleable__label {cursor: pointer;display: block;width: 100%;margin-bottom: 0;padding: 0.3em;box-sizing: border-box;text-align: center;}#sk-container-id-5 label.sk-toggleable__label-arrow:before {content: \"▸\";float: left;margin-right: 0.25em;color: #696969;}#sk-container-id-5 label.sk-toggleable__label-arrow:hover:before {color: black;}#sk-container-id-5 div.sk-estimator:hover label.sk-toggleable__label-arrow:before {color: black;}#sk-container-id-5 div.sk-toggleable__content {max-height: 0;max-width: 0;overflow: hidden;text-align: left;background-color: #f0f8ff;}#sk-container-id-5 div.sk-toggleable__content pre {margin: 0.2em;color: black;border-radius: 0.25em;background-color: #f0f8ff;}#sk-container-id-5 input.sk-toggleable__control:checked~div.sk-toggleable__content {max-height: 200px;max-width: 100%;overflow: auto;}#sk-container-id-5 input.sk-toggleable__control:checked~label.sk-toggleable__label-arrow:before {content: \"▾\";}#sk-container-id-5 div.sk-estimator input.sk-toggleable__control:checked~label.sk-toggleable__label {background-color: #d4ebff;}#sk-container-id-5 div.sk-label input.sk-toggleable__control:checked~label.sk-toggleable__label {background-color: #d4ebff;}#sk-container-id-5 input.sk-hidden--visually {border: 0;clip: rect(1px 1px 1px 1px);clip: rect(1px, 1px, 1px, 1px);height: 1px;margin: -1px;overflow: hidden;padding: 0;position: absolute;width: 1px;}#sk-container-id-5 div.sk-estimator {font-family: monospace;background-color: #f0f8ff;border: 1px dotted black;border-radius: 0.25em;box-sizing: border-box;margin-bottom: 0.5em;}#sk-container-id-5 div.sk-estimator:hover {background-color: #d4ebff;}#sk-container-id-5 div.sk-parallel-item::after {content: \"\";width: 100%;border-bottom: 1px solid gray;flex-grow: 1;}#sk-container-id-5 div.sk-label:hover label.sk-toggleable__label {background-color: #d4ebff;}#sk-container-id-5 div.sk-serial::before {content: \"\";position: absolute;border-left: 1px solid gray;box-sizing: border-box;top: 0;bottom: 0;left: 50%;z-index: 0;}#sk-container-id-5 div.sk-serial {display: flex;flex-direction: column;align-items: center;background-color: white;padding-right: 0.2em;padding-left: 0.2em;position: relative;}#sk-container-id-5 div.sk-item {position: relative;z-index: 1;}#sk-container-id-5 div.sk-parallel {display: flex;align-items: stretch;justify-content: center;background-color: white;position: relative;}#sk-container-id-5 div.sk-item::before, #sk-container-id-5 div.sk-parallel-item::before {content: \"\";position: absolute;border-left: 1px solid gray;box-sizing: border-box;top: 0;bottom: 0;left: 50%;z-index: -1;}#sk-container-id-5 div.sk-parallel-item {display: flex;flex-direction: column;z-index: 1;position: relative;background-color: white;}#sk-container-id-5 div.sk-parallel-item:first-child::after {align-self: flex-end;width: 50%;}#sk-container-id-5 div.sk-parallel-item:last-child::after {align-self: flex-start;width: 50%;}#sk-container-id-5 div.sk-parallel-item:only-child::after {width: 0;}#sk-container-id-5 div.sk-dashed-wrapped {border: 1px dashed gray;margin: 0 0.4em 0.5em 0.4em;box-sizing: border-box;padding-bottom: 0.4em;background-color: white;}#sk-container-id-5 div.sk-label label {font-family: monospace;font-weight: bold;display: inline-block;line-height: 1.2em;}#sk-container-id-5 div.sk-label-container {text-align: center;}#sk-container-id-5 div.sk-container {\/* jupyter's `normalize.less` sets `[hidden] { display: none; }` but bootstrap.min.css set `[hidden] { display: none !important; }` so we also need the `!important` here to be able to override the default hidden behavior on the sphinx rendered scikit-learn.org. See: https:\/\/github.com\/scikit-learn\/scikit-learn\/issues\/21755 *\/display: inline-block !important;position: relative;}#sk-container-id-5 div.sk-text-repr-fallback {display: none;}<\/style><div id=\"sk-container-id-5\" class=\"sk-top-container\"><div class=\"sk-text-repr-fallback\"><pre>GridSearchCV(cv=LeaveOneOut(), estimator=KNeighborsClassifier(),\n",
       "             param_grid=[{&#x27;n_neighbors&#x27;: array([  5,  10,  15,  20,  25,  30,  35,  40,  45,  50,  55,  60,  65,\n",
       "        70,  75,  80,  85,  90,  95, 100])}],\n",
       "             scoring=&#x27;accuracy&#x27;)<\/pre><b>In a Jupyter environment, please rerun this cell to show the HTML representation or trust the notebook. <br \/>On GitHub, the HTML representation is unable to render, please try loading this page with nbviewer.org.<\/b><\/div><div class=\"sk-container\" hidden><div class=\"sk-item sk-dashed-wrapped\"><div class=\"sk-label-container\"><div class=\"sk-label sk-toggleable\"><input class=\"sk-toggleable__control sk-hidden--visually\" id=\"sk-estimator-id-11\" type=\"checkbox\" ><label for=\"sk-estimator-id-11\" class=\"sk-toggleable__label sk-toggleable__label-arrow\">GridSearchCV<\/label><div class=\"sk-toggleable__content\"><pre>GridSearchCV(cv=LeaveOneOut(), estimator=KNeighborsClassifier(),\n",
       "             param_grid=[{&#x27;n_neighbors&#x27;: array([  5,  10,  15,  20,  25,  30,  35,  40,  45,  50,  55,  60,  65,\n",
       "        70,  75,  80,  85,  90,  95, 100])}],\n",
       "             scoring=&#x27;accuracy&#x27;)<\/pre><\/div><\/div><\/div><div class=\"sk-parallel\"><div class=\"sk-parallel-item\"><div class=\"sk-item\"><div class=\"sk-label-container\"><div class=\"sk-label sk-toggleable\"><input class=\"sk-toggleable__control sk-hidden--visually\" id=\"sk-estimator-id-12\" type=\"checkbox\" ><label for=\"sk-estimator-id-12\" class=\"sk-toggleable__label sk-toggleable__label-arrow\">estimator: KNeighborsClassifier<\/label><div class=\"sk-toggleable__content\"><pre>KNeighborsClassifier()<\/pre><\/div><\/div><\/div><div class=\"sk-serial\"><div class=\"sk-item\"><div class=\"sk-estimator sk-toggleable\"><input class=\"sk-toggleable__control sk-hidden--visually\" id=\"sk-estimator-id-13\" type=\"checkbox\" ><label for=\"sk-estimator-id-13\" class=\"sk-toggleable__label sk-toggleable__label-arrow\">KNeighborsClassifier<\/label><div class=\"sk-toggleable__content\"><pre>KNeighborsClassifier()<\/pre><\/div><\/div><\/div><\/div><\/div><\/div><\/div><\/div><\/div><\/div>"
      ]
     },
     "metadata":{
      
     },
     "output_type":"display_data"
    }
   ],
   "metadata":{
    "datalore":{
     "type":"CODE",
     "hide_input_from_viewers":false,
     "hide_output_from_viewers":false
    }
   }
  },
  {
   "cell_type":"code",
   "source":[
    "model3.best_estimator_"
   ],
   "execution_count":null,
   "outputs":[
    {
     "data":{
      "text\/html":[
       "<style>#sk-container-id-6 {color: black;background-color: white;}#sk-container-id-6 pre{padding: 0;}#sk-container-id-6 div.sk-toggleable {background-color: white;}#sk-container-id-6 label.sk-toggleable__label {cursor: pointer;display: block;width: 100%;margin-bottom: 0;padding: 0.3em;box-sizing: border-box;text-align: center;}#sk-container-id-6 label.sk-toggleable__label-arrow:before {content: \"▸\";float: left;margin-right: 0.25em;color: #696969;}#sk-container-id-6 label.sk-toggleable__label-arrow:hover:before {color: black;}#sk-container-id-6 div.sk-estimator:hover label.sk-toggleable__label-arrow:before {color: black;}#sk-container-id-6 div.sk-toggleable__content {max-height: 0;max-width: 0;overflow: hidden;text-align: left;background-color: #f0f8ff;}#sk-container-id-6 div.sk-toggleable__content pre {margin: 0.2em;color: black;border-radius: 0.25em;background-color: #f0f8ff;}#sk-container-id-6 input.sk-toggleable__control:checked~div.sk-toggleable__content {max-height: 200px;max-width: 100%;overflow: auto;}#sk-container-id-6 input.sk-toggleable__control:checked~label.sk-toggleable__label-arrow:before {content: \"▾\";}#sk-container-id-6 div.sk-estimator input.sk-toggleable__control:checked~label.sk-toggleable__label {background-color: #d4ebff;}#sk-container-id-6 div.sk-label input.sk-toggleable__control:checked~label.sk-toggleable__label {background-color: #d4ebff;}#sk-container-id-6 input.sk-hidden--visually {border: 0;clip: rect(1px 1px 1px 1px);clip: rect(1px, 1px, 1px, 1px);height: 1px;margin: -1px;overflow: hidden;padding: 0;position: absolute;width: 1px;}#sk-container-id-6 div.sk-estimator {font-family: monospace;background-color: #f0f8ff;border: 1px dotted black;border-radius: 0.25em;box-sizing: border-box;margin-bottom: 0.5em;}#sk-container-id-6 div.sk-estimator:hover {background-color: #d4ebff;}#sk-container-id-6 div.sk-parallel-item::after {content: \"\";width: 100%;border-bottom: 1px solid gray;flex-grow: 1;}#sk-container-id-6 div.sk-label:hover label.sk-toggleable__label {background-color: #d4ebff;}#sk-container-id-6 div.sk-serial::before {content: \"\";position: absolute;border-left: 1px solid gray;box-sizing: border-box;top: 0;bottom: 0;left: 50%;z-index: 0;}#sk-container-id-6 div.sk-serial {display: flex;flex-direction: column;align-items: center;background-color: white;padding-right: 0.2em;padding-left: 0.2em;position: relative;}#sk-container-id-6 div.sk-item {position: relative;z-index: 1;}#sk-container-id-6 div.sk-parallel {display: flex;align-items: stretch;justify-content: center;background-color: white;position: relative;}#sk-container-id-6 div.sk-item::before, #sk-container-id-6 div.sk-parallel-item::before {content: \"\";position: absolute;border-left: 1px solid gray;box-sizing: border-box;top: 0;bottom: 0;left: 50%;z-index: -1;}#sk-container-id-6 div.sk-parallel-item {display: flex;flex-direction: column;z-index: 1;position: relative;background-color: white;}#sk-container-id-6 div.sk-parallel-item:first-child::after {align-self: flex-end;width: 50%;}#sk-container-id-6 div.sk-parallel-item:last-child::after {align-self: flex-start;width: 50%;}#sk-container-id-6 div.sk-parallel-item:only-child::after {width: 0;}#sk-container-id-6 div.sk-dashed-wrapped {border: 1px dashed gray;margin: 0 0.4em 0.5em 0.4em;box-sizing: border-box;padding-bottom: 0.4em;background-color: white;}#sk-container-id-6 div.sk-label label {font-family: monospace;font-weight: bold;display: inline-block;line-height: 1.2em;}#sk-container-id-6 div.sk-label-container {text-align: center;}#sk-container-id-6 div.sk-container {\/* jupyter's `normalize.less` sets `[hidden] { display: none; }` but bootstrap.min.css set `[hidden] { display: none !important; }` so we also need the `!important` here to be able to override the default hidden behavior on the sphinx rendered scikit-learn.org. See: https:\/\/github.com\/scikit-learn\/scikit-learn\/issues\/21755 *\/display: inline-block !important;position: relative;}#sk-container-id-6 div.sk-text-repr-fallback {display: none;}<\/style><div id=\"sk-container-id-6\" class=\"sk-top-container\"><div class=\"sk-text-repr-fallback\"><pre>KNeighborsClassifier(n_neighbors=35)<\/pre><b>In a Jupyter environment, please rerun this cell to show the HTML representation or trust the notebook. <br \/>On GitHub, the HTML representation is unable to render, please try loading this page with nbviewer.org.<\/b><\/div><div class=\"sk-container\" hidden><div class=\"sk-item\"><div class=\"sk-estimator sk-toggleable\"><input class=\"sk-toggleable__control sk-hidden--visually\" id=\"sk-estimator-id-14\" type=\"checkbox\" checked><label for=\"sk-estimator-id-14\" class=\"sk-toggleable__label sk-toggleable__label-arrow\">KNeighborsClassifier<\/label><div class=\"sk-toggleable__content\"><pre>KNeighborsClassifier(n_neighbors=35)<\/pre><\/div><\/div><\/div><\/div><\/div>"
      ]
     },
     "metadata":{
      
     },
     "output_type":"display_data"
    }
   ],
   "metadata":{
    "datalore":{
     "type":"CODE",
     "hide_input_from_viewers":false,
     "hide_output_from_viewers":false
    }
   }
  },
  {
   "cell_type":"code",
   "source":[
    "model3.best_params_, model3.best_score_"
   ],
   "execution_count":null,
   "outputs":[
    {
     "data":{
      "text\/plain":[
       "({'n_neighbors': 35}, 0.6062271062271062)"
      ]
     },
     "metadata":{
      
     },
     "output_type":"display_data"
    }
   ],
   "metadata":{
    "datalore":{
     "type":"CODE",
     "hide_input_from_viewers":false,
     "hide_output_from_viewers":false
    }
   }
  },
  {
   "cell_type":"code",
   "source":[
    "# Обучение модели и оценка качества с учетом подобранных гиперпараметров\n",
    "model3.best_estimator_.fit(x_train[['Solids','Chloramines', 'Sulfate', 'Organic_carbon']], y_train)\n",
    "target2_0 = model3.best_estimator_.predict(x_train[['Solids','Chloramines', 'Sulfate', 'Organic_carbon']])\n",
    "target2_1 = model3.best_estimator_.predict(x_test[['Solids','Chloramines', 'Sulfate', 'Organic_carbon']])"
   ],
   "execution_count":null,
   "outputs":[
    
   ],
   "metadata":{
    "datalore":{
     "type":"CODE",
     "hide_input_from_viewers":false,
     "hide_output_from_viewers":false
    }
   }
  },
  {
   "cell_type":"code",
   "source":[
    "# Новое качество модели\n",
    "accuracy_score(y_train, target2_0), accuracy_score(y_test, target2_1)"
   ],
   "execution_count":null,
   "outputs":[
    {
     "data":{
      "text\/plain":[
       "(0.6229007633587786, 0.5655487804878049)"
      ]
     },
     "metadata":{
      
     },
     "output_type":"display_data"
    }
   ],
   "metadata":{
    "datalore":{
     "type":"CODE",
     "hide_input_from_viewers":false,
     "hide_output_from_viewers":false
    }
   }
  },
  {
   "cell_type":"markdown",
   "source":[
    "### Проверка для малого количества соседей"
   ],
   "attachments":{
    
   },
   "metadata":{
    "datalore":{
     "type":"MD",
     "hide_input_from_viewers":false,
     "hide_output_from_viewers":false
    }
   }
  },
  {
   "cell_type":"code",
   "source":[
    "# массив гиперпараметров для проверки\n",
    "n_range2 = np.array(range(1,10,1))\n",
    "tuned_parameters2 = [{'n_neighbors': n_range2}]\n",
    "tuned_parameters2, len(n_range2)"
   ],
   "execution_count":null,
   "outputs":[
    {
     "data":{
      "text\/plain":[
       "([{'n_neighbors': array([1, 2, 3, 4, 5, 6, 7, 8, 9])}], 9)"
      ]
     },
     "metadata":{
      
     },
     "output_type":"display_data"
    }
   ],
   "metadata":{
    "datalore":{
     "type":"CODE",
     "hide_input_from_viewers":false,
     "hide_output_from_viewers":false
    }
   }
  },
  {
   "cell_type":"code",
   "source":[
    "n_splits_arr2 = [2, 3, 5, 10]\n",
    "scores_all2 = []\n",
    "for n_splits in n_splits_arr2:\n",
    "  cv_strategies = [('KFold', KFold(n_splits=n_splits)), ('ShuffleSplit', ShuffleSplit(n_splits=n_splits, test_size=0.25)), \\\n",
    "                    ('StratifiedKFold', StratifiedKFold(n_splits=n_splits)), ('StratifiedShuffleSplit', StratifiedShuffleSplit(n_splits=n_splits))]\n",
    "\n",
    "  for cv_strategy in cv_strategies:\n",
    "    gs_model = GridSearchCV(KNeighborsClassifier(), tuned_parameters2, cv=cv_strategy[1], scoring='accuracy')\n",
    "    gs_model.fit(data_clean2, target)\n",
    "    scores_all2.append({\n",
    "        'score': gs_model.best_score_,\n",
    "        'model' : gs_model.best_estimator_,\n",
    "        'n_splits' : n_splits,\n",
    "        'cv_strategy' : cv_strategy[0],\n",
    "        })"
   ],
   "execution_count":null,
   "outputs":[
    
   ],
   "metadata":{
    "datalore":{
     "type":"CODE",
     "hide_input_from_viewers":false,
     "hide_output_from_viewers":false
    }
   }
  },
  {
   "cell_type":"code",
   "source":[
    "scores_sorted2 = sorted(scores_all2, key=lambda val: val['score'])\n",
    "scores_sorted2[-1]"
   ],
   "execution_count":null,
   "outputs":[
    {
     "data":{
      "text\/plain":[
       "{'score': 0.5967032967032967,\n",
       " 'model': KNeighborsClassifier(n_neighbors=2),\n",
       " 'n_splits': 10,\n",
       " 'cv_strategy': 'ShuffleSplit'}"
      ]
     },
     "metadata":{
      
     },
     "output_type":"display_data"
    }
   ],
   "metadata":{
    "datalore":{
     "type":"CODE",
     "hide_input_from_viewers":false,
     "hide_output_from_viewers":false
    }
   }
  }
 ],
 "metadata":{
  "datalore":{
   "version":1,
   "computation_mode":"JUPYTER",
   "package_manager":"pip",
   "base_environment":"default",
   "packages":[
    {
     "name":"imblearn",
     "source":"PIP"
    }
   ]
  }
 },
 "nbformat":4,
 "nbformat_minor":4
}